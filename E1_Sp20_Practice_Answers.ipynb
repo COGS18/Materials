{
 "cells": [
  {
   "cell_type": "markdown",
   "metadata": {
    "nbgrader": {
     "grade": false,
     "grade_id": "cell-dee83f4fa4efc49d",
     "locked": true,
     "schema_version": 3,
     "solution": false
    }
   },
   "source": [
    "# COGS 108 - Practice Exam\n",
    "\n",
    "This is the practice exam for Spring 2020. It covers topics through the Encodings Lecture.\n",
    "\n",
    "This exam is out of 0 points, worth 0% of your grade, but the real thing will be out of 20 points.\n",
    "\n",
    "**PLEASE DO NOT CHANGE THE NAME OF THIS FILE.**\n",
    "\n",
    "**PLEASE DO NOT COPY & PASTE OR DELETE CELLS INLCUDED IN THE ASSIGNMENT.** (Note that you can add additional cells, if you want to test things out."
   ]
  },
  {
   "cell_type": "markdown",
   "metadata": {
    "nbgrader": {
     "grade": false,
     "grade_id": "cell-d84a1b89ff1424e6",
     "locked": true,
     "schema_version": 3,
     "solution": false
    }
   },
   "source": [
    "## Instructions\n",
    "^ these are the instructions you will see on your real exam\n",
    "\n",
    "#### Timing\n",
    "- The exam is designed to take you 50 minutes.\n",
    "- There will be a 24 hour window during which you can complete this exam.\n",
    "- If it takes you longer than 50 minutes, you're free to use that time.\n",
    "\n",
    "#### The Rules\n",
    "- You are to complete this exam on your own.\n",
    "- This is open-notes & open-Google\n",
    "- You may not talk to any humans about this exam. \n",
    "- The following are all *prohibited*:\n",
    "    - text/phone/online chat communication\n",
    "    - posting questions to a message board where a human could respond\n",
    "    - asking anyone via any form about a question on this test directly\n",
    "- Clarification questions will ***not*** be allowed and there will be no posting on Piazza about the exam at all. \n",
    "    - Piazza posts about the exam will not be answered and will be deleted. \n",
    "    - Students who post questions about the exam to Piazza are at risk of losing points on the exam.\n",
    "    - If you are confused about wording, add a note to your exam explaining your confusion and how you interpreted the question. \n",
    "    - Note: This policy is b/c we are incapable of responding for 24h straight. This is the only way to make it fair across the board for students."
   ]
  },
  {
   "cell_type": "markdown",
   "metadata": {
    "nbgrader": {
     "grade": false,
     "grade_id": "cell-67b477fe413ddd29",
     "locked": true,
     "schema_version": 3,
     "solution": false
    }
   },
   "source": [
    "## Part 1: Variables & Operators (6 points)\n",
    "^ The headers and point values correspond to the actual headers and point values you'll have for each section on your exam"
   ]
  },
  {
   "cell_type": "markdown",
   "metadata": {
    "nbgrader": {
     "grade": false,
     "grade_id": "cell-648c538aaa34a8e6",
     "locked": true,
     "schema_version": 3,
     "solution": false
    }
   },
   "source": [
    "### Example Q1 - Variables & Operators \n",
    "\n",
    "#### Part 1 (0.6 points)\n",
    "\n",
    "In the cell below, create three variables: `var_a`, `var_b`, and `var_c`.\n",
    "\n",
    "These variables must satisfy the following requirements:\n",
    "\n",
    "1. `var_a` must store a float (you get to choose the specific float)\n",
    "2. `var_b` must use *at least two* of the comparison operators (`<`,`>`,`<=`,`>=`,`!=`,`==`) and store (return) the value `True`. \n",
    "3. `var_c` must use *at least two* of the math operators (`+`, `-`, `/`, `*`, `**`, `%`, `//`) and store the value 36"
   ]
  },
  {
   "cell_type": "code",
   "execution_count": 1,
   "metadata": {
    "nbgrader": {
     "grade": false,
     "grade_id": "cell-9838f1e7760f2339",
     "locked": false,
     "schema_version": 3,
     "solution": true
    }
   },
   "outputs": [],
   "source": [
    "# actual variable creation will differ\n",
    "var_a = 7.3\n",
    "var_b = 6 == 6 and 3 <= 4\n",
    "var_c = (6 + 3) * 4"
   ]
  },
  {
   "cell_type": "code",
   "execution_count": 10,
   "metadata": {
    "nbgrader": {
     "grade": true,
     "grade_id": "cell-b8e0ad19e06f8f4e",
     "locked": true,
     "points": 0,
     "schema_version": 3,
     "solution": false
    }
   },
   "outputs": [],
   "source": [
    "# check variable exists\n",
    "assert var_a is not None\n",
    "\n",
    "### BEGIN HIDDEN TESTS\n",
    "assert isinstance(var_a, float)\n",
    "### END HIDDEN TESTS"
   ]
  },
  {
   "cell_type": "code",
   "execution_count": 11,
   "metadata": {
    "nbgrader": {
     "grade": true,
     "grade_id": "cell-923642821412100b",
     "locked": true,
     "points": 0,
     "schema_version": 3,
     "solution": false
    }
   },
   "outputs": [],
   "source": [
    "assert isinstance(var_b, bool)\n",
    "\n",
    "### BEGIN HIDDEN TESTS\n",
    "assert var_b \n",
    "### END HIDDEN TESTS"
   ]
  },
  {
   "cell_type": "code",
   "execution_count": 12,
   "metadata": {
    "nbgrader": {
     "grade": true,
     "grade_id": "cell-e6967925a5e8087c",
     "locked": true,
     "points": 0,
     "schema_version": 3,
     "solution": false
    }
   },
   "outputs": [],
   "source": [
    "# check variable exists\n",
    "assert var_c is not None\n",
    "\n",
    "### BEGIN HIDDEN TESTS\n",
    "assert var_c == 36\n",
    "### END HIDDEN TESTS"
   ]
  },
  {
   "cell_type": "markdown",
   "metadata": {
    "nbgrader": {
     "grade": false,
     "grade_id": "cell-468ebbcd5ee201ba",
     "locked": true,
     "points": 0.4,
     "schema_version": 3,
     "solution": false,
     "task": true
    }
   },
   "source": [
    "#### Part 2 (0.4 points)\n",
    "\n",
    "In the cell below explain, for the `var_b` you created in Part I, explain in words what your code is doing and the logic behind it. \n",
    "\n",
    "=== BEGIN MARK SCHEME ===\n",
    "\n",
    "- logic of operators used explained correctly (0.2)\n",
    "- two comparison operators used (0.2)\n",
    "\n",
    "=== END MARK SCHEME ===\n"
   ]
  },
  {
   "cell_type": "markdown",
   "metadata": {},
   "source": [
    "Answer: In my creation of `var_b` (`var_b = 6 == 6 and 3 <= 4`) I tested whether the value 6 is equal to 6 (which it is, so the left side of the `and` will be `True`. On the right hand side, I test whether 3 is less than or equal to 4, which is also True, this `True and True` will be True.\n"
   ]
  },
  {
   "cell_type": "markdown",
   "metadata": {
    "nbgrader": {
     "grade": false,
     "grade_id": "cell-dd772f325aeed313",
     "locked": true,
     "schema_version": 3,
     "solution": false
    }
   },
   "source": [
    "## Part 2: Indexing  (3 points)"
   ]
  },
  {
   "cell_type": "markdown",
   "metadata": {
    "nbgrader": {
     "grade": false,
     "grade_id": "cell-e1e679b600fffa0a",
     "locked": true,
     "schema_version": 3,
     "solution": false
    }
   },
   "source": [
    "### Example Q2 - Indexing\n",
    "\n",
    "Given a the list `my_list` provided below, include code below *using indexing* to return the values specified below from `my_list`.\n",
    "\n",
    "\n",
    "1. In `list_a`, index `my_list` such that it will store (return) `['c', 'd']`\n",
    "2. In `list_b`, index `my_list` such that it will store (return) `['a', 'c', 'e']`"
   ]
  },
  {
   "cell_type": "code",
   "execution_count": 13,
   "metadata": {
    "nbgrader": {
     "grade": false,
     "grade_id": "cell-f48b2de4d459c3a0",
     "locked": false,
     "schema_version": 3,
     "solution": true
    }
   },
   "outputs": [],
   "source": [
    "# my_list is provided for you\n",
    "my_list = ['a', 'b', 'c', 'd', 'e']\n",
    "\n",
    "# specific indexing approaches may differ\n",
    "list_a = my_list[2:4]\n",
    "list_b = my_list[0::2]"
   ]
  },
  {
   "cell_type": "code",
   "execution_count": 14,
   "metadata": {
    "nbgrader": {
     "grade": true,
     "grade_id": "cell-74d84403f448609d",
     "locked": true,
     "points": 0,
     "schema_version": 3,
     "solution": false
    }
   },
   "outputs": [],
   "source": [
    "assert isinstance(list_a, list)\n",
    "\n",
    "### BEGIN HIDDEN TESTS\n",
    "assert list_a == ['c', 'd']\n",
    "### END HIDDEN TESTS"
   ]
  },
  {
   "cell_type": "code",
   "execution_count": 15,
   "metadata": {
    "nbgrader": {
     "grade": true,
     "grade_id": "cell-8135dae390974663",
     "locked": true,
     "points": 0,
     "schema_version": 3,
     "solution": false
    }
   },
   "outputs": [],
   "source": [
    "assert isinstance(list_b, list)\n",
    "\n",
    "### BEGIN HIDDEN TESTS\n",
    "assert list_b == ['a', 'c', 'e']\n",
    "### END HIDDEN TESTS"
   ]
  },
  {
   "cell_type": "markdown",
   "metadata": {
    "nbgrader": {
     "grade": false,
     "grade_id": "cell-fe3e8da39d3f07ef",
     "locked": true,
     "points": 0.7,
     "schema_version": 3,
     "solution": false,
     "task": true
    }
   },
   "source": [
    "**This \"blank\" cell included intentionally.** Do not do anything here. (It's being used in grading.)\n",
    "\n",
    "\n",
    "=== BEGIN MARK SCHEME ===\n",
    "\n",
    "- list_a indexed and not hard coded\n",
    "\n",
    "=== END MARK SCHEME ===\n"
   ]
  },
  {
   "cell_type": "markdown",
   "metadata": {
    "nbgrader": {
     "grade": false,
     "grade_id": "cell-08558daba596965c",
     "locked": true,
     "schema_version": 3,
     "solution": false
    }
   },
   "source": [
    "## Part 3: Control Flow - Conditionals & Loops  (11 points)"
   ]
  },
  {
   "cell_type": "markdown",
   "metadata": {
    "nbgrader": {
     "grade": false,
     "grade_id": "cell-16c3665100b9d3e0",
     "locked": true,
     "schema_version": 3,
     "solution": false
    }
   },
   "source": [
    "### Example Q3 - `while` loop\n",
    "\n",
    "Include code in your answer below that:\n",
    "\n",
    "1. Creates (initializes) a counter `counter` that starts at 0\n",
    "2. Creates (initializes) an empty list `out`\n",
    "3. Creates a loop that will run as long as the value of `counter` is less than or equal to 10\n",
    "    - Within the loop:\n",
    "        - first: if the value of `counter` is odd, `append` the value of `counter` to the list `out`\n",
    "        - then: increase the value of `counter` by 1 each time through the loop "
   ]
  },
  {
   "cell_type": "code",
   "execution_count": 17,
   "metadata": {
    "nbgrader": {
     "grade": false,
     "grade_id": "cell-cc7b7de76987f097",
     "locked": false,
     "schema_version": 3,
     "solution": true
    }
   },
   "outputs": [],
   "source": [
    "out = []\n",
    "counter = 0 \n",
    "\n",
    "while counter <= 10: \n",
    "    if counter % 2 != 0:\n",
    "        out.append(counter)\n",
    "\n",
    "    counter += 1\n"
   ]
  },
  {
   "cell_type": "code",
   "execution_count": 21,
   "metadata": {
    "nbgrader": {
     "grade": true,
     "grade_id": "cell-b97c5d995d630ec6",
     "locked": true,
     "points": 0,
     "schema_version": 3,
     "solution": false
    }
   },
   "outputs": [],
   "source": [
    "assert counter > 0 & counter < 100\n",
    "\n",
    "### BEGIN HIDDEN TESTS\n",
    "assert counter == 11\n",
    "### END HIDDEN TESTS"
   ]
  },
  {
   "cell_type": "code",
   "execution_count": 23,
   "metadata": {
    "nbgrader": {
     "grade": true,
     "grade_id": "cell-4775c78a819a4bbc",
     "locked": true,
     "points": 0,
     "schema_version": 3,
     "solution": false
    }
   },
   "outputs": [],
   "source": [
    "assert isinstance(out, list)\n",
    "\n",
    "### BEGIN HIDDEN TESTS\n",
    "assert out == [1, 3, 5, 7, 9]\n",
    "### END HIDDEN TESTS"
   ]
  },
  {
   "cell_type": "markdown",
   "metadata": {
    "nbgrader": {
     "grade": false,
     "grade_id": "cell-afb5d32ea3790f9b",
     "locked": true,
     "schema_version": 3,
     "solution": false
    }
   },
   "source": [
    "### Submit on Datahub\n",
    "\n",
    "Good work - you're done!\n",
    "\n",
    "Check your work, and then when you're ready, **submit on datahub**.\n",
    "\n",
    "We will not have your exam until you click submit and see this show up under 'submitted assignments'."
   ]
  }
 ],
 "metadata": {
  "kernelspec": {
   "display_name": "Python 3",
   "language": "python",
   "name": "python3"
  },
  "language_info": {
   "codemirror_mode": {
    "name": "ipython",
    "version": 3
   },
   "file_extension": ".py",
   "mimetype": "text/x-python",
   "name": "python",
   "nbconvert_exporter": "python",
   "pygments_lexer": "ipython3",
   "version": "3.7.0"
  }
 },
 "nbformat": 4,
 "nbformat_minor": 2
}
