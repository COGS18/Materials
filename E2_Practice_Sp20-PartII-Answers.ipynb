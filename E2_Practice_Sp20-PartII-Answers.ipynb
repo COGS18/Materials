{
 "cells": [
  {
   "cell_type": "markdown",
   "metadata": {
    "nbgrader": {
     "grade": false,
     "grade_id": "intro",
     "locked": true,
     "schema_version": 3,
     "solution": false
    }
   },
   "source": [
    "# COGS 18 - Exam 2 (Part II)\n",
    "\n",
    "This is the practice second exam for Spring 2020. It covers topics through the Command Line Lecture.\n",
    "\n",
    "This is worth 0 points and worth 0% of your grade, but the real total exam is out of 20 points, worth 20% of your grade. \n",
    "\n",
    "**PLEASE DO NOT CHANGE THE NAME OF THIS FILE.**\n",
    "\n",
    "**PLEASE DO NOT COPY & PASTE OR DELETE CELLS INLCUDED IN THE ASSIGNMENT.** (Note that you can add additional cells, if you want to test things out."
   ]
  },
  {
   "cell_type": "markdown",
   "metadata": {
    "nbgrader": {
     "grade": false,
     "grade_id": "part2",
     "locked": true,
     "schema_version": 3,
     "solution": false
    }
   },
   "source": [
    "## Part 2: Functions (9 points)"
   ]
  },
  {
   "cell_type": "markdown",
   "metadata": {
    "nbgrader": {
     "grade": false,
     "grade_id": "q5",
     "locked": true,
     "schema_version": 3,
     "solution": false,
     "task": false
    }
   },
   "source": [
    "### Q5 - Function execution (2 points)\n",
    "\n",
    "The cell below includes a function that has been provided for you. After running the cell below (to define this function), execute (use) this function to create the following variable under the specified conditions:\n",
    "\n",
    "1. `max_val_10` | execute the `find_max` function such that the function returns the value 10. "
   ]
  },
  {
   "cell_type": "code",
   "execution_count": 2,
   "metadata": {
    "nbgrader": {
     "grade": false,
     "grade_id": "q5-funct",
     "locked": true,
     "schema_version": 3,
     "solution": false,
     "task": false
    }
   },
   "outputs": [],
   "source": [
    "def find_max(random_list):\n",
    "    \n",
    "    list_max = 0\n",
    "\n",
    "    for number in random_list:\n",
    "        \n",
    "        if number > list_max:\n",
    "            list_max = number\n",
    "            \n",
    "    return list_max"
   ]
  },
  {
   "cell_type": "code",
   "execution_count": 3,
   "metadata": {},
   "outputs": [],
   "source": [
    "# use this cell to test/execute/check your thinking (optional)"
   ]
  },
  {
   "cell_type": "code",
   "execution_count": 4,
   "metadata": {
    "nbgrader": {
     "grade": false,
     "grade_id": "q5-solution",
     "locked": false,
     "schema_version": 3,
     "solution": true,
     "task": false
    }
   },
   "outputs": [],
   "source": [
    "### BEGIN SOLUTION\n",
    "max_val_10 = find_max([1, 2, 10])\n",
    "### END SOLUTION"
   ]
  },
  {
   "cell_type": "code",
   "execution_count": 5,
   "metadata": {
    "nbgrader": {
     "grade": true,
     "grade_id": "q5-test1",
     "locked": true,
     "points": 0,
     "schema_version": 3,
     "solution": false,
     "task": false
    }
   },
   "outputs": [],
   "source": [
    "assert max_val_10 is not None\n",
    "\n",
    "### BEGIN HIDDEN TESTS\n",
    "assert  max_val_10 == 10\n",
    "### END HIDDEN TESTS"
   ]
  },
  {
   "cell_type": "markdown",
   "metadata": {
    "nbgrader": {
     "grade": false,
     "grade_id": "q5-test4",
     "locked": true,
     "points": 0,
     "schema_version": 3,
     "solution": false,
     "task": true
    }
   },
   "source": [
    "**This \"blank\" cell included intentionally.** Do not do anything here. (It's being used in grading.)\n",
    "\n",
    "=== BEGIN MARK SCHEME ===\n",
    "\n",
    "specific rubric used in grading\n",
    "\n",
    "=== END MARK SCHEME ==="
   ]
  },
  {
   "cell_type": "markdown",
   "metadata": {
    "nbgrader": {
     "grade": false,
     "grade_id": "q6",
     "locked": true,
     "schema_version": 3,
     "solution": false
    }
   },
   "source": [
    "### Q6 - `add_list` (3 points)\n",
    "\n",
    "Write a function `add_list` that takes one input parameter `input_list`. Set the default value for `input_list` to be the list [1,2,3].\n",
    "\n",
    "Within the function, write code that will add up all the values in the list, returning the sum of the values in the list and return this sum from the function."
   ]
  },
  {
   "cell_type": "code",
   "execution_count": 6,
   "metadata": {
    "nbgrader": {
     "grade": false,
     "grade_id": "q6-solution",
     "locked": false,
     "schema_version": 3,
     "solution": true
    }
   },
   "outputs": [],
   "source": [
    "### BEGIN SOLUTION\n",
    "def add_list(input_list = [1,2,3]):\n",
    "    output = 0\n",
    "    \n",
    "    for val in input_list:\n",
    "        output += val\n",
    "        \n",
    "    return output\n",
    "### END SOLUTION"
   ]
  },
  {
   "cell_type": "code",
   "execution_count": 59,
   "metadata": {},
   "outputs": [],
   "source": [
    "# use this cell to test/execute/check your function (optional)"
   ]
  },
  {
   "cell_type": "code",
   "execution_count": 9,
   "metadata": {
    "nbgrader": {
     "grade": true,
     "grade_id": "q6-test1",
     "locked": true,
     "points": 0,
     "schema_version": 3,
     "solution": false
    }
   },
   "outputs": [],
   "source": [
    "assert callable(add_list)\n",
    "\n",
    "### BEGIN HIDDEN TESTS\n",
    "assert add_list() == 6\n",
    "assert add_list([4,5]) == 9\n",
    "### END HIDDEN TESTS"
   ]
  },
  {
   "cell_type": "markdown",
   "metadata": {
    "nbgrader": {
     "grade": false,
     "grade_id": "q6-test3",
     "locked": true,
     "points": 0,
     "schema_version": 3,
     "solution": false,
     "task": true
    }
   },
   "source": [
    "**This \"blank\" cell included intentionally.** Do not do anything here. (It's being used in grading.)\n",
    "\n",
    "\n",
    "=== BEGIN MARK SCHEME ===\n",
    "\n",
    "rubric for partial credit\n",
    "\n",
    "=== END MARK SCHEME ==="
   ]
  },
  {
   "cell_type": "markdown",
   "metadata": {
    "nbgrader": {
     "grade": false,
     "grade_id": "q7",
     "locked": true,
     "schema_version": 3,
     "solution": false
    }
   },
   "source": [
    "### Q7 - `another_function` (4 points)\n",
    "\n",
    "The real exam will include another function question here."
   ]
  },
  {
   "cell_type": "markdown",
   "metadata": {
    "nbgrader": {
     "grade": false,
     "grade_id": "cell-4ab8407deca62752",
     "locked": true,
     "schema_version": 3,
     "solution": false,
     "task": false
    }
   },
   "source": [
    "## Part 3: Objects & Classes (5 points)"
   ]
  },
  {
   "cell_type": "markdown",
   "metadata": {
    "nbgrader": {
     "grade": false,
     "grade_id": "q8",
     "locked": true,
     "schema_version": 3,
     "solution": false
    }
   },
   "source": [
    "### Q8 - objects (1 point)\n",
    "\n",
    "The real exam will include an objects question here."
   ]
  },
  {
   "cell_type": "markdown",
   "metadata": {
    "nbgrader": {
     "grade": false,
     "grade_id": "q9",
     "locked": true,
     "schema_version": 3,
     "solution": false
    }
   },
   "source": [
    "### Q9 - Classes (4 points)\n",
    "\n",
    "Generate a class called `BasketballGame`.\n",
    "\n",
    "This class should have four instance attributes: `home_team`, `away_team`, `home_points`, and `away_points`\n",
    "\n",
    "It should also have one method, `play_game()`. \n",
    "\n",
    "Within the `play_game` method, add code that would determine who the winner of the game is (determined by the team with the most points), returning Winner: ' and the winning team's name.\n",
    "\n",
    "For ties, return: 'Winner: tie'"
   ]
  },
  {
   "cell_type": "code",
   "execution_count": null,
   "metadata": {
    "nbgrader": {
     "grade": false,
     "grade_id": "q9-solution",
     "locked": false,
     "schema_version": 3,
     "solution": true
    }
   },
   "outputs": [],
   "source": [
    "### BEGIN SOLUTION\n",
    "class BasketballGame():\n",
    "    \n",
    "    def __init__(self, home_team, away_team, home_points, away_points):\n",
    "        self.home_team = home_team\n",
    "        self.away_team = away_team\n",
    "        self.home_points = home_points\n",
    "        self.away_points = away_points\n",
    "    \n",
    "    def play_game(self):\n",
    "        if self.home_points > self.away_points:\n",
    "            out = 'Winner: ' + self.home_team\n",
    "        elif self.away_points > self.home_points:\n",
    "            out = 'Winner: ' + self.away_team\n",
    "        else:\n",
    "            out = 'Winner: tie'\n",
    "        \n",
    "        return out\n",
    "        \n",
    "    \n",
    "### END SOLUTION"
   ]
  },
  {
   "cell_type": "code",
   "execution_count": null,
   "metadata": {},
   "outputs": [],
   "source": [
    "# use this cell to test/execute/check your class (optional)\n",
    "game = BasketballGame(home_team='Warriors', away_team='Sixers', \n",
    "                      home_points=100, away_points=105)\n",
    "game.play_game()"
   ]
  },
  {
   "cell_type": "code",
   "execution_count": 18,
   "metadata": {
    "nbgrader": {
     "grade": true,
     "grade_id": "q9-test1",
     "locked": true,
     "points": 0,
     "schema_version": 3,
     "solution": false
    }
   },
   "outputs": [],
   "source": [
    "assert callable(BasketballGame)\n",
    "\n",
    "### BEGIN HIDDEN TESTS\n",
    "game = BasketballGame(home_team='Warriors', away_team='Sixers', \n",
    "                      home_points=100, away_points=105)\n",
    "\n",
    "# test attributes\n",
    "assert game.home_team == 'Warriors'\n",
    "assert game.away_team == 'Sixers'\n",
    "assert game.home_points == 100\n",
    "assert game.away_points == 105\n",
    "\n",
    "\n",
    "### END HIDDEN TESTS"
   ]
  },
  {
   "cell_type": "code",
   "execution_count": 19,
   "metadata": {
    "nbgrader": {
     "grade": true,
     "grade_id": "q9-test2",
     "locked": true,
     "points": 0,
     "schema_version": 3,
     "solution": false,
     "task": false
    }
   },
   "outputs": [],
   "source": [
    "assert callable(BasketballGame.play_game)\n",
    "\n",
    "### BEGIN HIDDEN TESTS\n",
    "# test method\n",
    "assert game.play_game() == 'Winner: Sixers'\n",
    "### END HIDDEN TESTS"
   ]
  },
  {
   "cell_type": "markdown",
   "metadata": {
    "nbgrader": {
     "grade": false,
     "grade_id": "q9-test3",
     "locked": true,
     "points": 0,
     "schema_version": 3,
     "solution": false,
     "task": true
    }
   },
   "source": [
    "This \"blank\" cell included intentionally. Do not do anything here. (It's being used in grading.)\n",
    "\n",
    "=== BEGIN MARK SCHEME ===\n",
    "\n",
    "rubric for partial credit\n",
    "\n",
    "=== END MARK SCHEME ==="
   ]
  },
  {
   "cell_type": "markdown",
   "metadata": {
    "nbgrader": {
     "grade": false,
     "grade_id": "part4",
     "locked": true,
     "schema_version": 3,
     "solution": false,
     "task": false
    }
   },
   "source": [
    "## Part 4: True & False (1 point)\n",
    "\n",
    "For the statements below: depending upon whether the statement provided is True or False, store the appropriate boolean in the variable specified. \n",
    "\n",
    "For example, if the statement were:\n",
    "\n",
    "`jupyter` | Jupyter Notebooks allow for text and code to be stored and executed in the same document.\n",
    "\n",
    "your answer would be:\n",
    "\n",
    "```python\n",
    "jupyter = True\n",
    "```\n",
    "\n",
    "since, the statement above is `True` and the variable `jupyter` is what was specified at the start of the statement."
   ]
  },
  {
   "cell_type": "markdown",
   "metadata": {
    "nbgrader": {
     "grade": false,
     "grade_id": "q10",
     "locked": true,
     "schema_version": 3,
     "solution": false,
     "task": false
    }
   },
   "source": [
    "### Q10 - True/False (1 point)\n",
    "\n",
    "Following the instructions & example above, store the appropriate boolean in the variable provided for each of the following statements:\n",
    "\n",
    "- `car_inventory` | `car_inventory` is a better class name than `CarInventory`\n",
    "\n",
    "The real exam will have more than one T/F here."
   ]
  },
  {
   "cell_type": "code",
   "execution_count": 21,
   "metadata": {
    "nbgrader": {
     "grade": false,
     "grade_id": "q10-solution",
     "locked": false,
     "schema_version": 3,
     "solution": true,
     "task": false
    }
   },
   "outputs": [],
   "source": [
    "### BEGIN SOLUTION\n",
    "car_inventory = False\n",
    "### END SOLUTION"
   ]
  },
  {
   "cell_type": "code",
   "execution_count": 22,
   "metadata": {
    "nbgrader": {
     "grade": true,
     "grade_id": "q10-test6",
     "locked": true,
     "points": 0,
     "schema_version": 3,
     "solution": false,
     "task": false
    }
   },
   "outputs": [],
   "source": [
    "assert car_inventory is not None\n",
    "\n",
    "### BEGIN HIDDEN TESTS\n",
    "assert not car_inventory\n",
    "### END HIDDEN TESTS"
   ]
  },
  {
   "cell_type": "markdown",
   "metadata": {
    "nbgrader": {
     "grade": false,
     "grade_id": "end",
     "locked": true,
     "schema_version": 3,
     "solution": false
    }
   },
   "source": [
    "### Part II complete!\n",
    "\n",
    "Good work - you're done with the second exam!\n",
    "\n",
    "Check your work, and then when you're ready, **submit on datahub**.\n",
    "\n",
    "We will not have your exam until you click submit and see this show up under 'submitted assignments'."
   ]
  }
 ],
 "metadata": {
  "kernelspec": {
   "display_name": "Python 3",
   "language": "python",
   "name": "python3"
  },
  "language_info": {
   "codemirror_mode": {
    "name": "ipython",
    "version": 3
   },
   "file_extension": ".py",
   "mimetype": "text/x-python",
   "name": "python",
   "nbconvert_exporter": "python",
   "pygments_lexer": "ipython3",
   "version": "3.6.7"
  }
 },
 "nbformat": 4,
 "nbformat_minor": 2
}
