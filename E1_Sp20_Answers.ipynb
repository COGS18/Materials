{
 "cells": [
  {
   "cell_type": "markdown",
   "metadata": {},
   "source": [
    "### Regrades:\n",
    "\n",
    "- Explanation of grading\n",
    "- Prof Ellis will handle all regrades\n",
    "\n",
    "Regrades are for: \n",
    "- Places where you followed instructions and lost points anyway\n",
    "\n",
    "Regrades are *NOT* for:\n",
    "- Partial credit on questions that did not have partial credit\n",
    "- Places where you forgot to answer a question\n",
    "- Places where you don't like how points were distributed"
   ]
  },
  {
   "cell_type": "markdown",
   "metadata": {},
   "source": [
    "### E2\n",
    "\n",
    "- will be cumulative, but will be focused on new material (Functions & Classes)\n",
    "- The average between your score on the \"E1\" material on E2 and your first exam can be used to replace your E1 score\n",
    "- I care that you know the stuff. You care about knowing the stuff and your grades. So, this is win-\n",
    "- This will happen automatically. This will only be used to help students. No students will lose points as a result."
   ]
  },
  {
   "cell_type": "markdown",
   "metadata": {
    "nbgrader": {
     "grade": false,
     "grade_id": "cell-dee83f4fa4efc49d",
     "locked": true,
     "schema_version": 3,
     "solution": false
    }
   },
   "source": [
    "# COGS 18 - Exam 1 (Answers)\n",
    "\n",
    "This is the first exam for Spring 2020. It covers topics through the Encodings Lecture.\n",
    "\n",
    "This exam is out of 20 points, worth 20% of your grade.\n",
    "\n",
    "**PLEASE DO NOT CHANGE THE NAME OF THIS FILE.**\n",
    "\n",
    "**PLEASE DO NOT COPY & PASTE OR DELETE CELLS INLCUDED IN THE ASSIGNMENT.** (Note that you can add additional cells, if you want to test things out."
   ]
  },
  {
   "cell_type": "markdown",
   "metadata": {
    "nbgrader": {
     "grade": false,
     "grade_id": "cell-d84a1b89ff1424e6",
     "locked": true,
     "schema_version": 3,
     "solution": false
    }
   },
   "source": [
    "## Instructions\n",
    "\n",
    "#### Timing\n",
    "- The exam is designed to take you 50 minutes.\n",
    "- There will be a 24 hour window during which you can complete this exam.\n",
    "- If it takes you longer than 50 minutes, you're free to use that time.\n",
    "\n",
    "#### The Rules\n",
    "- You are to complete this exam on your own.\n",
    "- This is open-notes & open-Google\n",
    "- You may not talk to any humans about this exam. \n",
    "- The following are all *prohibited*:\n",
    "    - text/phone/online chat communication\n",
    "    - posting questions to a message board where a human could respond\n",
    "    - asking anyone via any form about a question on this test directly\n",
    "- Clarification questions will ***not*** be allowed and there will be no posting on Piazza about the exam at all. \n",
    "    - Piazza posts about the exam will not be answered and will be deleted. \n",
    "    - Students who post questions about the exam to Piazza are at risk of losing points on the exam.\n",
    "    - If you are confused about wording, add a note to your exam explaining your confusion and how you interpreted the question. \n",
    "    - Note: This policy is b/c we are incapable of responding for 24h straight. This is the only way to make it fair across the board for students."
   ]
  },
  {
   "cell_type": "markdown",
   "metadata": {},
   "source": [
    " <span style=\"color: red;\">Note: </span> There _is_ a chance for partial credit on some questions, so _some_ code is better than _no_ code. Even if it throws an error, having some code that partially answers the question will benefit you/your grade."
   ]
  },
  {
   "cell_type": "markdown",
   "metadata": {
    "nbgrader": {
     "grade": false,
     "grade_id": "cell-67b477fe413ddd29",
     "locked": true,
     "schema_version": 3,
     "solution": false
    }
   },
   "source": [
    "## Part 1: Variables & Operators (6 points)"
   ]
  },
  {
   "cell_type": "markdown",
   "metadata": {
    "nbgrader": {
     "grade": false,
     "grade_id": "cell-91df1337151f0dec",
     "locked": true,
     "schema_version": 3,
     "solution": false
    }
   },
   "source": [
    "### Q1 - Variables\n",
    "\n",
    "In the cell below, write five lines of code that define five different variables named `var_float`, `var_str`, and `var_bool`, `var_tuple`, and `var_dict`, storing a float, a string, and a boolean, a tuple, and a dictionary, respectively. (You get to choose the specific float, string, boolean, tuple, or dictionary each variable stores.) (1 pt):"
   ]
  },
  {
   "cell_type": "code",
   "execution_count": 1,
   "metadata": {
    "nbgrader": {
     "grade": false,
     "grade_id": "cell-ff83eef2e38b43e6",
     "locked": false,
     "schema_version": 3,
     "solution": true
    }
   },
   "outputs": [],
   "source": [
    "# actual values stored will differ\n",
    "var_float = 9.29\n",
    "var_str = 'cogs18'\n",
    "var_bool = False\n",
    "var_tuple = (1, 2, 3)\n",
    "var_dict = {'a':1}\n"
   ]
  },
  {
   "cell_type": "code",
   "execution_count": 2,
   "metadata": {
    "nbgrader": {
     "grade": true,
     "grade_id": "cell-bf07c1c5d0cd7690",
     "locked": true,
     "points": 0.2,
     "schema_version": 3,
     "solution": false
    }
   },
   "outputs": [],
   "source": [
    "# check variable exists\n",
    "assert var_float is not None\n",
    "\n",
    "### BEGIN HIDDEN TESTS\n",
    "assert isinstance(var_float, float)\n",
    "### END HIDDEN TESTS"
   ]
  },
  {
   "cell_type": "code",
   "execution_count": 3,
   "metadata": {
    "nbgrader": {
     "grade": true,
     "grade_id": "cell-a8405948ed0b513b",
     "locked": true,
     "points": 0.2,
     "schema_version": 3,
     "solution": false
    }
   },
   "outputs": [],
   "source": [
    "# check variable exists\n",
    "assert var_str is not None\n",
    "\n",
    "### BEGIN HIDDEN TESTS\n",
    "assert isinstance(var_str, str)\n",
    "### END HIDDEN TESTS"
   ]
  },
  {
   "cell_type": "code",
   "execution_count": 4,
   "metadata": {
    "nbgrader": {
     "grade": true,
     "grade_id": "cell-63d6173cceccc9af",
     "locked": true,
     "points": 0.2,
     "schema_version": 3,
     "solution": false
    }
   },
   "outputs": [],
   "source": [
    "# check variable exists\n",
    "assert var_bool is not None\n",
    "\n",
    "### BEGIN HIDDEN TESTS\n",
    "assert isinstance(var_bool, bool)\n",
    "### END HIDDEN TESTS"
   ]
  },
  {
   "cell_type": "code",
   "execution_count": 5,
   "metadata": {
    "nbgrader": {
     "grade": true,
     "grade_id": "cell-e9e7a03e60163b1a",
     "locked": true,
     "points": 0.2,
     "schema_version": 3,
     "solution": false
    }
   },
   "outputs": [],
   "source": [
    "# check variable exists\n",
    "assert var_tuple is not None\n",
    "\n",
    "### BEGIN HIDDEN TESTS\n",
    "assert isinstance(var_tuple, tuple)\n",
    "### END HIDDEN TESTS"
   ]
  },
  {
   "cell_type": "code",
   "execution_count": 6,
   "metadata": {
    "nbgrader": {
     "grade": true,
     "grade_id": "cell-ee6a2c5c1e0b9c53",
     "locked": true,
     "points": 0.2,
     "schema_version": 3,
     "solution": false
    }
   },
   "outputs": [],
   "source": [
    "assert var_dict is not None\n",
    "\n",
    "### BEGIN HIDDEN TESTS\n",
    "assert isinstance(var_dict, dict)\n",
    "### END HIDDEN TESTS"
   ]
  },
  {
   "cell_type": "markdown",
   "metadata": {
    "nbgrader": {
     "grade": false,
     "grade_id": "cell-72bb063ebbdf1df5",
     "locked": true,
     "points": 0.5,
     "schema_version": 3,
     "solution": false,
     "task": true
    }
   },
   "source": [
    "### Q2 - Operators\n",
    "\n",
    "In the cell below, explain the difference between the equality operator and the assignment operator, being sure to state what character(s) is/are used for which in Python. Feel free to explain using examples of when each would be used (0.5 points).\n",
    "\n",
    "=== BEGIN MARK SCHEME ===\n",
    "\n",
    "- correct operators chosen for each (0.2)\n",
    "- explanations make sense (0.3)\n",
    "\n",
    "=== END MARK SCHEME ==="
   ]
  },
  {
   "cell_type": "markdown",
   "metadata": {},
   "source": [
    "Answer: Equality operator (`==`) checks whether the two sides are equal, while the asignment operator (`=`) assigns the value on the right to the variable on the left. "
   ]
  },
  {
   "cell_type": "markdown",
   "metadata": {
    "nbgrader": {
     "grade": false,
     "grade_id": "cell-a9c616bd52e38e98",
     "locked": true,
     "schema_version": 3,
     "solution": false
    }
   },
   "source": [
    "### Q3 - Math Operators\n",
    "\n",
    "#### Part 1 (1.5 points)\n",
    "\n",
    "In the cell below, create three variables: `var_a`, `var_b`, and `var_c`.\n",
    "\n",
    "These variables must satisfy the following requirements:\n",
    "1. Each variable must be created using *at least two (2) different math operators* (but *can* use more than 2)\n",
    "2. Each variable must store (return) the value 6 (or 6.0). \n",
    "3. Across the creation of these three variables, all seven of the math operators (`+`, `-`, `/`, `*`, `**`, `%`, `//`) discussed in class must be used *at least* once. "
   ]
  },
  {
   "cell_type": "code",
   "execution_count": 7,
   "metadata": {
    "nbgrader": {
     "grade": false,
     "grade_id": "cell-bb8cdab05639cc4a",
     "locked": false,
     "schema_version": 3,
     "solution": true
    }
   },
   "outputs": [],
   "source": [
    "# actual operations will differ\n",
    "var_a = 3 ** 2 // 2 + 2\n",
    "var_b = 6 + 3 - 3\n",
    "var_c = (20 % 7) * 2 // 2 "
   ]
  },
  {
   "cell_type": "code",
   "execution_count": 8,
   "metadata": {
    "nbgrader": {
     "grade": true,
     "grade_id": "cell-c0299ed87eb61ade",
     "locked": true,
     "points": 0.5,
     "schema_version": 3,
     "solution": false
    }
   },
   "outputs": [],
   "source": [
    "assert var_a\n",
    "\n",
    "### BEGIN HIDDEN TESTS\n",
    "assert var_a == 6\n",
    "### END HIDDEN TESTS"
   ]
  },
  {
   "cell_type": "code",
   "execution_count": 9,
   "metadata": {
    "nbgrader": {
     "grade": true,
     "grade_id": "cell-643b1c3966b118f8",
     "locked": true,
     "points": 0.5,
     "schema_version": 3,
     "solution": false
    }
   },
   "outputs": [],
   "source": [
    "assert var_b\n",
    "\n",
    "### BEGIN HIDDEN TESTS\n",
    "assert var_b == 6\n",
    "### END HIDDEN TESTS"
   ]
  },
  {
   "cell_type": "code",
   "execution_count": 10,
   "metadata": {
    "nbgrader": {
     "grade": true,
     "grade_id": "cell-7e795b0efb2dee4d",
     "locked": true,
     "points": 0.5,
     "schema_version": 3,
     "solution": false
    }
   },
   "outputs": [],
   "source": [
    "assert var_c\n",
    "\n",
    "### BEGIN HIDDEN TESTS\n",
    "assert var_c == 6\n",
    "### END HIDDEN TESTS"
   ]
  },
  {
   "cell_type": "markdown",
   "metadata": {
    "nbgrader": {
     "grade": false,
     "grade_id": "cell-69cbe96ee608b6a6",
     "locked": true,
     "points": 0.5,
     "schema_version": 3,
     "solution": false,
     "task": true
    }
   },
   "source": [
    "#### Part 2 (0.5 points)\n",
    "\n",
    "In the cell below explain, for a variable you created in Part I of this question that uses the `%` operator, explain in words/math terms below the mathematical operations you carried out to create that variable, being sure to explain what each math operator you used accomplishes. \n",
    "\n",
    "=== BEGIN MARK SCHEME ===\n",
    "\n",
    "- correctly explains what the % operator does (0.3)\n",
    "- all seven operators are used (0.1)\n",
    "- at least two perators used per variable (0.1)\n",
    "\n",
    "=== END MARK SCHEME ==="
   ]
  },
  {
   "cell_type": "markdown",
   "metadata": {},
   "source": [
    "Answer: In creating `var_c` (`var_c = (20 % 7) * 2 // 2`), I first divided 20 by 7 using hte modulo, which keeps the remainder from this equation (6). This value was then multipled (`*`) by 2, storing 12. Finally floor division (`//`) was carried out dividing that value by 2, storing the integer of 12 divided by 2."
   ]
  },
  {
   "cell_type": "markdown",
   "metadata": {
    "nbgrader": {
     "grade": false,
     "grade_id": "cell-648c538aaa34a8e6",
     "locked": true,
     "schema_version": 3,
     "solution": false
    }
   },
   "source": [
    "### Q4 - Comparison Operators\n",
    "\n",
    "#### Part 1 (0.6 points)\n",
    "\n",
    "In the cell below, create three variables: `comp_a`, `comp_b`, and `comp_c`.\n",
    "\n",
    "These variables must satisfy the following requirements:\n",
    "\n",
    "1. Each variable must store (aka return) the Boolean `True`\n",
    "2. Additional operators may also be used, but `comp_a` must use the `and` operator; `comp_b` must use the `or` operator, and `comp_c` must use the `not` operator. \n",
    "3. Each variable must be created using *at least two* of the comparison operators (`<`,`>`,`<=`,`>=`,`!=`,`==`).\n",
    "4. All six comparison operators must show up in the cell below *at least once*.\n"
   ]
  },
  {
   "cell_type": "code",
   "execution_count": 11,
   "metadata": {
    "nbgrader": {
     "grade": false,
     "grade_id": "cell-9838f1e7760f2339",
     "locked": false,
     "schema_version": 3,
     "solution": true
    }
   },
   "outputs": [],
   "source": [
    "# actual variable creation will differ\n",
    "comp_a = 7 > 6 and 6 < 7\n",
    "comp_b = 3 <= 3 or 4 <= 3\n",
    "comp_c = 3 == 3 and not 3 != 3"
   ]
  },
  {
   "cell_type": "code",
   "execution_count": 12,
   "metadata": {
    "nbgrader": {
     "grade": true,
     "grade_id": "cell-b8e0ad19e06f8f4e",
     "locked": true,
     "points": 0.2,
     "schema_version": 3,
     "solution": false
    }
   },
   "outputs": [],
   "source": [
    "assert isinstance(comp_a, bool)\n",
    "\n",
    "### BEGIN HIDDEN TESTS\n",
    "assert comp_a\n",
    "### END HIDDEN TESTS"
   ]
  },
  {
   "cell_type": "code",
   "execution_count": 13,
   "metadata": {
    "nbgrader": {
     "grade": true,
     "grade_id": "cell-923642821412100b",
     "locked": true,
     "points": 0.2,
     "schema_version": 3,
     "solution": false
    }
   },
   "outputs": [],
   "source": [
    "assert isinstance(comp_b, bool)\n",
    "\n",
    "### BEGIN HIDDEN TESTS\n",
    "assert comp_b\n",
    "### END HIDDEN TESTS"
   ]
  },
  {
   "cell_type": "code",
   "execution_count": 14,
   "metadata": {
    "nbgrader": {
     "grade": true,
     "grade_id": "cell-e6967925a5e8087c",
     "locked": true,
     "points": 0.2,
     "schema_version": 3,
     "solution": false
    }
   },
   "outputs": [],
   "source": [
    "assert isinstance(comp_c, bool)\n",
    "\n",
    "### BEGIN HIDDEN TESTS\n",
    "assert comp_c\n",
    "### END HIDDEN TESTS"
   ]
  },
  {
   "cell_type": "markdown",
   "metadata": {
    "nbgrader": {
     "grade": false,
     "grade_id": "cell-468ebbcd5ee201ba",
     "locked": true,
     "points": 0.4,
     "schema_version": 3,
     "solution": false,
     "task": true
    }
   },
   "source": [
    "#### Part 2 (0.4 points)\n",
    "\n",
    "In the cell below explain, for a variable you created in Part I that uses the `not` operator, explain in words what your code is doing and the logic behind it. \n",
    "\n",
    "=== BEGIN MARK SCHEME ===\n",
    "\n",
    "- logic of not operator explained correctly (0.2)\n",
    "- all six operators are used (0.1)\n",
    "- and, or, or not all used (0.1)\n",
    "\n",
    "=== END MARK SCHEME ===\n"
   ]
  },
  {
   "cell_type": "markdown",
   "metadata": {},
   "source": [
    "Answer: In creating `comp_c` (`comp_c = 3 == 3 and not 3 != 3`) the left hand sice checks whether 3 is equal to 3 (which it is - `True`) and the right hand sice checks that 3 is *not* equal to 3 (which is `False`) but the `not` negates that, so this side stores (`True`). Because there is an `and`, `True and True`, returns `True`."
   ]
  },
  {
   "cell_type": "markdown",
   "metadata": {
    "nbgrader": {
     "grade": false,
     "grade_id": "cell-00b11219ac600d56",
     "locked": true,
     "schema_version": 3,
     "solution": false
    }
   },
   "source": [
    "### Q5 - Membership Operators (0.5 points)\n",
    "\n",
    "Using the following string and list provided, create two variables `memb_a` and `memb_b` that satisfy the following conditions:\n",
    "\n",
    "1. `memb_a` must use the `in` operator to check membership in `my_string`. It should store (return) `True`.\n",
    "2. `memb_b` must use the `not in` operator to check membership in `my_list`. It should store (return) `False`. \n",
    "3. `memb_a` must refer to the `my_string` variable defined for you below. `memb_b` must refer to the `my_list` variable defined for you below."
   ]
  },
  {
   "cell_type": "code",
   "execution_count": 15,
   "metadata": {
    "nbgrader": {
     "grade": false,
     "grade_id": "cell-81f2ec31c3c9e69c",
     "locked": false,
     "schema_version": 3,
     "solution": true
    }
   },
   "outputs": [],
   "source": [
    "# these variables are defined for you - no need to change them\n",
    "my_string = 'I love COGS 18!'\n",
    "my_list = ['Assignments', 'Exams', 'CodingLabs']\n",
    "\n",
    "# actual operations will differ\n",
    "memb_a = 'love' in my_string\n",
    "memb_b = 'Assignments' not in my_list"
   ]
  },
  {
   "cell_type": "code",
   "execution_count": 16,
   "metadata": {
    "nbgrader": {
     "grade": true,
     "grade_id": "cell-a82ee01f1550f86e",
     "locked": true,
     "points": 0.25,
     "schema_version": 3,
     "solution": false
    }
   },
   "outputs": [],
   "source": [
    "assert isinstance(memb_a, bool)\n",
    "\n",
    "### BEGIN HIDDEN TESTS\n",
    "assert memb_a\n",
    "### END HIDDEN TESTS"
   ]
  },
  {
   "cell_type": "code",
   "execution_count": 17,
   "metadata": {
    "nbgrader": {
     "grade": true,
     "grade_id": "cell-a7e86dfcf88f7312",
     "locked": true,
     "points": 0.25,
     "schema_version": 3,
     "solution": false
    }
   },
   "outputs": [],
   "source": [
    "assert isinstance(memb_b, bool)\n",
    "\n",
    "### BEGIN HIDDEN TESTS\n",
    "assert not memb_b\n",
    "### END HIDDEN TESTS"
   ]
  },
  {
   "cell_type": "markdown",
   "metadata": {
    "nbgrader": {
     "grade": false,
     "grade_id": "cell-00e590364b4d32e2",
     "locked": true,
     "points": 1,
     "schema_version": 3,
     "solution": false,
     "task": true
    }
   },
   "source": [
    "### Q6 - Variables\n",
    "\n",
    "In your own words, describe the difference between a list, a tuple, and a dictionary. Explain a situation/use an real-world example to describe where you would use each type of variable. (1 point)\n",
    "\n",
    "=== BEGIN MARK SCHEME ===\n",
    "\n",
    "- explanation of tuples, lists, and dictionaries correct (0.6)\n",
    "- examples make sense (0.4)\n",
    "\n",
    "=== END MARK SCHEME ==="
   ]
  },
  {
   "cell_type": "markdown",
   "metadata": {},
   "source": [
    "Answer:\n",
    "\n",
    "- Lists are ordered, mutable objects, created using square brackets, to store elements in sequence. (Example: You want to store True for students who have completed an assignment and False for students who haven't. You want to be able to update this when a student turns something in, so you use a list.\n",
    "- Types are ordered, immutable objects, created using parentheses, to store elements in sequence. (Example: if you wanted to store Social security numbers - you know these will never change for an individual, so you use a tuple to ensure they are not changed later in your code.)\n",
    "- Dictionaries are mutable objects, created using curly braces, to store key-value pairs. (Example: If you wanted to look up a friend's phone number using their name - their name would be the key, and the phone number would be the value. The dictionary would store all your friends.)"
   ]
  },
  {
   "cell_type": "markdown",
   "metadata": {
    "nbgrader": {
     "grade": false,
     "grade_id": "cell-dd772f325aeed313",
     "locked": true,
     "schema_version": 3,
     "solution": false
    }
   },
   "source": [
    "## Part 2: Indexing  (3 points)"
   ]
  },
  {
   "cell_type": "markdown",
   "metadata": {
    "nbgrader": {
     "grade": false,
     "grade_id": "cell-594451cd646cc794",
     "locked": true,
     "schema_version": 3,
     "solution": false
    }
   },
   "source": [
    "### Q7 - Indexing\n",
    "\n",
    "#### Part 1 (0.6 points)\n",
    "\n",
    "*Using the list `cogs18` provided below and indexing*, write the line of code you would use to index the list and return the specified output:\n",
    "\n",
    "1. `['Annie', 'Mudit', 'Melody']`  (Store in `ind_a`)\n",
    "2. `['Ashlesha', 'Mudit','Fidella', 'Geoff']` (Store in `ind_b`)\n",
    "3. `['AP', 'Griffin', 'Geoff']` (Store in `ind_c`; ***use negative indexing***)"
   ]
  },
  {
   "cell_type": "code",
   "execution_count": 18,
   "metadata": {
    "nbgrader": {
     "grade": false,
     "grade_id": "cell-969d306fc2d41255",
     "locked": false,
     "schema_version": 3,
     "solution": true
    }
   },
   "outputs": [],
   "source": [
    "# list below provided for you\n",
    "cogs18 = ['Ashlesha', 'Paul', 'Annie', 'Mudit', 'Melody', 'Jitarth',\n",
    "          'Fidella', 'AP', 'Griffin', 'Geoff']\n",
    "\n",
    "### BEGIN SOLUTION\n",
    "ind_a = cogs18[2:5]\n",
    "ind_b = cogs18[::3]\n",
    "ind_c = cogs18[-3:]\n",
    "### END SOLUTION"
   ]
  },
  {
   "cell_type": "code",
   "execution_count": 19,
   "metadata": {
    "nbgrader": {
     "grade": true,
     "grade_id": "cell-32966ab8dee3cfb7",
     "locked": true,
     "points": 0.2,
     "schema_version": 3,
     "solution": false
    }
   },
   "outputs": [],
   "source": [
    "assert isinstance(ind_a, list)\n",
    "\n",
    "### BEGIN HIDDEN TESTS\n",
    "assert ind_a == ['Annie', 'Mudit', 'Melody']\n",
    "### END HIDDEN TESTS"
   ]
  },
  {
   "cell_type": "code",
   "execution_count": 20,
   "metadata": {
    "nbgrader": {
     "grade": true,
     "grade_id": "cell-6f838d104324b58a",
     "locked": true,
     "points": 0.2,
     "schema_version": 3,
     "solution": false
    }
   },
   "outputs": [],
   "source": [
    "assert isinstance(ind_b, list)\n",
    "\n",
    "### BEGIN HIDDEN TESTS\n",
    "assert ind_b == ['Ashlesha', 'Mudit', 'Fidella', 'Geoff']\n",
    "### END HIDDEN TESTS"
   ]
  },
  {
   "cell_type": "code",
   "execution_count": 21,
   "metadata": {
    "nbgrader": {
     "grade": true,
     "grade_id": "cell-d14d18fcb5ca67e5",
     "locked": true,
     "points": 0.2,
     "schema_version": 3,
     "solution": false
    }
   },
   "outputs": [],
   "source": [
    "assert isinstance(ind_c, list)\n",
    "\n",
    "### BEGIN HIDDEN TESTS\n",
    "assert ind_c == ['AP', 'Griffin', 'Geoff']\n",
    "### END HIDDEN TESTS"
   ]
  },
  {
   "cell_type": "markdown",
   "metadata": {
    "nbgrader": {
     "grade": false,
     "grade_id": "cell-cfcfdc0a5ec08f93",
     "locked": true,
     "points": 0.4,
     "schema_version": 3,
     "solution": false,
     "task": true
    }
   },
   "source": [
    "#### Part 2 (0.4 points)\n",
    "\n",
    "In the cell below, explain in your own words what your code for creating `ind_c` accomplishes.\n",
    "\n",
    "=== BEGIN MARK SCHEME ===\n",
    "\n",
    "- explanation of `ind_c` correct (0.2)\n",
    "- negative indexing used when creating `ind_c` (0.2)\n",
    "\n",
    "=== END MARK SCHEME ==="
   ]
  },
  {
   "cell_type": "markdown",
   "metadata": {},
   "source": [
    "Answer: When I create `ind_c` (`ind_c = cogs18[-3:]`), I'm specifying that I want to go to the third position from the end of the `cogs18` list and return every element until the end of the list.\n"
   ]
  },
  {
   "cell_type": "markdown",
   "metadata": {
    "nbgrader": {
     "grade": false,
     "grade_id": "cell-e1e679b600fffa0a",
     "locked": true,
     "schema_version": 3,
     "solution": false
    }
   },
   "source": [
    "### Q8 - Indexing\n",
    "\n",
    "Given a theoretical list `my_list`, include code below using indexing to satisfy each of the following conditions\n",
    "\n",
    "\n",
    "1. Store the fifth element of `my_list` list in the variable `list_a`\n",
    "2. Store the second element ***from the end*** of `my_list` in the variable `list_b`\n",
    "3. Store the fourth element of `my_list` through to the last element of the list in `list_c`\n",
    "\n",
    "Note: \"element\" refers to the position in the list - so the element at index 0 is the *first* element in any list.\n",
    "\n",
    "Note, your code should work for any list. It does not matter what the contents of `my_list` are. So, you should not create a list `my_list` in your answer. The test cells will create this list. You only need to write the three lines of code storing the three variables `list_a`, `list_b`, and `list_c`. (1 point)"
   ]
  },
  {
   "cell_type": "code",
   "execution_count": 22,
   "metadata": {
    "nbgrader": {
     "grade": false,
     "grade_id": "cell-f48b2de4d459c3a0",
     "locked": false,
     "schema_version": 3,
     "solution": true
    }
   },
   "outputs": [
    {
     "name": "stdout",
     "output_type": "stream",
     "text": [
      "Writing q8_code.py\n"
     ]
    }
   ],
   "source": [
    "%%writefile q8_code.py\n",
    "# You can ignore the line above - it is used to help check your code\n",
    "\n",
    "list_a = my_list[4]\n",
    "list_b = my_list[-2]\n",
    "list_c = my_list[3:]\n"
   ]
  },
  {
   "cell_type": "code",
   "execution_count": 23,
   "metadata": {},
   "outputs": [],
   "source": [
    "# this cell included for you to write tests of your own if you'd like. (optional)\n",
    "# reminder: `%run -i ./q8_code.py` will run the code you stored above"
   ]
  },
  {
   "cell_type": "code",
   "execution_count": 24,
   "metadata": {
    "nbgrader": {
     "grade": true,
     "grade_id": "cell-74d84403f448609d",
     "locked": true,
     "points": 0.333333,
     "schema_version": 3,
     "solution": false
    }
   },
   "outputs": [],
   "source": [
    "# hidden tests for `list_a`\n",
    "### BEGIN HIDDEN TESTS\n",
    "my_list = list(range(0,15))\n",
    "%run -i ./q8_code.py \n",
    "assert list_a == 4\n",
    "### END HIDDEN TESTS"
   ]
  },
  {
   "cell_type": "code",
   "execution_count": 25,
   "metadata": {
    "nbgrader": {
     "grade": true,
     "grade_id": "cell-8135dae390974663",
     "locked": true,
     "points": 0.33333,
     "schema_version": 3,
     "solution": false
    }
   },
   "outputs": [],
   "source": [
    "# hidden tests for `list_b`\n",
    "### BEGIN HIDDEN TESTS\n",
    "assert list_b == 13\n",
    "### END HIDDEN TESTS"
   ]
  },
  {
   "cell_type": "code",
   "execution_count": 26,
   "metadata": {
    "nbgrader": {
     "grade": true,
     "grade_id": "cell-1b0bc078a2b620ff",
     "locked": true,
     "points": 0.33333,
     "schema_version": 3,
     "solution": false
    }
   },
   "outputs": [],
   "source": [
    "# hidden tests for `list_c`\n",
    "### BEGIN HIDDEN TESTS\n",
    "assert list_c == [3, 4, 5, 6, 7, 8, 9, 10, 11, 12, 13, 14]\n",
    "### END HIDDEN TESTS"
   ]
  },
  {
   "cell_type": "markdown",
   "metadata": {
    "nbgrader": {
     "grade": false,
     "grade_id": "cell-97e7bb67f40162c2",
     "locked": true,
     "schema_version": 3,
     "solution": false
    }
   },
   "source": [
    "### Q9 - Dictionaries\n",
    "\n",
    "Create three variables ***using the dictionary `cogs18_dict` provided*** below and functions discussed in class that will store the variable specified:\n",
    "\n",
    "1. `dict_a`: stores 'Prof'\n",
    "2. `dict_b`: stores 'dict' (or, when printed: `<class 'dict'>`)\n",
    "3. `dict_c`: stores `5`\n",
    "\n",
    "Note: each variable's line of code must have `cogs18_dict` as part of your code. (1 point)"
   ]
  },
  {
   "cell_type": "code",
   "execution_count": 27,
   "metadata": {
    "nbgrader": {
     "grade": false,
     "grade_id": "cell-8a842bd1535b93c6",
     "locked": false,
     "schema_version": 3,
     "solution": true
    },
    "scrolled": true
   },
   "outputs": [],
   "source": [
    "cogs18_dict = {'Annie' : 'TA',  'Ashlesha' : 'TA', 'Paul' : 'TA', 'Mudit': 'TA', 'Ellis' : 'Prof'}\n",
    "\n",
    "dict_a = cogs18_dict['Ellis']\n",
    "dict_b = type(cogs18_dict)\n",
    "dict_c = len(cogs18_dict)"
   ]
  },
  {
   "cell_type": "code",
   "execution_count": 28,
   "metadata": {
    "nbgrader": {
     "grade": true,
     "grade_id": "cell-d769725a572e98cf",
     "locked": true,
     "points": 0.1,
     "schema_version": 3,
     "solution": false
    }
   },
   "outputs": [],
   "source": [
    "assert dict_a\n",
    "\n",
    "### BEGIN HIDDEN TESTS\n",
    "assert dict_a == 'Prof'\n",
    "### END HIDDEN TESTS"
   ]
  },
  {
   "cell_type": "code",
   "execution_count": 29,
   "metadata": {
    "nbgrader": {
     "grade": true,
     "grade_id": "cell-69a2e9d89d160547",
     "locked": true,
     "points": 0.1,
     "schema_version": 3,
     "solution": false
    }
   },
   "outputs": [],
   "source": [
    "assert dict_b\n",
    "\n",
    "### BEGIN HIDDEN TESTS\n",
    "assert dict_b == dict\n",
    "### END HIDDEN TESTS"
   ]
  },
  {
   "cell_type": "code",
   "execution_count": 30,
   "metadata": {
    "nbgrader": {
     "grade": true,
     "grade_id": "cell-04a87debecda6359",
     "locked": true,
     "points": 0.1,
     "schema_version": 3,
     "solution": false
    }
   },
   "outputs": [],
   "source": [
    "assert dict_c\n",
    "\n",
    "### BEGIN HIDDEN TESTS\n",
    "assert dict_c == 5\n",
    "### END HIDDEN TESTS"
   ]
  },
  {
   "cell_type": "markdown",
   "metadata": {
    "nbgrader": {
     "grade": false,
     "grade_id": "cell-fe3e8da39d3f07ef",
     "locked": true,
     "points": 0.7,
     "schema_version": 3,
     "solution": false,
     "task": true
    }
   },
   "source": [
    "**This \"blank\" cell included intentionally.** Do not do anything here. (It's being used in grading.)\n",
    "\n",
    "\n",
    "=== BEGIN MARK SCHEME ===\n",
    "\n",
    "- cogs18_dict referenced in all three variables (not hard-coded)\n",
    "\n",
    "=== END MARK SCHEME ===\n"
   ]
  },
  {
   "cell_type": "markdown",
   "metadata": {
    "nbgrader": {
     "grade": false,
     "grade_id": "cell-08558daba596965c",
     "locked": true,
     "schema_version": 3,
     "solution": false
    }
   },
   "source": [
    "## Part 3: Control Flow - Conditionals & Loops  (11 points)"
   ]
  },
  {
   "cell_type": "markdown",
   "metadata": {
    "nbgrader": {
     "grade": false,
     "grade_id": "cell-16c3665100b9d3e0",
     "locked": true,
     "schema_version": 3,
     "solution": false
    }
   },
   "source": [
    "### Q10 - `while` loop\n",
    "\n",
    "Include code in your answer below that:\n",
    "\n",
    "1. Creates (initializes) a counter `val` that starts at 0\n",
    "2. Creates (initializes) an empty list `output`\n",
    "3. Creates a loop that will run as long as the value of `val` is less than or equal to 100\n",
    "    - Within the loop:\n",
    "        - first: if the value of `val` is divisible by 10, `append` the value of `val` to the list `output`\n",
    "        - then: increase the value of `val` by 1 each time through the loop\n",
    "    \n",
    "(2 points)\n",
    "    \n"
   ]
  },
  {
   "cell_type": "code",
   "execution_count": 31,
   "metadata": {
    "nbgrader": {
     "grade": false,
     "grade_id": "cell-cc7b7de76987f097",
     "locked": false,
     "schema_version": 3,
     "solution": true
    }
   },
   "outputs": [],
   "source": [
    "output = []\n",
    "val = 0 \n",
    "\n",
    "while val <= 100: \n",
    "    if val % 10 == 0:\n",
    "        output.append(val)\n",
    "    \n",
    "    val += 1"
   ]
  },
  {
   "cell_type": "code",
   "execution_count": 32,
   "metadata": {
    "nbgrader": {
     "grade": true,
     "grade_id": "cell-b97c5d995d630ec6",
     "locked": true,
     "points": 1,
     "schema_version": 3,
     "solution": false
    }
   },
   "outputs": [],
   "source": [
    "assert val > 0 & val < 200\n",
    "\n",
    "### BEGIN HIDDEN TESTS\n",
    "assert val == 101\n",
    "### END HIDDEN TESTS"
   ]
  },
  {
   "cell_type": "code",
   "execution_count": 33,
   "metadata": {
    "nbgrader": {
     "grade": true,
     "grade_id": "cell-4775c78a819a4bbc",
     "locked": true,
     "points": 1,
     "schema_version": 3,
     "solution": false
    }
   },
   "outputs": [],
   "source": [
    "assert isinstance(output, list)\n",
    "\n",
    "### BEGIN HIDDEN TESTS\n",
    "assert output == [0, 10, 20, 30, 40, 50, 60, 70, 80, 90, 100] or output == [10, 20, 30, 40, 50, 60, 70, 80, 90, 100]\n",
    "### END HIDDEN TESTS"
   ]
  },
  {
   "cell_type": "markdown",
   "metadata": {
    "nbgrader": {
     "grade": false,
     "grade_id": "cell-a81e02813c9cf07f",
     "locked": true,
     "schema_version": 3,
     "solution": false
    }
   },
   "source": [
    "### Q11 - `for` loop\n",
    "\n",
    "Store your first name as a string in the variable `my_name` and initialize a `counter` (use that variable name) \n",
    "\n",
    "Then, write a `for` loop that loops through the letters of your first name, increasing the counter by one for each letter in your name. The value stored in the counter at the end of your loop’s execution should be the number of letters in your first name.\n",
    "\n",
    "(2 points)"
   ]
  },
  {
   "cell_type": "code",
   "execution_count": 34,
   "metadata": {
    "nbgrader": {
     "grade": false,
     "grade_id": "cell-6c1a151fa2c3ee19",
     "locked": false,
     "schema_version": 3,
     "solution": true
    }
   },
   "outputs": [],
   "source": [
    "# code will differ based on who is taking the exam\n",
    "my_name = 'Shannon'\n",
    "counter = 0\n",
    "\n",
    "for char in my_name:\n",
    "    counter += 1"
   ]
  },
  {
   "cell_type": "code",
   "execution_count": 35,
   "metadata": {
    "nbgrader": {
     "grade": true,
     "grade_id": "cell-3f4f83290a044fdc",
     "locked": true,
     "points": 2,
     "schema_version": 3,
     "solution": false
    }
   },
   "outputs": [],
   "source": [
    "assert isinstance(counter, int)\n",
    "assert isinstance(my_name, str)\n",
    "\n",
    "### BEGIN HIDDEN TESTS\n",
    "assert len(my_name) == counter\n",
    "### END HIDDEN TESTS"
   ]
  },
  {
   "cell_type": "markdown",
   "metadata": {},
   "source": [
    "**This \"blank\" cell included intentionally.** Do not do anything here. (It's being used in grading.)\n",
    "\n",
    "\n",
    "=== BEGIN MARK SCHEME ===\n",
    "\n",
    "- partial credit for answer above\n",
    "- counter & my_name created (0.5 points)\n",
    "- for loop initialized correctly (0.5 points)\n",
    "\n",
    "=== END MARK SCHEME ==="
   ]
  },
  {
   "cell_type": "markdown",
   "metadata": {
    "nbgrader": {
     "grade": false,
     "grade_id": "cell-ae94965109eec82a",
     "locked": true,
     "schema_version": 3,
     "solution": false
    }
   },
   "source": [
    "### Q12 - `dictionary`\n",
    "\n",
    "Programmatically (meaning: write python code), generate a dictionary `name_dict` that stores each unique letter in your name as a different key, and the number of times each letter shows up in your name as the letter's value. \n",
    "\n",
    "For example, `name_dict` for 'Shannon' would return:\n",
    "\n",
    "```\n",
    "{'S':1, 'h':1, 'a': 1, 'n': 3, 'o': 1}\n",
    "```\n",
    "\n",
    "To refer to your name, use the `my_name` variable created in your previous response. (3 points)"
   ]
  },
  {
   "cell_type": "code",
   "execution_count": 36,
   "metadata": {
    "nbgrader": {
     "grade": false,
     "grade_id": "cell-99bfed95e0e1e3de",
     "locked": false,
     "schema_version": 3,
     "solution": true
    }
   },
   "outputs": [],
   "source": [
    "# code will differ based on who is taking the exam\n",
    "name_dict = {}\n",
    "\n",
    "for char in my_name:\n",
    "    if char not in name_dict:\n",
    "        name_dict[char] = 1\n",
    "    else:\n",
    "        name_dict[char] += 1        "
   ]
  },
  {
   "cell_type": "code",
   "execution_count": 37,
   "metadata": {
    "nbgrader": {
     "grade": true,
     "grade_id": "cell-abc3a7e18a1884cf",
     "locked": true,
     "points": 1,
     "schema_version": 3,
     "solution": false
    }
   },
   "outputs": [],
   "source": [
    "assert isinstance(name_dict, dict)\n",
    "\n",
    "### BEGIN HIDDEN TESTS\n",
    "assert len(name_dict) == len(list(set(my_name.lower()))) or len(name_dict) == len(list(set(my_name)))\n",
    "### END HIDDEN TESTS"
   ]
  },
  {
   "cell_type": "markdown",
   "metadata": {
    "nbgrader": {
     "grade": false,
     "grade_id": "cell-25461570279ab6e8",
     "locked": true,
     "points": 2,
     "schema_version": 3,
     "solution": false,
     "task": true
    }
   },
   "source": [
    "**This \"blank\" cell included intentionally.** Do not do anything here. (It's being used in grading.)\n",
    "\n",
    "\n",
    "=== BEGIN MARK SCHEME ===\n",
    "\n",
    "- code references `my_name` (1 pt)\n",
    "- code calculates integers programmatically / not hard-coded (1 pt)\n",
    "\n",
    "=== END MARK SCHEME ===\n"
   ]
  },
  {
   "cell_type": "markdown",
   "metadata": {
    "nbgrader": {
     "grade": false,
     "grade_id": "cell-7c1d8a1214bab7ef",
     "locked": true,
     "schema_version": 3,
     "solution": false
    }
   },
   "source": [
    "### Q13 - `for` loop\n",
    "\n",
    "Write a `for` loop that would loop through a hypothetical list `best_list`, storing any integers in the list in a list called `best_out_list`. Variables of any other type are not to be included in the output. (2 points)"
   ]
  },
  {
   "cell_type": "code",
   "execution_count": 38,
   "metadata": {
    "nbgrader": {
     "grade": false,
     "grade_id": "cell-3dd17d19fc210e6c",
     "locked": false,
     "schema_version": 3,
     "solution": true
    }
   },
   "outputs": [
    {
     "name": "stdout",
     "output_type": "stream",
     "text": [
      "Overwriting q13_code.py\n"
     ]
    }
   ],
   "source": [
    "%%writefile q13_code.py\n",
    "# You can ignore the line above - it is used to help check your code\n",
    "\n",
    "best_out_list = []\n",
    "\n",
    "for val in best_list:\n",
    "    #if type(val) == int:\n",
    "    if isinstance(val, int):\n",
    "        best_out_list.append(val)"
   ]
  },
  {
   "cell_type": "code",
   "execution_count": 39,
   "metadata": {},
   "outputs": [],
   "source": [
    "# this cell included for you to write tests of your own if you'd like. (optional)\n",
    "# reminder: `%run -i ./q13_code.py` will run the code you stored above"
   ]
  },
  {
   "cell_type": "code",
   "execution_count": 40,
   "metadata": {
    "nbgrader": {
     "grade": true,
     "grade_id": "cell-8ec5fde7e056d856",
     "locked": true,
     "points": 2,
     "schema_version": 3,
     "solution": false
    }
   },
   "outputs": [],
   "source": [
    "# hidden tests for Q13\n",
    "### BEGIN HIDDEN TESTS\n",
    "best_list = ['17', 5, 6, 7, 'help', 13.3]\n",
    "\n",
    "%run -i ./q13_code.py \n",
    "assert best_out_list == [5, 6, 7]\n",
    "### END HIDDEN TESTS"
   ]
  },
  {
   "cell_type": "markdown",
   "metadata": {
    "nbgrader": {
     "grade": false,
     "grade_id": "cell-9545997d2c00f239",
     "locked": true,
     "points": 2,
     "schema_version": 3,
     "solution": false,
     "task": true
    }
   },
   "source": [
    "### Q14 - variable encoder\n",
    "\n",
    "In your second assignment, you generated a number of different types of encoders and decoders. In this assignment, you wrote code to create an encoder with variable keys that would have included code like the following:\n",
    "\n",
    "```python\n",
    "key = start_key\n",
    "encoded = ''\n",
    "for char in message:\n",
    "    encoded = encoded + chr(ord(char) + key)\n",
    "    key = key + key_increment\n",
    "```\n",
    "\n",
    "In your own words below, explain what this code accomplished. (2 points)\n",
    "\n",
    "=== BEGIN MARK SCHEME ===\n",
    "\n",
    "- variable encoder explanation correct (0.5)\n",
    "- ord() and chr() explanation correct (0.5)\n",
    "- key explained correctly (0.5)\n",
    "- extending a string explained (0.5)\n",
    "\n",
    "=== END MARK SCHEME ==="
   ]
  },
  {
   "cell_type": "markdown",
   "metadata": {},
   "source": [
    "Answer: \n",
    "\n",
    "- This code creates a variable `key` which stores the value in `start_key`\n",
    "- It creates an empty string `encoded`\n",
    "- It loops through every `char` (character) in a `message`\n",
    "    - For each `char` it takes the unicode value of `char` (which is a number) and adds the value specified in `key` to that number. Then, `chr` converst that new number back to a character. This is added to the growing string `encoded`.\n",
    "    - `key` is then increased by the value specified in `key_increment`. This value is used the next time through the loop, allowing for a different `key` value to be used for each character in our `message`"
   ]
  },
  {
   "cell_type": "markdown",
   "metadata": {
    "nbgrader": {
     "grade": false,
     "grade_id": "cell-afb5d32ea3790f9b",
     "locked": true,
     "schema_version": 3,
     "solution": false
    }
   },
   "source": [
    "### Submit on Datahub\n",
    "\n",
    "Good work - you're done!\n",
    "\n",
    "Check your work, and then when you're ready, **submit on datahub**.\n",
    "\n",
    "We will not have your exam until you click submit and see this show up under 'submitted assignments'."
   ]
  }
 ],
 "metadata": {
  "kernelspec": {
   "display_name": "Python 3",
   "language": "python",
   "name": "python3"
  },
  "language_info": {
   "codemirror_mode": {
    "name": "ipython",
    "version": 3
   },
   "file_extension": ".py",
   "mimetype": "text/x-python",
   "name": "python",
   "nbconvert_exporter": "python",
   "pygments_lexer": "ipython3",
   "version": "3.7.0"
  }
 },
 "nbformat": 4,
 "nbformat_minor": 2
}
