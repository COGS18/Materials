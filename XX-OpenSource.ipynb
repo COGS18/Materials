{
 "cells": [
  {
   "cell_type": "markdown",
   "metadata": {
    "slideshow": {
     "slide_type": "slide"
    }
   },
   "source": [
    "## Project Notes\n",
    "\n",
    "1. Zip file with proposed project structure on website\n",
    "2. Datahub vs. locally\n",
    "3. Creating a module:\n",
    "    - Create a text file in your project directory. \n",
    "    - Save with .py extension\n",
    "    - Add a function/class to file\n",
    "    - Save changes\n",
    "    - `import` to Jupyter notebook\n",
    "    - use function\n",
    "4. Turn in as a zip file of your project directory"
   ]
  },
  {
   "cell_type": "markdown",
   "metadata": {
    "slideshow": {
     "slide_type": "slide"
    }
   },
   "source": [
    "# Open Source\n",
    "\n",
    "- Open Source Software\n",
    "- History of Python\n",
    "- Zen of Python\n",
    "- GitHub\n",
    "- PyPI, PIP, Conda"
   ]
  },
  {
   "cell_type": "markdown",
   "metadata": {
    "slideshow": {
     "slide_type": "fragment"
    }
   },
   "source": [
    "<div class=\"alert alert-success\">\n",
    "Open source software is software for which the source code is openly available.\n",
    "</div>"
   ]
  },
  {
   "cell_type": "markdown",
   "metadata": {
    "slideshow": {
     "slide_type": "fragment"
    }
   },
   "source": [
    "The Source Code for Python (which is actually written in C) is all available."
   ]
  },
  {
   "cell_type": "markdown",
   "metadata": {
    "slideshow": {
     "slide_type": "fragment"
    }
   },
   "source": [
    "Open Source Software is free. (free = freedom)"
   ]
  },
  {
   "cell_type": "markdown",
   "metadata": {
    "collapsed": true,
    "slideshow": {
     "slide_type": "fragment"
    }
   },
   "source": [
    "Open source software is software that the user can:\n",
    "\n",
    "- use and install the software\n",
    "- view the source code of the project\n",
    "- distribute the software\n",
    "- change the source code of the project"
   ]
  },
  {
   "cell_type": "markdown",
   "metadata": {
    "slideshow": {
     "slide_type": "fragment"
    }
   },
   "source": [
    "Scientific research is often done in an exclusively open source environment."
   ]
  },
  {
   "cell_type": "markdown",
   "metadata": {
    "slideshow": {
     "slide_type": "slide"
    }
   },
   "source": [
    "## Aside: Brief History of Python"
   ]
  },
  {
   "cell_type": "markdown",
   "metadata": {
    "slideshow": {
     "slide_type": "fragment"
    }
   },
   "source": [
    "First conceptualized by **Guido van Rossum** in the late 1980s: \n",
    "- ABC is a general-pupose programming language that influenced Python\n",
    "- goal: simple scripting language\n",
    "    - basic syntax\n",
    "    - indentation rather than cruly braces or begin-end blocks\n",
    "    - developed certain data types (dictionary, list, strings, numbers)\n",
    "- he was the BDFL (benevolent dictator for life) until July 2018"
   ]
  },
  {
   "cell_type": "markdown",
   "metadata": {
    "slideshow": {
     "slide_type": "fragment"
    }
   },
   "source": [
    "### Basic Timeline\n",
    "- 1991: Python 0.9.0 was first released \n",
    "- 1994: Python 1.0 (lambda, map, filter, and reduce)\n",
    "- 2000: Python 2.0 (list comprehensions, full garbage collector, supported unicode)\n",
    "- 2008: Python 3.0 released (print function; not backwards-compatible, fulfilling the 13th law of the Zen of Python)"
   ]
  },
  {
   "cell_type": "markdown",
   "metadata": {
    "slideshow": {
     "slide_type": "slide"
    }
   },
   "source": [
    "### For Context:\n",
    "\n",
    "- 1842: Ada Lovelace - first published computer program\n",
    "- 1940s: first high level programming language\n",
    "- 1956: FORTRAN - first commercially available\n",
    "- 1972: C\n",
    "- 1980s: Consolidation, modules, & performance\n",
    "    - 1987: Perl\n",
    "- 1990s: Age of the Internet\n",
    "    - 1991: Python\n",
    "    - 1993: R\n",
    "    - 1995: Java"
   ]
  },
  {
   "cell_type": "markdown",
   "metadata": {
    "slideshow": {
     "slide_type": "slide"
    }
   },
   "source": [
    "### Zen of Python"
   ]
  },
  {
   "cell_type": "markdown",
   "metadata": {},
   "source": [
    "- 20 guidelines (the 20th is missing)\n",
    "- sometimes contradictory in favor of flexibility"
   ]
  },
  {
   "cell_type": "code",
   "execution_count": null,
   "metadata": {
    "scrolled": false,
    "slideshow": {
     "slide_type": "fragment"
    }
   },
   "outputs": [],
   "source": [
    "# a hidden easter egg\n",
    "import this"
   ]
  },
  {
   "cell_type": "markdown",
   "metadata": {
    "slideshow": {
     "slide_type": "notes"
    }
   },
   "source": [
    "Tim Peters -- the author of the Zen of Python -- is a software developer and was a major contributor to the Python Programming language."
   ]
  },
  {
   "cell_type": "markdown",
   "metadata": {
    "slideshow": {
     "slide_type": "fragment"
    }
   },
   "source": [
    "## Clicker Question #1\n",
    "\n",
    "Read through and think about the statements in the Zen of Python Which do you think is the most important? \n",
    "\n",
    "The one I think is most important is in...\n",
    "\n",
    "- A) 1-5\n",
    "- B) 6-10\n",
    "- C) 11-15\n",
    "- D) 16-19\n",
    "- E) ¯\\\\_(ツ)_\\/¯"
   ]
  },
  {
   "cell_type": "markdown",
   "metadata": {
    "slideshow": {
     "slide_type": "fragment"
    }
   },
   "source": [
    "### Beautiful is better than ugly. Readability counts.\n",
    "\n",
    "- readability prioritized\n",
    "- Python prides itself on ease to work with\n",
    "- code is read more often than it's written\n",
    "- documentation matters."
   ]
  },
  {
   "cell_type": "markdown",
   "metadata": {
    "slideshow": {
     "slide_type": "fragment"
    }
   },
   "source": [
    "### Simple is better than complex. Complex is better than complicated.\n",
    "\n",
    "- There's more than one approach to solving a problem\n",
    "- Something that is overly-complicated should be reconsidered - a different approach? A simpler solution?"
   ]
  },
  {
   "cell_type": "markdown",
   "metadata": {
    "slideshow": {
     "slide_type": "fragment"
    }
   },
   "source": [
    "### There should be one - and preferably only one - obvious way to do it\n",
    "\n",
    "- A slight shot at other programming languages\n",
    "- With more than one way, reading is harder and writing is easier. Flexibility not worth it to Pythonistas."
   ]
  },
  {
   "cell_type": "markdown",
   "metadata": {
    "slideshow": {
     "slide_type": "fragment"
    }
   },
   "source": [
    "### Namespaces are one honking great idea - let's do more of those\n",
    "\n",
    "- Namespaces and global/local scopes prevent names in one module/scope from conflicting with names in another\n",
    "- Namespaces are for avoiding naming conflicts (_not_ unecessary categorization - b/c flat is better than nested)"
   ]
  },
  {
   "cell_type": "markdown",
   "metadata": {
    "slideshow": {
     "slide_type": "fragment"
    }
   },
   "source": [
    "## A Final Note \n",
    "\n",
    "The Zen of Python is a set of guidelines for Python.\n",
    "\n",
    "There are arguments for and against any of these.\n",
    "\n",
    "Different languages take different approaches.\n",
    "\n",
    "Language Wars are stupid."
   ]
  },
  {
   "cell_type": "markdown",
   "metadata": {
    "slideshow": {
     "slide_type": "fragment"
    }
   },
   "source": [
    "**Fun fact**: Python is named after the British TV show Monty Python (not the snake).\n",
    "\n"
   ]
  },
  {
   "cell_type": "markdown",
   "metadata": {
    "slideshow": {
     "slide_type": "slide"
    }
   },
   "source": [
    "## Licenses"
   ]
  },
  {
   "cell_type": "markdown",
   "metadata": {
    "collapsed": true,
    "slideshow": {
     "slide_type": "fragment"
    }
   },
   "source": [
    "<div class=\"alert alert-success\">\n",
    "The details of how an open-source project can be used are detailed in its `license`, which explicitly states its terms of use. \n",
    "</div>"
   ]
  },
  {
   "cell_type": "markdown",
   "metadata": {
    "slideshow": {
     "slide_type": "fragment"
    }
   },
   "source": [
    "- Open Source projects still have a license:\n",
    "    - sometimes it says: go do whatever you want with this\n",
    "    - other times it says: if you're not a company/going to make money, you can use this\n",
    "    - and other times it says: you can use it but you have to attribute the original developers"
   ]
  },
  {
   "cell_type": "markdown",
   "metadata": {
    "collapsed": true,
    "slideshow": {
     "slide_type": "slide"
    }
   },
   "source": [
    "## Open Source Developers"
   ]
  },
  {
   "cell_type": "markdown",
   "metadata": {
    "slideshow": {
     "slide_type": "fragment"
    }
   },
   "source": [
    "<div class=\"alert alert-success\">\n",
    "Open source software is often developed in an collaborative, public manner, through open collaboration.\n",
    "</div>"
   ]
  },
  {
   "cell_type": "markdown",
   "metadata": {
    "slideshow": {
     "slide_type": "fragment"
    }
   },
   "source": [
    "Many are community-driven:\n",
    "- open, public, & collaborative\n",
    "- `pandas` was intially written by Wes McKinney"
   ]
  },
  {
   "cell_type": "markdown",
   "metadata": {
    "slideshow": {
     "slide_type": "fragment"
    }
   },
   "source": [
    "https://soundcloud.com/dataframed/data-science-tool-building"
   ]
  },
  {
   "cell_type": "markdown",
   "metadata": {
    "slideshow": {
     "slide_type": "fragment"
    }
   },
   "source": [
    "How open source packages are maintained and updated:\n",
    "- support from foundations\n",
    "- grant funding\n",
    "- out of the kindness of individual's or the community's heart(s)"
   ]
  },
  {
   "cell_type": "markdown",
   "metadata": {
    "slideshow": {
     "slide_type": "slide"
    }
   },
   "source": [
    "## Software Management & Distribution\n",
    "\n",
    "- Jupyter\n",
    "- GitHub\n",
    "- PyPI\n",
    "- PIP\n",
    "- Conda"
   ]
  },
  {
   "cell_type": "markdown",
   "metadata": {
    "slideshow": {
     "slide_type": "slide"
    }
   },
   "source": [
    "## Aside: Project Jupyter"
   ]
  },
  {
   "cell_type": "markdown",
   "metadata": {
    "slideshow": {
     "slide_type": "fragment"
    }
   },
   "source": [
    "- Spun off from IPython in 2014 (Fernando Perez)\n",
    "- originally called \"IPython Notebooks\" (this is where .ipynb comes from)\n",
    "- intended for use by those who program in Julia, Python, and R \n",
    "- developed to support those who use interactive computing"
   ]
  },
  {
   "cell_type": "markdown",
   "metadata": {
    "slideshow": {
     "slide_type": "fragment"
    }
   },
   "source": [
    "This document (.ipynb) IS a JSON document\n",
    "- {'key' : 'value'}\n",
    "- nested & hierarchical\n",
    "- operating unit is the cell (Markdown, code, LaTeX, ...)"
   ]
  },
  {
   "cell_type": "markdown",
   "metadata": {
    "slideshow": {
     "slide_type": "fragment"
    }
   },
   "source": [
    "### IPython\n",
    "\n",
    "- Interactive Python\n",
    "- Initial release: 2001\n",
    "- Command Shell for interactive computing in the shell"
   ]
  },
  {
   "cell_type": "markdown",
   "metadata": {
    "slideshow": {
     "slide_type": "fragment"
    }
   },
   "source": [
    "- 1991: Python 0.9.0 was first released \n",
    "- 1994: Python 1.0 (lambda, map, filter, and reduce)\n",
    "- 2000: Python 2.0 (list comprehensions, full garbage collector, supported unicode)\n",
    "- 2001: IPython released\n",
    "- 2008: Python 3.0 released (print function; not backwards-compatible, fulfilling the 13th law of the Zen of Python)\n",
    "- 2014: Jupyter notebooks spun off"
   ]
  },
  {
   "cell_type": "markdown",
   "metadata": {
    "slideshow": {
     "slide_type": "fragment"
    }
   },
   "source": [
    "## Clicker Question #2\n",
    "\n",
    "Your final project is a chatbot that will discuss sports with you. How would you implement this?\n",
    "\n",
    "- A) Jupyter Notebook only\n",
    "- B) module only \n",
    "- C) module + Jupyter Notebook\n",
    "- D) IPython\n",
    "- E) Python in shell (command line)"
   ]
  },
  {
   "cell_type": "markdown",
   "metadata": {
    "slideshow": {
     "slide_type": "fragment"
    }
   },
   "source": [
    "## Clicker Question #3\n",
    "\n",
    "Your final project is a basic data analysis where you read a file in, create a few plots, and do a basic statistical analysis. How would you implement this?\n",
    "\n",
    "- A) Jupyter Notebook only\n",
    "- B) module only \n",
    "- C) module + Jupyter Notebook\n",
    "- D) IPython\n",
    "- E) Python in shell (command line)"
   ]
  },
  {
   "cell_type": "markdown",
   "metadata": {
    "slideshow": {
     "slide_type": "slide"
    }
   },
   "source": [
    "### GitHub"
   ]
  },
  {
   "cell_type": "markdown",
   "metadata": {
    "slideshow": {
     "slide_type": "fragment"
    }
   },
   "source": [
    "<div class=\"alert alert-success\">\n",
    "<b>GitHub</b> is a software development platform, which is used to host and develop open source projects.\n",
    "</div>"
   ]
  },
  {
   "cell_type": "markdown",
   "metadata": {
    "slideshow": {
     "slide_type": "fragment"
    }
   },
   "source": [
    "Similar to Dropbox or Google Drive...but for code."
   ]
  },
  {
   "cell_type": "markdown",
   "metadata": {
    "slideshow": {
     "slide_type": "fragment"
    }
   },
   "source": [
    "## Benefits of GitHub\n",
    "\n",
    "- Share code\n",
    "- Work collaboratively\n",
    "- See others' code \n",
    "- Contribute to others' code"
   ]
  },
  {
   "cell_type": "markdown",
   "metadata": {
    "slideshow": {
     "slide_type": "fragment"
    }
   },
   "source": [
    "<div class=\"alert alert-info\">\n",
    "If you create a GitHub account and add your final project to a public repository on GitHub, you will receive extra credit on your final project.\n",
    "</div>"
   ]
  },
  {
   "cell_type": "markdown",
   "metadata": {
    "slideshow": {
     "slide_type": "fragment"
    }
   },
   "source": [
    "But...what if you just want to _use_ what's available to you in Python..."
   ]
  },
  {
   "cell_type": "markdown",
   "metadata": {
    "slideshow": {
     "slide_type": "slide"
    }
   },
   "source": [
    "### PyPI: Python Package Index"
   ]
  },
  {
   "cell_type": "markdown",
   "metadata": {
    "slideshow": {
     "slide_type": "fragment"
    }
   },
   "source": [
    "<div class=\"alert alert-success\">\n",
    "The Python Package Index is a software repository for the Python programming language.\n",
    "</div>"
   ]
  },
  {
   "cell_type": "markdown",
   "metadata": {
    "slideshow": {
     "slide_type": "fragment"
    }
   },
   "source": [
    "Where packages are hosted. You can search and use packages from Python."
   ]
  },
  {
   "cell_type": "markdown",
   "metadata": {
    "slideshow": {
     "slide_type": "slide"
    }
   },
   "source": [
    "### PIP: Python Installer"
   ]
  },
  {
   "cell_type": "markdown",
   "metadata": {
    "slideshow": {
     "slide_type": "fragment"
    }
   },
   "source": [
    "<div class=\"alert alert-success\">\n",
    "PIP is a Python tool for installing Python packages. \n",
    "</div>"
   ]
  },
  {
   "cell_type": "markdown",
   "metadata": {
    "slideshow": {
     "slide_type": "fragment"
    }
   },
   "source": [
    "It searches PyPi for you and allows you to install new python packages from the terminal.\n",
    "\n",
    "The format for this is:\n",
    "\n",
    "`pip install package_name`\n",
    "\n",
    "On Datahub, you have to use the `--user` flag\n",
    "\n",
    "`pip install --user package_name`\n"
   ]
  },
  {
   "cell_type": "code",
   "execution_count": null,
   "metadata": {
    "slideshow": {
     "slide_type": "fragment"
    }
   },
   "outputs": [],
   "source": [
    "# for example \n",
    "!pip install neruodsp"
   ]
  },
  {
   "cell_type": "markdown",
   "metadata": {
    "slideshow": {
     "slide_type": "slide"
    }
   },
   "source": [
    "### Dependencies"
   ]
  },
  {
   "cell_type": "markdown",
   "metadata": {
    "slideshow": {
     "slide_type": "fragment"
    }
   },
   "source": [
    "<div class=\"alert alert-success\">\n",
    "Packages can have dependencies on each other, meaning they require (use) other packages to work.\n",
    "</div>"
   ]
  },
  {
   "cell_type": "markdown",
   "metadata": {
    "slideshow": {
     "slide_type": "slide"
    }
   },
   "source": [
    "## A Note on Conda"
   ]
  },
  {
   "cell_type": "markdown",
   "metadata": {
    "slideshow": {
     "slide_type": "fragment"
    }
   },
   "source": [
    "<div class=\"alert alert-success\">\n",
    "Conda is a package management and environment management system. \n",
    "</div>"
   ]
  },
  {
   "cell_type": "markdown",
   "metadata": {
    "slideshow": {
     "slide_type": "fragment"
    }
   },
   "source": [
    "`pip` manages single installs. `Conda` manages the whole system / environment and interactions between packages."
   ]
  }
 ],
 "metadata": {
  "celltoolbar": "Slideshow",
  "kernelspec": {
   "display_name": "Python 3",
   "language": "python",
   "name": "python3"
  },
  "language_info": {
   "codemirror_mode": {
    "name": "ipython",
    "version": 3
   },
   "file_extension": ".py",
   "mimetype": "text/x-python",
   "name": "python",
   "nbconvert_exporter": "python",
   "pygments_lexer": "ipython3",
   "version": "3.7.0"
  },
  "rise": {
   "scroll": true
  }
 },
 "nbformat": 4,
 "nbformat_minor": 2
}
