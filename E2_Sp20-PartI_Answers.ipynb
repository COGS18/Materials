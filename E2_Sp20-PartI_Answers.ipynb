{
 "cells": [
  {
   "cell_type": "markdown",
   "metadata": {
    "nbgrader": {
     "grade": false,
     "grade_id": "intro",
     "locked": true,
     "schema_version": 3,
     "solution": false
    }
   },
   "source": [
    "# COGS 18 - Exam 2 (Part I)\n",
    "\n",
    "This is the second exam for Spring 2020. It covers topics through the Command Line Lecture.\n",
    "\n",
    "This total exam is out of 20 points, worth 20% of your grade. \n",
    "\n",
    "Part I is worth 5 points.\n",
    "\n",
    "**PLEASE DO NOT CHANGE THE NAME OF THIS FILE.**\n",
    "\n",
    "**PLEASE DO NOT COPY & PASTE OR DELETE CELLS INLCUDED IN THE EXAM.** (Note that you can add additional cells, if you want to test things out."
   ]
  },
  {
   "cell_type": "markdown",
   "metadata": {
    "nbgrader": {
     "grade": false,
     "grade_id": "instructions1",
     "locked": true,
     "schema_version": 3,
     "solution": false
    }
   },
   "source": [
    "## Instructions\n",
    "\n",
    "#### Timing\n",
    "- The exam is designed to take you 50 minutes.\n",
    "- There will be a 24 hour window during which you can complete this exam.\n",
    "- If it takes you longer than 50 minutes, you're free to use that time.\n",
    "\n",
    "#### The Rules\n",
    "- You are to complete this exam on your own.\n",
    "- This is open-notes & open-Google\n",
    "- You may not talk to any humans about this exam. \n",
    "- The following are all *prohibited*:\n",
    "    - text/phone/online chat communication\n",
    "    - posting questions to a message board where a human could respond\n",
    "    - asking anyone via any form about a question on this test directly\n",
    "- Clarification questions will ***not*** be allowed and there will be no posting on Piazza about the exam at all. \n",
    "    - Piazza posts about the exam will not be answered and will be deleted. \n",
    "    - Students who post questions about the exam to Piazza are at risk of losing points on the exam.\n",
    "    - If you are confused about wording, add a note to your exam explaining your confusion and how you interpreted the question. \n",
    "    - Note: This policy is b/c we are incapable of responding for 24h straight. This is the only way to make it fair across the board for students."
   ]
  },
  {
   "cell_type": "markdown",
   "metadata": {
    "nbgrader": {
     "grade": false,
     "grade_id": "part1",
     "locked": true,
     "schema_version": 3,
     "solution": false
    }
   },
   "source": [
    "## Part 1: E1 Review (5 points)"
   ]
  },
  {
   "cell_type": "markdown",
   "metadata": {
    "nbgrader": {
     "grade": false,
     "grade_id": "q1",
     "locked": true,
     "schema_version": 3,
     "solution": false
    }
   },
   "source": [
    "### Q1 - Variables & Operators (1 point)\n",
    "\n",
    "In the cell below, create three variables: `var_math`, `var_comp`, and `var_memb`.\n",
    "\n",
    "Additional variables can be created and additional operators used, but the following three variables must be created and satisfy the following requirements:\n",
    "1. `var_math` must use *at least three* of the seven of the math operators (`+`, `-`, `/`, `*`, `**`, `%`, `//`) and should store (return) the value 12 (or 12.0)\n",
    "2. `var_comp` must be created using *at least three* of the comparison operators (`<`,`>`,`<=`,`>=`,`!=`,`==`) and store (return) the value `False`\n",
    "3. `var_memb` must use a membership operator (`in`, `not in`) to check whether a string is in a list and return the value `True`. (You get to specify the specific string and the specific list used in your answer.)"
   ]
  },
  {
   "cell_type": "code",
   "execution_count": 15,
   "metadata": {
    "nbgrader": {
     "grade": false,
     "grade_id": "q1-solution",
     "locked": false,
     "schema_version": 3,
     "solution": true
    }
   },
   "outputs": [],
   "source": [
    "### BEGIN SOLUTION\n",
    "# actual operations will differ\n",
    "var_math = 12 * 2 + 2 - 14\n",
    "var_comp = 7 < 6 and (6==6 or 7!=6)\n",
    "var_memb = 'string' in [1,2,'string']\n",
    "### END SOLUTION"
   ]
  },
  {
   "cell_type": "code",
   "execution_count": 16,
   "metadata": {
    "nbgrader": {
     "grade": true,
     "grade_id": "q1-test1",
     "locked": true,
     "points": 0.333,
     "schema_version": 3,
     "solution": false
    }
   },
   "outputs": [],
   "source": [
    "assert var_math is not None\n",
    "\n",
    "### BEGIN HIDDEN TESTS\n",
    "assert var_math == 12\n",
    "### END HIDDEN TESTS"
   ]
  },
  {
   "cell_type": "code",
   "execution_count": 17,
   "metadata": {
    "nbgrader": {
     "grade": true,
     "grade_id": "q1-test2",
     "locked": true,
     "points": 0.333,
     "schema_version": 3,
     "solution": false
    }
   },
   "outputs": [],
   "source": [
    "assert var_comp is not None\n",
    "\n",
    "### BEGIN HIDDEN TESTS\n",
    "assert not var_comp\n",
    "### END HIDDEN TESTS"
   ]
  },
  {
   "cell_type": "code",
   "execution_count": 18,
   "metadata": {
    "nbgrader": {
     "grade": true,
     "grade_id": "q1-test3",
     "locked": true,
     "points": 0.333,
     "schema_version": 3,
     "solution": false,
     "task": false
    }
   },
   "outputs": [],
   "source": [
    "assert var_memb is not None\n",
    "\n",
    "### BEGIN HIDDEN TESTS\n",
    "assert var_memb\n",
    "### END HIDDEN TESTS"
   ]
  },
  {
   "cell_type": "markdown",
   "metadata": {
    "nbgrader": {
     "grade": false,
     "grade_id": "q2",
     "locked": true,
     "schema_version": 3,
     "solution": false
    }
   },
   "source": [
    "### Q2 - Variables & Indexing (1 point)\n",
    "\n",
    "Define a list `my_list` that stores 9 items: 3 integers, 3 strings, 2 booleans, and 1 float (in any order).\n",
    "\n",
    "Then, write code that stores the following elements of that list.\n",
    "\n",
    "1. Store the second element of `my_list` list through to the end of the list in the variable `list_a`\n",
    "2. Store the last element of `my_list` in the variable `list_b`\n",
    "\n",
    "Note: \"element\" refers to the position in the list - so the element at index 0 is the *first* element in any list."
   ]
  },
  {
   "cell_type": "code",
   "execution_count": 19,
   "metadata": {
    "nbgrader": {
     "grade": false,
     "grade_id": "q2-solution",
     "locked": false,
     "schema_version": 3,
     "solution": true
    }
   },
   "outputs": [],
   "source": [
    "### BEGIN SOLUTION\n",
    "my_list = [1, 2, 3, 'a', 'b', 'c', True, False, 1.0]\n",
    "list_a = my_list[1:]\n",
    "list_b = my_list[-1]\n",
    "### END SOLUTION"
   ]
  },
  {
   "cell_type": "code",
   "execution_count": 20,
   "metadata": {
    "nbgrader": {
     "grade": true,
     "grade_id": "q2-test1",
     "locked": true,
     "points": 0.333333,
     "schema_version": 3,
     "solution": false
    }
   },
   "outputs": [],
   "source": [
    "assert my_list is not None\n",
    "\n",
    "### BEGIN HIDDEN TESTS\n",
    "assert len(my_list) == 9\n",
    "\n",
    "# check for specific type satistfied\n",
    "num_int = 0\n",
    "num_str = 0\n",
    "num_bool = 0\n",
    "num_float = 0\n",
    "\n",
    "for el in my_list: \n",
    "    if type(el) == int: \n",
    "        num_int += 1\n",
    "    if type(el) == str:\n",
    "        num_str += 1\n",
    "    if type(el) == bool:\n",
    "        num_bool += 1\n",
    "    if type(el) == float:\n",
    "        num_float += 1\n",
    "               \n",
    "assert num_int == 3\n",
    "assert num_str == 3\n",
    "assert num_bool == 2\n",
    "assert num_float == 1\n",
    "### END HIDDEN TESTS"
   ]
  },
  {
   "cell_type": "code",
   "execution_count": 21,
   "metadata": {
    "nbgrader": {
     "grade": true,
     "grade_id": "q2-test2",
     "locked": true,
     "points": 0.33333,
     "schema_version": 3,
     "solution": false
    }
   },
   "outputs": [],
   "source": [
    "assert list_a is not None\n",
    "\n",
    "### BEGIN HIDDEN TESTS\n",
    "assert list_a == my_list[1:]\n",
    "### END HIDDEN TESTS"
   ]
  },
  {
   "cell_type": "code",
   "execution_count": 22,
   "metadata": {
    "nbgrader": {
     "grade": true,
     "grade_id": "q2-test3",
     "locked": true,
     "points": 0.33333,
     "schema_version": 3,
     "solution": false
    }
   },
   "outputs": [],
   "source": [
    "assert list_b is not None\n",
    "\n",
    "### BEGIN HIDDEN TESTS\n",
    "assert list_b == my_list[-1]\n",
    "### END HIDDEN TESTS"
   ]
  },
  {
   "cell_type": "markdown",
   "metadata": {
    "nbgrader": {
     "grade": false,
     "grade_id": "q3",
     "locked": true,
     "schema_version": 3,
     "solution": false
    }
   },
   "source": [
    "### Q3 - Loops (1 point)\n",
    "\n",
    "Write code that will extract the strings from the `my_list` you created in the previous question, storing these values in to a new list called `list_str`."
   ]
  },
  {
   "cell_type": "code",
   "execution_count": 23,
   "metadata": {
    "nbgrader": {
     "grade": false,
     "grade_id": "q3-solution",
     "locked": false,
     "schema_version": 3,
     "solution": true
    }
   },
   "outputs": [],
   "source": [
    "### BEGIN SOLUTION\n",
    "# output will differ based on who is taking the exam\n",
    "list_str = []\n",
    "for el in my_list:\n",
    "    if type(el) == str:\n",
    "        list_str.append(el)\n",
    "### END SOLUTION"
   ]
  },
  {
   "cell_type": "code",
   "execution_count": 24,
   "metadata": {
    "nbgrader": {
     "grade": true,
     "grade_id": "q3-test1",
     "locked": true,
     "points": 1,
     "schema_version": 3,
     "solution": false
    }
   },
   "outputs": [],
   "source": [
    "assert list_str is not None\n",
    "\n",
    "### BEGIN HIDDEN TESTS\n",
    "assert isinstance(list_str, list)\n",
    "assert isinstance(list_str[0], str)\n",
    "### END HIDDEN TESTS"
   ]
  },
  {
   "cell_type": "markdown",
   "metadata": {
    "nbgrader": {
     "grade": false,
     "grade_id": "cell-ae94965109eec82a",
     "locked": true,
     "schema_version": 3,
     "solution": false
    }
   },
   "source": [
    "### Q4 - Writing code to accomplish a task (2 points)\n",
    "\n",
    "`grades` provided below stores the names of (fictional) students and their final project scores. Use this dictionary  to complete this task. (In other words, run that cell and use `grades` in your answer.)\n",
    "\n",
    "**The task**: Write code that will programmatically determine which students got passing grades (defined as grades of 65 or higher) _and_ whose score was *odd*. \n",
    "\n",
    "The names of the students who match _both_ of these criteria should be stored in a list called `student_out`\n",
    "\n",
    "Your response should use code constructs discussed in class (i.e conditionals, loops, operators, etc.) to carry out the process specified. You should *not* \"hard-code\" the answer."
   ]
  },
  {
   "cell_type": "code",
   "execution_count": 1,
   "metadata": {
    "nbgrader": {
     "grade": false,
     "grade_id": "q4",
     "locked": true,
     "schema_version": 3,
     "solution": false,
     "task": false
    }
   },
   "outputs": [],
   "source": [
    "# The following dictionary provided for you\n",
    "grades = {'Amir': 91,\n",
    "         'Quynh': 80,\n",
    "         'George': 67,\n",
    "         'Camilla': 92,\n",
    "         'Rachel': 98,\n",
    "         'Sebi': 83,\n",
    "         'Alma': 95,\n",
    "         'Paul': 63,\n",
    "         'Jessica': 65}"
   ]
  },
  {
   "cell_type": "code",
   "execution_count": 2,
   "metadata": {
    "nbgrader": {
     "grade": false,
     "grade_id": "q4-solution",
     "locked": false,
     "schema_version": 3,
     "solution": true
    }
   },
   "outputs": [
    {
     "data": {
      "text/plain": [
       "['Amir', 'George', 'Sebi', 'Alma', 'Jessica']"
      ]
     },
     "execution_count": 2,
     "metadata": {},
     "output_type": "execute_result"
    }
   ],
   "source": [
    "### BEGIN SOLUTION\n",
    "student_out = [] \n",
    "\n",
    "for val in grades:\n",
    "    if grades[val] % 2 != 0 and grades[val] >= 65:\n",
    "        student_out.append(val)\n",
    "student_out\n",
    "### END SOLUTION"
   ]
  },
  {
   "cell_type": "code",
   "execution_count": 3,
   "metadata": {
    "nbgrader": {
     "grade": true,
     "grade_id": "q4-test1",
     "locked": true,
     "points": 1,
     "schema_version": 3,
     "solution": false
    }
   },
   "outputs": [],
   "source": [
    "assert student_out is not None\n",
    "\n",
    "### BEGIN HIDDEN TESTS\n",
    "assert 'Rachel' not in student_out\n",
    "### END HIDDEN TESTS"
   ]
  },
  {
   "cell_type": "code",
   "execution_count": 4,
   "metadata": {
    "nbgrader": {
     "grade": true,
     "grade_id": "q4-test2",
     "locked": true,
     "points": 1,
     "schema_version": 3,
     "solution": false,
     "task": false
    }
   },
   "outputs": [],
   "source": [
    "assert isinstance(student_out, list)\n",
    "\n",
    "### BEGIN HIDDEN TESTS\n",
    "assert 'Jessica' in student_out\n",
    "### END HIDDEN TESTS"
   ]
  },
  {
   "cell_type": "markdown",
   "metadata": {
    "nbgrader": {
     "grade": false,
     "grade_id": "cell-afb5d32ea3790f9b",
     "locked": true,
     "schema_version": 3,
     "solution": false
    }
   },
   "source": [
    "### Part I complete!\n",
    "\n",
    "Good work - you're done with the first part of the exam!\n",
    "\n",
    "Check your work and then move onto complete Part II of the exam."
   ]
  }
 ],
 "metadata": {
  "celltoolbar": "Create Assignment",
  "kernelspec": {
   "display_name": "Python 3",
   "language": "python",
   "name": "python3"
  },
  "language_info": {
   "codemirror_mode": {
    "name": "ipython",
    "version": 3
   },
   "file_extension": ".py",
   "mimetype": "text/x-python",
   "name": "python",
   "nbconvert_exporter": "python",
   "pygments_lexer": "ipython3",
   "version": "3.7.0"
  }
 },
 "nbformat": 4,
 "nbformat_minor": 2
}
