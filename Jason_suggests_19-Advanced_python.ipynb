{
 "cells": [
  {
   "cell_type": "markdown",
   "id": "168c3c1a",
   "metadata": {},
   "source": [
    "# Advanced Python\n",
    "\n",
    "- class inheritence\n",
    "- decorators\n",
    "- ipywidgets\n",
    "\n",
    "\n",
    "![flying because python](https://imgs.xkcd.com/comics/python.png)\n",
    "\n"
   ]
  },
  {
   "cell_type": "markdown",
   "id": "ec0a4778",
   "metadata": {},
   "source": [
    "## Class inheritence\n",
    "\n",
    "Inheritance allows us to define a class that inherits all the methods and attributes from another class. Parent class (aka super class aka base class) is the class being inherited from. Child class (aka derived class) is the class getting all the parent's hard work for free :)\n",
    "\n",
    "Now we can start to design code with efficient reuse of work we already did!"
   ]
  },
  {
   "cell_type": "code",
   "execution_count": null,
   "id": "6a7dec0c",
   "metadata": {},
   "outputs": [],
   "source": [
    "class Person:\n",
    "    def __init__(self, fname, lname):\n",
    "        self.firstname = fname\n",
    "        self.lastname = lname\n",
    "\n",
    "    def get_first_last(self):\n",
    "        return self.firstname+' '+self.lastname\n",
    "\n",
    "    def get_last_first(self): \n",
    "        return self.lastname+', '+self.firstname"
   ]
  },
  {
   "cell_type": "code",
   "execution_count": null,
   "id": "022e9500",
   "metadata": {},
   "outputs": [],
   "source": [
    "p1 = Person('Jason','Fleischer')\n",
    "\n",
    "print(p1.get_first_last())\n",
    "print(p1.get_last_first())"
   ]
  },
  {
   "cell_type": "markdown",
   "id": "a69ac98c",
   "metadata": {},
   "source": [
    "Let's make a Student class... \n",
    "\n",
    "but I'm lazy and don't want to do all the work of reimplementing.  So let's inherit Person's abilities "
   ]
  },
  {
   "cell_type": "code",
   "execution_count": null,
   "id": "2f83c39a",
   "metadata": {},
   "outputs": [],
   "source": [
    "# as is this will cause an error in the next cell execution\n",
    "# but if you add (Person) at the end of `class Student` \n",
    "# then we inherit the properties, no error!\n",
    "class Student:  # class Student(Person): \n",
    "    pass"
   ]
  },
  {
   "cell_type": "code",
   "execution_count": null,
   "id": "f95e0bc8",
   "metadata": {},
   "outputs": [],
   "source": [
    "s1 = Student('Ezra','Smith')\n",
    "\n",
    "print(s1.get_first_last())\n",
    "print(s1.get_last_first())"
   ]
  },
  {
   "cell_type": "markdown",
   "id": "1bec28b9",
   "metadata": {},
   "source": [
    "Once you add (Person) to inherit all of Person's attributes and methods, class Student is reusing all the work you did with Person!\n",
    "\n",
    "Lets make Student have extra abilities... so we need to add new instance attributes like PID and grade."
   ]
  },
  {
   "cell_type": "code",
   "execution_count": null,
   "id": "0d47f8ba",
   "metadata": {},
   "outputs": [],
   "source": [
    "class Student(Person):\n",
    "    def __init__(self, fname, lname, pid, grade):\n",
    "        self.pid = pid\n",
    "        self.grade = grade\n",
    "    "
   ]
  },
  {
   "cell_type": "code",
   "execution_count": null,
   "id": "f34d1ea1",
   "metadata": {},
   "outputs": [],
   "source": [
    "s1 = Student('Ezra','Smith','A12345','A-')\n",
    "\n",
    "print(s1.get_first_last())\n",
    "print(s1.get_last_first())"
   ]
  },
  {
   "cell_type": "markdown",
   "id": "0a8c0a64",
   "metadata": {},
   "source": [
    "When you add the `__init__()` function, the child class will no longer inherit the parent's `__init__()` function!\n",
    "\n",
    "To keep the inheritance of the parent's __init__() function, explicitly add a call to the parent's __init__() function:"
   ]
  },
  {
   "cell_type": "code",
   "execution_count": null,
   "id": "15e594b7",
   "metadata": {},
   "outputs": [],
   "source": [
    "class Student(Person):\n",
    "    def __init__(self, fname, lname, pid, grade):\n",
    "        Person.__init__(self,fname, lname)\n",
    "        self.pid = pid\n",
    "        self.grade = grade"
   ]
  },
  {
   "cell_type": "code",
   "execution_count": null,
   "id": "eade0a71",
   "metadata": {},
   "outputs": [],
   "source": [
    "s1 = Student('Ezra','Smith','A12345','A-')\n",
    "\n",
    "print(s1.get_first_last())\n",
    "print(s1.get_last_first())"
   ]
  },
  {
   "cell_type": "markdown",
   "id": "5d67c22b",
   "metadata": {},
   "source": [
    "But we don't even have to care what the NAME of the parent class is... python has a generic \"get my parent\" function called `super()`\n",
    "\n",
    "__NB__: when you call `super()` you do NOT have to explicitly pass the `self` pointer"
   ]
  },
  {
   "cell_type": "code",
   "execution_count": null,
   "id": "596b1ea0",
   "metadata": {},
   "outputs": [],
   "source": [
    "class Student(Person):\n",
    "    def __init__(self, prefix, fname, lname, pid, grade):\n",
    "        super().__init__(prefix, fname, lname)\n",
    "        self.pid = pid\n",
    "        self.grade = grade"
   ]
  },
  {
   "cell_type": "code",
   "execution_count": null,
   "id": "7bc77550",
   "metadata": {},
   "outputs": [],
   "source": [
    "s1 = Student('Mr.','Ezra','Smith','A12345','A-')\n",
    "\n",
    "print(s1.get_first_last())\n",
    "print(s1.get_last_first())"
   ]
  },
  {
   "cell_type": "markdown",
   "id": "83e59123",
   "metadata": {},
   "source": [
    "### iClicker\n",
    "\n",
    "Modify the Person class to store a name prefix (like mr., dr. or prof. ).  Make `get_first_last()` print out the prefix too.\n",
    "\n",
    "Now redefine Student class to take advantage of that extra work you did in the superclass with just a tiny bit of work!\n",
    "\n",
    "\n",
    "When you're done click in\n",
    "\n",
    "A) I did it! <br>\n",
    "B) I think I did it! <br>\n",
    "C) SO LOST!\n"
   ]
  },
  {
   "cell_type": "markdown",
   "id": "0623f5d7",
   "metadata": {},
   "source": [
    "## Decorators\n",
    "\n",
    "Inheritence is just one way to reuse code efficiently.\n",
    "\n",
    "Another is the concept of a function decorator.  \n",
    "\n",
    "Sometimes you want to add superpowers to some piece of code you already have.  But its not a class so you can't just inherit and expand.  Decorators are a way to do something similar to class inheritence when working with stand alone functions.\n",
    "\n"
   ]
  },
  {
   "cell_type": "code",
   "execution_count": null,
   "id": "c2d7b5d8",
   "metadata": {},
   "outputs": [],
   "source": [
    "def decorator_example(func):\n",
    "    '''\n",
    "    wraps up a function inside another function\n",
    "    \n",
    "    inputs: func (a function)\n",
    "    outputs: returns a new function wrapper() that uses func() inside\n",
    "    '''\n",
    "    def wrapper():\n",
    "        print(\"Something is happening before the function is called.\")\n",
    "        func()\n",
    "        print(\"Something is happening after the function is called.\")\n",
    "    \n",
    "    # note what we've just done... defined a new function wrapper()\n",
    "    # and returned the function itself :)\n",
    "    return wrapper\n",
    "\n",
    "def say_whee():\n",
    "    print(\"Whee!\")\n",
    "\n",
    "say_whee = decorator_example(say_whee)"
   ]
  },
  {
   "cell_type": "code",
   "execution_count": null,
   "id": "212ff2d0",
   "metadata": {},
   "outputs": [],
   "source": [
    "say_whee()"
   ]
  },
  {
   "cell_type": "markdown",
   "id": "474c1baa",
   "metadata": {},
   "source": [
    "I bet you didn't know that you can pass a function as an argument to another function!! :)\n",
    "\n",
    "And isn't it interesting that we can reassign a function to be decorated version of itself?  Its kind of like with variables where you can do something like\n",
    "```python\n",
    "a = 0\n",
    "a = a + 1\n",
    "```\n",
    "but now we are doing this with functions, so that we say\n",
    "```python\n",
    "def whee: ...\n",
    "\n",
    "whee = deocrated(whee)\n",
    "```\n",
    "Because this is Python, where there is a strong view that programming should be aesthetically pleasing there is a \"syntactic sugar\" version of this same idea.\n",
    "\n"
   ]
  },
  {
   "cell_type": "code",
   "execution_count": null,
   "id": "8a0c3cff",
   "metadata": {},
   "outputs": [],
   "source": [
    "def decorator_example(func):\n",
    "    def wrapper():\n",
    "        print(\"Something is happening before the function is called.\")\n",
    "        func()\n",
    "        print(\"Something is happening after the function is called.\")\n",
    "    return wrapper\n",
    "\n",
    "@decorator_example\n",
    "def say_whee():\n",
    "    print(\"Whee!\")"
   ]
  },
  {
   "cell_type": "code",
   "execution_count": null,
   "id": "309abfa2",
   "metadata": {},
   "outputs": [],
   "source": [
    "say_whee()"
   ]
  },
  {
   "cell_type": "markdown",
   "id": "67cd6d5d",
   "metadata": {},
   "source": [
    "### iClicker\n",
    "\n",
    "Make a decorator called `do_twice(func)` that calls `func` twice!  Then make say_whee() happen two times using the decorator.\n",
    "\n",
    "I gave you a skeleton below to start\n",
    "\n",
    "When you're done click in\n",
    "\n",
    "A) I did it! <br>\n",
    "B) I think I did it! <br>\n",
    "C) SO LOST!"
   ]
  },
  {
   "cell_type": "code",
   "execution_count": null,
   "id": "50e30d21",
   "metadata": {},
   "outputs": [],
   "source": [
    "def do_twice(func):\n",
    "    def wrapper_do_twice():\n",
    "        raise NotImplemented ## YOUR CODE HERE\n",
    "    return wrapper_do_twice"
   ]
  },
  {
   "cell_type": "code",
   "execution_count": null,
   "id": "2e61e622",
   "metadata": {},
   "outputs": [],
   "source": [
    "raise NotImplemented ## YOUR CODE HERE\n",
    "def say_whee():\n",
    "    print(\"Whee!\")"
   ]
  },
  {
   "cell_type": "code",
   "execution_count": null,
   "id": "fd0a844e",
   "metadata": {},
   "outputs": [],
   "source": [
    "say_whee()"
   ]
  },
  {
   "cell_type": "markdown",
   "id": "638a5d57",
   "metadata": {},
   "source": [
    "Some things that you can do with decorators...  \n",
    "\n",
    "1. You can make it so that decorators can be used on functions that take arguments (what we've done up until now won't work for that)\n",
    "\n",
    "1. We can add arguments to our decorator itself\n",
    "\n",
    "Don't worry if this is a bit confusing, I'm not expecting you to learn this.  I'm just setting you up to see something cool next... and  setting you up so you can revisit this later and understand it\n"
   ]
  },
  {
   "cell_type": "code",
   "execution_count": null,
   "id": "435ac07e",
   "metadata": {},
   "outputs": [],
   "source": [
    "def repeat(num_times=2):\n",
    "    # note default value for decorator argument\n",
    "    def decorator_repeat(func):\n",
    "        def wrapper_repeat(*args, **kwargs):\n",
    "            # *args, **kwargs are how we pass arbitary arguments to the thing we are wrapping\n",
    "            vals = []\n",
    "            for _ in range(num_times): \n",
    "                value = func(*args, **kwargs)\n",
    "                vals.append(value)\n",
    "            return vals\n",
    "        \n",
    "        return wrapper_repeat\n",
    "    \n",
    "    return decorator_repeat\n"
   ]
  },
  {
   "cell_type": "code",
   "execution_count": null,
   "id": "dfc95946",
   "metadata": {},
   "outputs": [],
   "source": [
    "@repeat(num_times=5)\n",
    "def say_things(emotion):\n",
    "    if emotion=='happy':\n",
    "        statement='Whee!'\n",
    "    elif emotion=='sad':\n",
    "        statement='Waaa!'\n",
    "    \n",
    "    # we will both print and return the word\n",
    "    print(statement)\n",
    "    \n",
    "    return statement\n",
    "        \n",
    "\n",
    "\n",
    "        \n"
   ]
  },
  {
   "cell_type": "code",
   "execution_count": null,
   "id": "d8ec49b9",
   "metadata": {},
   "outputs": [],
   "source": [
    "say_things('happy')"
   ]
  },
  {
   "cell_type": "markdown",
   "id": "80fb6ab7",
   "metadata": {},
   "source": [
    "There are a few subtle things happening in the repeat() function:\n",
    "\n",
    "- When wrapping a function that takes arguments, our wrapper needs to also take arguments. The problem is, we'd like wrap ANY function. Some functions take 0 args, others take 1, 2, 3, etc....  Python gives us something fun we can use anywhere, not just in decorators.  `*args, **kwargs` refers to a list of arguments (e.g. for `function(1,'a')`  `args[0]=1` and `args[1]='a'`) or keyword arguments (e.g. for `function(data=df, color='red')` `kwargs['data']=df` and `kwargs['color']=red`)\n",
    "\n",
    "- Defining `decorator_repeat()` as an inner function means that `repeat()` will refer to a function object, `decorator_repeat`. Earlier, you used decorators like `@do_twice` without parentheses. Now, to have arguments for a decorator you need to add parentheses when setting up the decorator, like `@repeat(num_times=2)`. \n",
    "\n",
    "- The `num_times` argument is seemingly not used in `repeat()` itself. But by passing num_times, a closure is created where the value of num_times is stored until `wrapper_repeat()` uses it later."
   ]
  },
  {
   "cell_type": "markdown",
   "id": "32e2ae25",
   "metadata": {},
   "source": [
    "## Time for some UI\n",
    "\n",
    "We can use the decorators idea to implement a simple GUI using iPyWidgets\n",
    "\n"
   ]
  },
  {
   "cell_type": "code",
   "execution_count": null,
   "id": "5ebc5adb",
   "metadata": {},
   "outputs": [],
   "source": [
    "# you may need this\n",
    "%pip install --user ipywidgets"
   ]
  },
  {
   "cell_type": "code",
   "execution_count": null,
   "id": "34064e30",
   "metadata": {},
   "outputs": [],
   "source": [
    "import ipywidgets as widgets"
   ]
  },
  {
   "cell_type": "code",
   "execution_count": null,
   "id": "d23ee512",
   "metadata": {},
   "outputs": [],
   "source": [
    "@widgets.interact\n",
    "def f(x=5):\n",
    "    print(x*x)"
   ]
  },
  {
   "cell_type": "code",
   "execution_count": null,
   "id": "cd41696e",
   "metadata": {},
   "outputs": [],
   "source": [
    "import numpy as np\n",
    "import matplotlib.pyplot as plt\n",
    "%matplotlib inline"
   ]
  },
  {
   "cell_type": "code",
   "execution_count": null,
   "id": "1ecf7d73",
   "metadata": {},
   "outputs": [],
   "source": [
    "@widgets.interact_manual(\n",
    "    color=['blue', 'red', 'green'], lw=(1., 10.))\n",
    "def plot(freq=1., color='blue', lw=2, grid=True):\n",
    "    t = np.linspace(-1., +1., 1000)\n",
    "    fig, ax = plt.subplots(1, 1, figsize=(8, 6))\n",
    "    ax.plot(t, np.sin(2 * np.pi * freq * t),\n",
    "            lw=lw, color=color)\n",
    "    ax.grid(grid)"
   ]
  },
  {
   "cell_type": "code",
   "execution_count": null,
   "id": "8f6e9bce",
   "metadata": {},
   "outputs": [],
   "source": []
  }
 ],
 "metadata": {
  "kernelspec": {
   "display_name": "Python 3 (ipykernel)",
   "language": "python",
   "name": "python3"
  },
  "language_info": {
   "codemirror_mode": {
    "name": "ipython",
    "version": 3
   },
   "file_extension": ".py",
   "mimetype": "text/x-python",
   "name": "python",
   "nbconvert_exporter": "python",
   "pygments_lexer": "ipython3",
   "version": "3.8.8"
  }
 },
 "nbformat": 4,
 "nbformat_minor": 5
}
