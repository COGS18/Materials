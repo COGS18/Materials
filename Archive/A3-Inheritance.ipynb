{
 "cells": [
  {
   "cell_type": "markdown",
   "metadata": {},
   "source": [
    "# Expanding on Class Inheritance\n",
    "\n",
    "In this example below, we see that when you pass a Parent class (`Animal()`) into a Child class (`Dog()` and `Cat()`), the children ***inherit the attributes and methods of the Parent class***."
   ]
  },
  {
   "cell_type": "code",
   "execution_count": 1,
   "metadata": {},
   "outputs": [],
   "source": [
    "class Animal():\n",
    "    \n",
    "    sound = 'Generic Animal Sound'\n",
    "    \n",
    "    def __init__(self, name):\n",
    "        self.name = name\n",
    "    \n",
    "    def speak(self, n_times=2):\n",
    "        return self.sound * n_times\n",
    "\n",
    "# specify class inheritance by passing\n",
    "# parent class in parentheses\n",
    "class Dog(Animal):\n",
    "    sound = 'Woof'\n",
    "\n",
    "class Cat(Animal):\n",
    "    sound = \"Meow\""
   ]
  },
  {
   "cell_type": "code",
   "execution_count": 2,
   "metadata": {},
   "outputs": [
    {
     "name": "stdout",
     "output_type": "stream",
     "text": [
      "child class attribute: Woof\n",
      "parent instance attribute: Ruffus\n",
      "using parent method...\n"
     ]
    },
    {
     "data": {
      "text/plain": [
       "'WoofWoof'"
      ]
     },
     "execution_count": 2,
     "metadata": {},
     "output_type": "execute_result"
    }
   ],
   "source": [
    "# demonstrating inheritance...\n",
    "my_dog = Dog('Ruffus')\n",
    "print('child class attribute:', my_dog.sound)\n",
    "print('parent instance attribute:', my_dog.name)\n",
    "print('using parent method...')\n",
    "my_dog.speak()"
   ]
  },
  {
   "cell_type": "code",
   "execution_count": 3,
   "metadata": {},
   "outputs": [],
   "source": [
    "# Adding a cell for you to test this\n",
    "# concept out with the Cat() type object"
   ]
  },
  {
   "cell_type": "markdown",
   "metadata": {},
   "source": [
    "But...what happens if you pass in a Parent class and then define instance attributes within the child class? (I'm just going to focus on the class `Dog()` from here, but feel free to test it out by editing and adding to the `Cat()` example to ensure understanding."
   ]
  },
  {
   "cell_type": "code",
   "execution_count": 1,
   "metadata": {},
   "outputs": [],
   "source": [
    "class Animal():\n",
    "    \n",
    "    sound = 'Generic Animal Sound'\n",
    "    \n",
    "    def __init__(self, name):\n",
    "        self.name = name\n",
    "    \n",
    "    def speak(self, n_times=2):\n",
    "        return self.sound * n_times\n",
    "\n",
    "# create instance attribute in child\n",
    "class Dog(Animal):\n",
    "    sound = 'Woof'\n",
    "    \n",
    "    def __init__(self, breed):\n",
    "        self.breed = breed"
   ]
  },
  {
   "cell_type": "code",
   "execution_count": 2,
   "metadata": {},
   "outputs": [
    {
     "name": "stdout",
     "output_type": "stream",
     "text": [
      "child class attribute: Woof\n",
      "child instance attribute: Italian Greyhound\n"
     ]
    },
    {
     "ename": "AttributeError",
     "evalue": "'Dog' object has no attribute 'name'",
     "output_type": "error",
     "traceback": [
      "\u001b[0;31m---------------------------------------------------------------------------\u001b[0m",
      "\u001b[0;31mAttributeError\u001b[0m                            Traceback (most recent call last)",
      "\u001b[0;32m<ipython-input-2-d9faa7907308>\u001b[0m in \u001b[0;36m<module>\u001b[0;34m\u001b[0m\n\u001b[1;32m      4\u001b[0m \u001b[0;34m\u001b[0m\u001b[0m\n\u001b[1;32m      5\u001b[0m \u001b[0;31m# this next line will lead to an AttributeError\u001b[0m\u001b[0;34m\u001b[0m\u001b[0;34m\u001b[0m\u001b[0;34m\u001b[0m\u001b[0m\n\u001b[0;32m----> 6\u001b[0;31m \u001b[0mprint\u001b[0m\u001b[0;34m(\u001b[0m\u001b[0;34m'parent instance attribute:'\u001b[0m\u001b[0;34m,\u001b[0m \u001b[0mmy_dog\u001b[0m\u001b[0;34m.\u001b[0m\u001b[0mname\u001b[0m\u001b[0;34m)\u001b[0m\u001b[0;34m\u001b[0m\u001b[0;34m\u001b[0m\u001b[0m\n\u001b[0m",
      "\u001b[0;31mAttributeError\u001b[0m: 'Dog' object has no attribute 'name'"
     ]
    }
   ],
   "source": [
    "my_dog = Dog('Italian Greyhound')\n",
    "print('child class attribute:', my_dog.sound)\n",
    "print('child instance attribute:', my_dog.breed)\n",
    "\n",
    "# this next line will lead to an AttributeError\n",
    "print('parent instance attribute:', my_dog.name)"
   ]
  },
  {
   "cell_type": "markdown",
   "metadata": {},
   "source": [
    "In the example above, note that when we define instance attributes, this overwrites the parent instance attributes.\n",
    "\n",
    "Unless...\n",
    "\n",
    "Unless we specify that we want to inherit the instance attributes from the parent class. One way to do this is with `super()`"
   ]
  },
  {
   "cell_type": "code",
   "execution_count": 34,
   "metadata": {},
   "outputs": [],
   "source": [
    "class Animal():\n",
    "    \n",
    "    sound = 'Generic Animal Sound'\n",
    "    \n",
    "    def __init__(self, name):\n",
    "        self.name = name\n",
    "    \n",
    "    def speak(self, n_times=2):\n",
    "        return self.sound * n_times\n",
    "\n",
    "class Dog(Animal):\n",
    "    sound = 'Woof'\n",
    "    \n",
    "    def __init__(self, name, breed):\n",
    "        super().__init__(name)         # specify to include parent instance attributes\n",
    "        self.breed = breed"
   ]
  },
  {
   "cell_type": "code",
   "execution_count": 35,
   "metadata": {},
   "outputs": [
    {
     "name": "stdout",
     "output_type": "stream",
     "text": [
      "child class attribute: Woof\n",
      "child instance attribute: Italian Greyhound\n",
      "parent instance attribute: <__main__.Dog object at 0x10c8cb6d0>\n"
     ]
    }
   ],
   "source": [
    "my_dog = Dog(name = 'Ruffus', breed='Italian Greyhound')\n",
    "print('child class attribute:', my_dog.sound)\n",
    "print('child instance attribute:', my_dog.breed)\n",
    "print('parent instance attribute:', my_dog.name)"
   ]
  },
  {
   "cell_type": "markdown",
   "metadata": {},
   "source": [
    "Note that in the above instance attribute definition, we needed to specify that the two instance attributes would be `breed` and `name` within the definition. Then within side the `__init__` code block, we specify where `name` will be inherited from and that `breed` will be the instance attribute, specific to the `Dog()` class.\n",
    "\n",
    "If this weren't the syntax, there would be no way for Python to disambiguate between which position was `name` and which was `breed`."
   ]
  },
  {
   "cell_type": "markdown",
   "metadata": {},
   "source": [
    "So...if that's true, why *didn't* we need to pass anything into `super` in that `Tool()` example from class?"
   ]
  },
  {
   "cell_type": "code",
   "execution_count": 8,
   "metadata": {},
   "outputs": [],
   "source": [
    "class Tool():\n",
    "    \n",
    "    def __init__(self):       \n",
    "        self.is_tool = True\n",
    "        self.tool_type = None\n",
    "    \n",
    "    def use_tool(self):\n",
    "        print('Using tool.')\n",
    "\n",
    "class Hammer(Tool): #inherit Tool class\n",
    "    \n",
    "    def __init__(self):        \n",
    "        super().__init__() # inherit initialization from Tool()\n",
    "        self.tool_type = 'Hammer'\n",
    "        self.why = 'To hammer things.'"
   ]
  },
  {
   "cell_type": "markdown",
   "metadata": {},
   "source": [
    "In the above case, there are no additional values that need to be assigned on creation of an instance of a `Hammer()`. Specifically, `is_tool` and `tool_type` already have values assigned in the Parent class, so the user, when creating a Hammer instance, does not have to pass any values in when creating the instance. "
   ]
  },
  {
   "cell_type": "code",
   "execution_count": 9,
   "metadata": {
    "scrolled": true
   },
   "outputs": [
    {
     "name": "stdout",
     "output_type": "stream",
     "text": [
      "True\n",
      "To hammer things.\n",
      "Hammer\n",
      "Using tool.\n"
     ]
    }
   ],
   "source": [
    "# seeing inheritance example\n",
    "my_tool = Tool()\n",
    "my_hammer = Hammer()\n",
    "print(my_hammer.is_tool)\n",
    "print(my_hammer.why)\n",
    "print(my_hammer.tool_type)\n",
    "my_hammer.use_tool()"
   ]
  },
  {
   "cell_type": "markdown",
   "metadata": {},
   "source": [
    "Considering that, I'm going to edit the `Animal()`/`Dog()` example to demonstrate what that would look like for that example..."
   ]
  },
  {
   "cell_type": "code",
   "execution_count": 10,
   "metadata": {},
   "outputs": [],
   "source": [
    "class Animal():\n",
    "    \n",
    "    sound = 'Generic Animal Sound'\n",
    "    \n",
    "    def __init__(self, name='Default Name'): #set default value for name\n",
    "        self.name = name\n",
    "    \n",
    "    def speak(self, n_times=2):\n",
    "        return self.sound * n_times\n",
    "\n",
    "class Dog(Animal):\n",
    "    sound = 'Woof'\n",
    "    \n",
    "    def __init__(self, breed):\n",
    "        super().__init__()\n",
    "        self.breed = breed"
   ]
  },
  {
   "cell_type": "code",
   "execution_count": 11,
   "metadata": {},
   "outputs": [
    {
     "name": "stdout",
     "output_type": "stream",
     "text": [
      "child class attribute: Woof\n",
      "child instance attribute: Italian Greyhound\n",
      "parent instance attribute: Default Name\n"
     ]
    }
   ],
   "source": [
    "my_dog = Dog('Italian Greyhound')\n",
    "print('child class attribute:', my_dog.sound)\n",
    "print('child instance attribute:', my_dog.breed)\n",
    "print('parent instance attribute:', my_dog.name)"
   ]
  },
  {
   "cell_type": "markdown",
   "metadata": {},
   "source": [
    "In the above, I've set a default value for `name`. Thus, when I create a `Dog()` and do *not* pass any attributes into `super()`, it inherits the values from `Animal()`.\n",
    "\n",
    "Note that by using the above syntax you lose the ability to change the value of `name` in `Dog()`...as that is not an input parameter to your `__init__` in Dog(). So, you're stuck with the name in the parent class."
   ]
  },
  {
   "cell_type": "code",
   "execution_count": 12,
   "metadata": {
    "scrolled": true
   },
   "outputs": [
    {
     "ename": "TypeError",
     "evalue": "__init__() got an unexpected keyword argument 'name'",
     "output_type": "error",
     "traceback": [
      "\u001b[0;31m---------------------------------------------------------------------------\u001b[0m",
      "\u001b[0;31mTypeError\u001b[0m                                 Traceback (most recent call last)",
      "\u001b[0;32m<ipython-input-12-4af5fd12d780>\u001b[0m in \u001b[0;36m<module>\u001b[0;34m\u001b[0m\n\u001b[1;32m      1\u001b[0m \u001b[0;31m# This code will generate a Type Error\u001b[0m\u001b[0;34m\u001b[0m\u001b[0;34m\u001b[0m\u001b[0;34m\u001b[0m\u001b[0m\n\u001b[0;32m----> 2\u001b[0;31m \u001b[0mmy_dog\u001b[0m \u001b[0;34m=\u001b[0m \u001b[0mDog\u001b[0m\u001b[0;34m(\u001b[0m\u001b[0mname\u001b[0m\u001b[0;34m=\u001b[0m\u001b[0;34m'Lexi'\u001b[0m\u001b[0;34m,\u001b[0m \u001b[0mbreed\u001b[0m\u001b[0;34m=\u001b[0m\u001b[0;34m'Italian Greyhound'\u001b[0m\u001b[0;34m)\u001b[0m\u001b[0;34m\u001b[0m\u001b[0;34m\u001b[0m\u001b[0m\n\u001b[0m",
      "\u001b[0;31mTypeError\u001b[0m: __init__() got an unexpected keyword argument 'name'"
     ]
    }
   ],
   "source": [
    "# This code will generate a Type Error\n",
    "my_dog = Dog(name='Lexi', breed='Italian Greyhound')"
   ]
  },
  {
   "cell_type": "markdown",
   "metadata": {},
   "source": [
    "Note that this is not the case for `Animal()` (the parent class). There, you can still specify a different value for the attribute `name`."
   ]
  },
  {
   "cell_type": "code",
   "execution_count": 13,
   "metadata": {
    "scrolled": false
   },
   "outputs": [
    {
     "data": {
      "text/plain": [
       "'other animal name'"
      ]
     },
     "execution_count": 13,
     "metadata": {},
     "output_type": "execute_result"
    }
   ],
   "source": [
    "my_animal = Animal(name='other animal name')\n",
    "my_animal.name"
   ]
  },
  {
   "cell_type": "markdown",
   "metadata": {},
   "source": [
    "While using `super()` is preferred, in response to a student question...\n",
    "\n",
    "What if we wanted to call the Parent class directly...rather than use `super()`? \n",
    "\n",
    "We could use the syntax seen below, calling `Animal.__init__`, but know that `self` has to be passed in when this construct is used."
   ]
  },
  {
   "cell_type": "code",
   "execution_count": 40,
   "metadata": {},
   "outputs": [],
   "source": [
    "class Animal():\n",
    "    \n",
    "    sound = 'Generic Animal Sound'\n",
    "    \n",
    "    def __init__(self, name):\n",
    "        self.name = name\n",
    "    \n",
    "    def speak(self, n_times=2):\n",
    "        return self.sound * n_times\n",
    "\n",
    "class Dog(Animal):\n",
    "    sound = 'Woof'\n",
    "    \n",
    "    def __init__(self, name, breed):\n",
    "        Animal.__init__(self, name)         # specify to include parent instance attributes\n",
    "        self.breed = breed"
   ]
  },
  {
   "cell_type": "code",
   "execution_count": 41,
   "metadata": {},
   "outputs": [
    {
     "name": "stdout",
     "output_type": "stream",
     "text": [
      "child class attribute: Woof\n",
      "child instance attribute: Italian Greyhound\n",
      "parent instance attribute: Ruffus\n"
     ]
    }
   ],
   "source": [
    "my_dog = Dog('Ruffus','Italian Greyhound')\n",
    "print('child class attribute:', my_dog.sound)\n",
    "print('child instance attribute:', my_dog.breed)\n",
    "print('parent instance attribute:', my_dog.name)"
   ]
  }
 ],
 "metadata": {
  "kernelspec": {
   "display_name": "Python 3",
   "language": "python",
   "name": "python3"
  },
  "language_info": {
   "codemirror_mode": {
    "name": "ipython",
    "version": 3
   },
   "file_extension": ".py",
   "mimetype": "text/x-python",
   "name": "python",
   "nbconvert_exporter": "python",
   "pygments_lexer": "ipython3",
   "version": "3.7.9"
  }
 },
 "nbformat": 4,
 "nbformat_minor": 4
}
