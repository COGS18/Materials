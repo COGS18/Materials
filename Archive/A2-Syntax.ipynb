{
 "cells": [
  {
   "cell_type": "markdown",
   "metadata": {},
   "source": [
    "# Python Syntax"
   ]
  },
  {
   "cell_type": "markdown",
   "metadata": {},
   "source": [
    "This notebook is a quick overview of the basic properties and syntax of Python. "
   ]
  },
  {
   "cell_type": "markdown",
   "metadata": {},
   "source": [
    "## Code\n",
    "\n",
    "Computer code is a set of instructions, that can be interpreted and executed by a computer."
   ]
  },
  {
   "cell_type": "code",
   "execution_count": 1,
   "metadata": {
    "collapsed": true
   },
   "outputs": [],
   "source": [
    "my_variable = 12"
   ]
  },
  {
   "cell_type": "code",
   "execution_count": 2,
   "metadata": {},
   "outputs": [
    {
     "name": "stdout",
     "output_type": "stream",
     "text": [
      "28\n"
     ]
    }
   ],
   "source": [
    "number_1 = 4\n",
    "number_2 = 7\n",
    "\n",
    "print(number_1 * number_2)"
   ]
  },
  {
   "cell_type": "markdown",
   "metadata": {},
   "source": [
    "## Comments"
   ]
  },
  {
   "cell_type": "code",
   "execution_count": 3,
   "metadata": {
    "collapsed": true
   },
   "outputs": [],
   "source": [
    "# Comments are denoted with '#'\n",
    "\n",
    "my_var = 1 # Comments can also be inline"
   ]
  },
  {
   "cell_type": "markdown",
   "metadata": {},
   "source": [
    "## Statements"
   ]
  },
  {
   "cell_type": "markdown",
   "metadata": {},
   "source": [
    "A statement is a piece of code that does something. \n",
    "\n",
    "Typically, in Python, a statement in Python equivalent to a line of code. "
   ]
  },
  {
   "cell_type": "code",
   "execution_count": 4,
   "metadata": {
    "collapsed": true
   },
   "outputs": [],
   "source": [
    "# This line of code is a statement\n",
    "my_variable = 1"
   ]
  },
  {
   "cell_type": "markdown",
   "metadata": {},
   "source": [
    "You can explicitly end a line of code with `;`"
   ]
  },
  {
   "cell_type": "code",
   "execution_count": 5,
   "metadata": {
    "collapsed": true
   },
   "outputs": [],
   "source": [
    "# Explicitly end a statement\n",
    "my_val = 1;"
   ]
  },
  {
   "cell_type": "code",
   "execution_count": 6,
   "metadata": {
    "collapsed": true
   },
   "outputs": [],
   "source": [
    "# In Jupyter, using the semi-colon also squashes printing\n",
    "'A string that would usually print out';"
   ]
  },
  {
   "cell_type": "code",
   "execution_count": 7,
   "metadata": {
    "collapsed": true
   },
   "outputs": [],
   "source": [
    "# With explicit statement ends, you can also write multiple statements into a single line\n",
    "val_a = 1; val_b = 2;"
   ]
  },
  {
   "cell_type": "markdown",
   "metadata": {},
   "source": [
    "You can explicitly extend a statement across multiple lines of code using `\\`"
   ]
  },
  {
   "cell_type": "code",
   "execution_count": 8,
   "metadata": {
    "collapsed": true
   },
   "outputs": [],
   "source": [
    "# Write one statement across multiple lines\n",
    "my_list = [1, 2, 3, \\\n",
    "           4, 5, 6, \\\n",
    "           7, 8, 9]"
   ]
  },
  {
   "cell_type": "markdown",
   "metadata": {},
   "source": [
    "## Whitespace"
   ]
  },
  {
   "cell_type": "markdown",
   "metadata": {},
   "source": [
    "Python is a whitespace language, which means that it matters where there is 'blank' space around code.\n",
    "\n",
    "This whitespace is used to interpret the organization of the code - an indentation in Python is used to indicate a code block. "
   ]
  },
  {
   "cell_type": "code",
   "execution_count": 9,
   "metadata": {},
   "outputs": [
    {
     "name": "stdout",
     "output_type": "stream",
     "text": [
      "Inside code block\n"
     ]
    }
   ],
   "source": [
    "# Example of marking code blocks with indentation\n",
    "\n",
    "condition = True\n",
    "if condition:\n",
    "    #       ^ this colon opens a code block\n",
    "    #       Everything below this colon, part of the same code block, should be one indentation to the right\n",
    "    print('Inside code block')\n",
    "\n",
    "# When we want to end the code block, we step back one indentation to the right\n",
    "other_thing = \"This is now outside the indented code block from above\""
   ]
  },
  {
   "cell_type": "markdown",
   "metadata": {},
   "source": [
    "If you open a new code block inside a code block, indent one more level. "
   ]
  },
  {
   "cell_type": "code",
   "execution_count": 10,
   "metadata": {},
   "outputs": [
    {
     "name": "stdout",
     "output_type": "stream",
     "text": [
      "Before the loop\n",
      "\tInside the loop - at the top.\n",
      "\tInside the loop - at the bottom.\n",
      "\tInside the loop - at the top.\n",
      "\t\tInside the conditional, inside the loop.\n",
      "\tInside the loop - at the bottom.\n",
      "\tInside the loop - at the top.\n",
      "\tInside the loop - at the bottom.\n",
      "After the loop.\n"
     ]
    }
   ],
   "source": [
    "# Example with multiple indentations\n",
    "my_list = [False, True, False]\n",
    "\n",
    "print('Before the loop')\n",
    "for element in my_list:\n",
    "    \n",
    "    # Indent one level to be inside the for loop code\n",
    "    print('\\tInside the loop - at the top.')\n",
    "    \n",
    "    if element == True:\n",
    "        \n",
    "        # Indent again to be inside the conditional (also still inside the loop)\n",
    "        print('\\t\\tInside the conditional, inside the loop.')\n",
    "    \n",
    "    # Step back one indent, now outside the conditional, but still inside the loop\n",
    "    print('\\tInside the loop - at the bottom.')\n",
    "\n",
    "# Step back one more, to be outside both the loop and the conditional\n",
    "print('After the loop.')"
   ]
  },
  {
   "cell_type": "markdown",
   "metadata": {},
   "source": [
    "Note that whitespace within lines does not actually matter. \n",
    "\n",
    "However, it does make code harder to read - so the stylistic convention is to always use one space between things. "
   ]
  },
  {
   "cell_type": "code",
   "execution_count": 11,
   "metadata": {},
   "outputs": [
    {
     "name": "stdout",
     "output_type": "stream",
     "text": [
      "3.0\n"
     ]
    }
   ],
   "source": [
    "# Excessive whitespace within a line\n",
    "a =   1.  +    2\n",
    "print(a)"
   ]
  },
  {
   "cell_type": "markdown",
   "metadata": {},
   "source": [
    "## Order of Operations & Grouping\n",
    "\n",
    "Python has a specific order in which operations are executed.\n",
    "\n",
    "Operations can also be grouped, using parentheses, that indicates which operations are to be performed first, on what elements. "
   ]
  },
  {
   "cell_type": "code",
   "execution_count": 12,
   "metadata": {},
   "outputs": [
    {
     "name": "stdout",
     "output_type": "stream",
     "text": [
      "-5\n",
      "-3\n"
     ]
    }
   ],
   "source": [
    "# For numerical operations, Python follows the same order of operations as math\n",
    "print(1 - 2 * 3)\n",
    "print((1 - 2) * 3)"
   ]
  },
  {
   "cell_type": "code",
   "execution_count": 13,
   "metadata": {},
   "outputs": [
    {
     "data": {
      "text/plain": [
       "True"
      ]
     },
     "execution_count": 13,
     "metadata": {},
     "output_type": "execute_result"
    }
   ],
   "source": [
    "# Use parenthesis to group elements - in this case\n",
    "(False and False) or True"
   ]
  },
  {
   "cell_type": "code",
   "execution_count": 14,
   "metadata": {},
   "outputs": [
    {
     "data": {
      "text/plain": [
       "False"
      ]
     },
     "execution_count": 14,
     "metadata": {},
     "output_type": "execute_result"
    }
   ],
   "source": [
    "# Use parenthesis to group elements - in this case changing order of execution\n",
    "False and (False or True)"
   ]
  },
  {
   "cell_type": "markdown",
   "metadata": {},
   "source": [
    "<div class=\"alert alert-info\">\n",
    "For the full list of order of operations in Python, check [here](http://www.mathcs.emory.edu/~valerie/courses/fall10/155/resources/op_precedence.html).\n",
    "</div>"
   ]
  },
  {
   "cell_type": "markdown",
   "metadata": {},
   "source": [
    "## String Literals\n",
    "\n",
    "'Literals' mean to interpret what's written as a string containing the literal characters that are written, and not as a variable name or similar. \n",
    "\n",
    "String literals are denoted with single quote (') or double quote (\"). \n",
    "\n",
    "Single quotes and double quotes are effectively equivalent - it doesn't matter which one you use. "
   ]
  },
  {
   "cell_type": "code",
   "execution_count": 15,
   "metadata": {},
   "outputs": [
    {
     "data": {
      "text/plain": [
       "'This is a string'"
      ]
     },
     "execution_count": 15,
     "metadata": {},
     "output_type": "execute_result"
    }
   ],
   "source": [
    "'This is a string'"
   ]
  },
  {
   "cell_type": "code",
   "execution_count": 16,
   "metadata": {},
   "outputs": [
    {
     "data": {
      "text/plain": [
       "'This is also a string.'"
      ]
     },
     "execution_count": 16,
     "metadata": {},
     "output_type": "execute_result"
    }
   ],
   "source": [
    "\"This is also a string.\""
   ]
  },
  {
   "cell_type": "code",
   "execution_count": 17,
   "metadata": {},
   "outputs": [
    {
     "data": {
      "text/plain": [
       "'\\n\\nMulti-line strings use triple quotes (can be triple single or double quotes).\\n\\n'"
      ]
     },
     "execution_count": 17,
     "metadata": {},
     "output_type": "execute_result"
    }
   ],
   "source": [
    "\"\"\"\n",
    "\n",
    "Multi-line strings use triple quotes (can be triple single or double quotes).\n",
    "\n",
    "\"\"\""
   ]
  },
  {
   "cell_type": "markdown",
   "metadata": {},
   "source": [
    "### Escapes\n",
    "\n",
    "Inside a string, you can use the escape character, which is backslash (\\), to 'escape' the next character. \n",
    "\n",
    "This means that the next character should be interpreted as something other than it's literal character value. \n",
    "\n",
    "For example, we can use this to indicate spacings, such as tabs and new lines."
   ]
  },
  {
   "cell_type": "code",
   "execution_count": 18,
   "metadata": {},
   "outputs": [
    {
     "name": "stdout",
     "output_type": "stream",
     "text": [
      "\t Escape 't' is a tab.\n",
      "\n",
      " Escape 'n' is a newline.\n"
     ]
    }
   ],
   "source": [
    "print(\"\\t Escape 't' is a tab.\")\n",
    "print(\"\\n Escape 'n' is a newline.\")"
   ]
  },
  {
   "cell_type": "markdown",
   "metadata": {},
   "source": [
    "## Keywords\n",
    "\n",
    "Python has a list of special 'keywords', that do special things. \n",
    "\n",
    "In Jupyter notebooks, keywords are highlighted in bolded green, to indicate their special status. \n",
    "\n",
    "Keywords are single words, and, other than `True`, `False` and `None`, all  that are written as all lower-case."
   ]
  },
  {
   "cell_type": "code",
   "execution_count": 19,
   "metadata": {
    "collapsed": true
   },
   "outputs": [],
   "source": [
    "import keyword"
   ]
  },
  {
   "cell_type": "code",
   "execution_count": 20,
   "metadata": {},
   "outputs": [
    {
     "name": "stdout",
     "output_type": "stream",
     "text": [
      "['False', 'None', 'True', 'and', 'as', 'assert', 'break', 'class', 'continue', 'def', 'del', 'elif', 'else', 'except', 'finally', 'for', 'from', 'global', 'if', 'import', 'in', 'is', 'lambda', 'nonlocal', 'not', 'or', 'pass', 'raise', 'return', 'try', 'while', 'with', 'yield']\n"
     ]
    }
   ],
   "source": [
    "# Check out\n",
    "print(keyword.kwlist)"
   ]
  },
  {
   "cell_type": "markdown",
   "metadata": {},
   "source": [
    "Keywords are protected in Python, meaning if you try to assign them a new value, this will fail. "
   ]
  },
  {
   "cell_type": "code",
   "execution_count": 21,
   "metadata": {},
   "outputs": [
    {
     "ename": "SyntaxError",
     "evalue": "can't assign to keyword (<ipython-input-21-97af3c21e190>, line 2)",
     "output_type": "error",
     "traceback": [
      "\u001b[0;36m  File \u001b[0;32m\"<ipython-input-21-97af3c21e190>\"\u001b[0;36m, line \u001b[0;32m2\u001b[0m\n\u001b[0;31m    None = '12'\u001b[0m\n\u001b[0m               ^\u001b[0m\n\u001b[0;31mSyntaxError\u001b[0m\u001b[0;31m:\u001b[0m can't assign to keyword\n"
     ]
    }
   ],
   "source": [
    "# Trying to assign a new value to a keyword will always fail\n",
    "None = '12'"
   ]
  }
 ],
 "metadata": {
  "kernelspec": {
   "display_name": "Python 3 (ipykernel)",
   "language": "python",
   "name": "python3"
  },
  "language_info": {
   "codemirror_mode": {
    "name": "ipython",
    "version": 3
   },
   "file_extension": ".py",
   "mimetype": "text/x-python",
   "name": "python",
   "nbconvert_exporter": "python",
   "pygments_lexer": "ipython3",
   "version": "3.9.7"
  }
 },
 "nbformat": 4,
 "nbformat_minor": 2
}
