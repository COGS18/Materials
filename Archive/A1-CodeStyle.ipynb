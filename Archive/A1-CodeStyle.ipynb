{
 "cells": [
  {
   "cell_type": "markdown",
   "id": "eee5d6a8",
   "metadata": {},
   "source": [
    "# Python Code Style\n",
    "\n",
    "[PEP8](https://www.python.org/dev/peps/pep-0008/) exists and discusses an in-depth proposal for code style in Python. What is included here should agree with PEP8, but is a shorter and less detailed summary.\n",
    "\n",
    "Remember that code style considerations *do NOT affect the functionality* of your code, but *DO affect readability*. It's best to get in good habits now...so you don't have to break them later."
   ]
  },
  {
   "cell_type": "markdown",
   "id": "fc11ea64",
   "metadata": {
    "slideshow": {
     "slide_type": "slide"
    }
   },
   "source": [
    "## Variables"
   ]
  },
  {
   "cell_type": "markdown",
   "id": "97b3d76b",
   "metadata": {
    "slideshow": {
     "slide_type": "fragment"
    }
   },
   "source": [
    "- we use a single space around assignment operator `=`\n",
    "- we use **snake_case** for variable names (All lowercase, underscores between words)\n",
    "- use informative variable names...something that tells you a bit about what's being stored"
   ]
  },
  {
   "cell_type": "markdown",
   "id": "12f02018",
   "metadata": {
    "slideshow": {
     "slide_type": "fragment"
    }
   },
   "source": [
    "- Ideal: `my_variable = 6`\n",
    "- Avoid: `MyVariable=6`"
   ]
  },
  {
   "cell_type": "markdown",
   "id": "236fa6d4",
   "metadata": {},
   "source": [
    "Note: for collections (lists, tuples, dictionaries, etc.), a space after comma separating elements is ideal.\n",
    "\n",
    "- Ideal: `my_list = ['a', 'b', 'c']`\n",
    "- Avoid: `my_list = ['a','b','c']`"
   ]
  },
  {
   "cell_type": "markdown",
   "id": "58160a29",
   "metadata": {
    "slideshow": {
     "slide_type": "slide"
    }
   },
   "source": [
    "## Operators\n",
    "\n",
    "- Single space around operators\n",
    "- No spaces after leading parentheses or before trailing parentheses"
   ]
  },
  {
   "cell_type": "markdown",
   "id": "b4a99386",
   "metadata": {},
   "source": [
    "- Ideal: `calculate = (7 * 4) - 16`\n",
    "- Avoid: `calculate=( 7*4 )-16`"
   ]
  },
  {
   "cell_type": "markdown",
   "id": "e9d69290",
   "metadata": {
    "slideshow": {
     "slide_type": "slide"
    }
   },
   "source": [
    "## Functions\n",
    "\n",
    "- Function names should be snake_case \n",
    "- Function names should describe task accomplished by function\n",
    "- Separate out logical sections within a function with new lines\n",
    "- Arguments should be separated by a comma and a space\n",
    "- Default values do NOT need a space around the `=`"
   ]
  },
  {
   "cell_type": "markdown",
   "id": "35ee0a8c",
   "metadata": {
    "slideshow": {
     "slide_type": "fragment"
    }
   },
   "source": [
    "**Good Code Style**"
   ]
  },
  {
   "cell_type": "code",
   "execution_count": null,
   "id": "23baaa17",
   "metadata": {
    "slideshow": {
     "slide_type": "-"
    }
   },
   "outputs": [],
   "source": [
    "def remainder(number, divider=2):\n",
    "    \n",
    "    r = number % divider\n",
    "    \n",
    "    return r"
   ]
  },
  {
   "cell_type": "markdown",
   "id": "18903b76",
   "metadata": {
    "slideshow": {
     "slide_type": "fragment"
    }
   },
   "source": [
    "**Code Style to Avoid**"
   ]
  },
  {
   "cell_type": "code",
   "execution_count": null,
   "id": "49ebe600",
   "metadata": {
    "slideshow": {
     "slide_type": "-"
    }
   },
   "outputs": [],
   "source": [
    "# could be improved by adding empty lines to separate out logical chunks\n",
    "def remainder(number,divider=2): # needs space after comma\n",
    "    r=number%divider # needs spacing around operators\n",
    "    return r"
   ]
  },
  {
   "cell_type": "markdown",
   "id": "cb63546a",
   "metadata": {
    "slideshow": {
     "slide_type": "slide"
    }
   },
   "source": [
    "## Conditionals\n",
    "\n",
    "- avoid single line statements\n",
    "- a single conditional (if + elif + else) has no additional line spaces between statements"
   ]
  },
  {
   "cell_type": "markdown",
   "id": "9aa88c4c",
   "metadata": {
    "slideshow": {
     "slide_type": "fragment"
    }
   },
   "source": [
    "**Good Code Style**"
   ]
  },
  {
   "cell_type": "code",
   "execution_count": null,
   "id": "31aa145e",
   "metadata": {
    "slideshow": {
     "slide_type": "-"
    }
   },
   "outputs": [],
   "source": [
    "value = 16\n",
    "\n",
    "if value % 2 == 0:\n",
    "    out = \"even\"\n",
    "else:\n",
    "    out = \"odd\""
   ]
  },
  {
   "cell_type": "markdown",
   "id": "4ff6305e",
   "metadata": {
    "slideshow": {
     "slide_type": "fragment"
    }
   },
   "source": [
    "**Code Style to Avoid**"
   ]
  },
  {
   "cell_type": "code",
   "execution_count": null,
   "id": "5b165f98",
   "metadata": {
    "slideshow": {
     "slide_type": "-"
    }
   },
   "outputs": [],
   "source": [
    "if value%2==0:out=\"even\" # avoid statement on same line as conditional\n",
    "                         # avoid blank line between if and else\n",
    "else:out=\"odd\"           # don't forget about spacing around operators!                     "
   ]
  },
  {
   "cell_type": "markdown",
   "id": "d1be8ded",
   "metadata": {},
   "source": [
    "## Loops\n",
    "\n",
    "- `for`/`while` statement with a colon at the end on first line\n",
    "- all code within the loop inside a code block (indented)"
   ]
  },
  {
   "cell_type": "markdown",
   "id": "e1cda39d",
   "metadata": {
    "slideshow": {
     "slide_type": "fragment"
    }
   },
   "source": [
    "**Good Code Style**"
   ]
  },
  {
   "cell_type": "code",
   "execution_count": null,
   "id": "144cd6de",
   "metadata": {
    "slideshow": {
     "slide_type": "-"
    }
   },
   "outputs": [],
   "source": [
    "number = 5\n",
    "while number < 0:\n",
    "    print(number)\n",
    "    number = number + 1"
   ]
  },
  {
   "cell_type": "markdown",
   "id": "57d4e4bb",
   "metadata": {
    "slideshow": {
     "slide_type": "fragment"
    }
   },
   "source": [
    "**Code Style to Avoid**"
   ]
  },
  {
   "cell_type": "code",
   "execution_count": null,
   "id": "08c0691d",
   "metadata": {
    "scrolled": true,
    "slideshow": {
     "slide_type": "-"
    }
   },
   "outputs": [],
   "source": [
    "number=-5\n",
    "while number<0:print(number);number=number+1 # avoid all on a single line"
   ]
  },
  {
   "cell_type": "markdown",
   "id": "774302ce",
   "metadata": {
    "slideshow": {
     "slide_type": "slide"
    }
   },
   "source": [
    "## Classes\n",
    "\n",
    "- CapWords for class names\n",
    "- one blank line between methods/functions"
   ]
  },
  {
   "cell_type": "markdown",
   "id": "9b1be00e",
   "metadata": {
    "slideshow": {
     "slide_type": "fragment"
    }
   },
   "source": [
    "**Good Code Style**"
   ]
  },
  {
   "cell_type": "code",
   "execution_count": 1,
   "id": "5789def3",
   "metadata": {
    "slideshow": {
     "slide_type": "-"
    }
   },
   "outputs": [],
   "source": [
    "class MyClass():\n",
    "    \n",
    "    def __init__(self, name, email, score):\n",
    "        self.name = name\n",
    "        self.email = email\n",
    "        self.score = score\n",
    "    \n",
    "    def check_score(self):        \n",
    "        if self.score <= 65:\n",
    "            return self.email\n",
    "        else:\n",
    "            return None"
   ]
  },
  {
   "cell_type": "markdown",
   "id": "8c2b651b",
   "metadata": {
    "slideshow": {
     "slide_type": "fragment"
    }
   },
   "source": [
    "**Code Style to Avoid**"
   ]
  },
  {
   "cell_type": "code",
   "execution_count": null,
   "id": "f9c96b5c",
   "metadata": {
    "slideshow": {
     "slide_type": "-"
    }
   },
   "outputs": [],
   "source": [
    "class my_class(): # uses snake case for name\n",
    "    def __init__(self, name, email, score):\n",
    "        self.name = name\n",
    "        self.email = email\n",
    "        self.score = score   # no blank lines between methods  \n",
    "    def check_score(self):        \n",
    "        if self.score <= 65:\n",
    "            return self.email\n",
    "        else:\n",
    "            return None"
   ]
  },
  {
   "cell_type": "markdown",
   "id": "aa85a0ae",
   "metadata": {
    "collapsed": true,
    "slideshow": {
     "slide_type": "slide"
    }
   },
   "source": [
    "## Overall Structure"
   ]
  },
  {
   "cell_type": "markdown",
   "id": "a7656ec1",
   "metadata": {
    "slideshow": {
     "slide_type": "slide"
    }
   },
   "source": [
    "### Blank Lines\n",
    "\n",
    "- Use 2 blank lines between functions & classes, and 1 between methods\n",
    "- Use 1 blank line between segments to indicate logical structure"
   ]
  },
  {
   "cell_type": "markdown",
   "id": "045aef8c",
   "metadata": {
    "slideshow": {
     "slide_type": "fragment"
    }
   },
   "source": [
    "**Good Code Style**"
   ]
  },
  {
   "cell_type": "code",
   "execution_count": null,
   "id": "3efb0376",
   "metadata": {
    "slideshow": {
     "slide_type": "fragment"
    }
   },
   "outputs": [],
   "source": [
    "def my_func():\n",
    "    \n",
    "    my_nums = '123'\n",
    "    output = ''\n",
    "    \n",
    "    for num in my_nums: \n",
    "        output += str(int(num) + 1)\n",
    "    \n",
    "    return output"
   ]
  },
  {
   "cell_type": "markdown",
   "id": "3c6df1b4",
   "metadata": {
    "slideshow": {
     "slide_type": "fragment"
    }
   },
   "source": [
    "**Code Style to Avoid**"
   ]
  },
  {
   "cell_type": "code",
   "execution_count": null,
   "id": "977568fb",
   "metadata": {
    "slideshow": {
     "slide_type": "fragment"
    }
   },
   "outputs": [],
   "source": [
    "def my_func():\n",
    "    my_nums = '123'\n",
    "    output = ''\n",
    "    for num in my_nums:\n",
    "        output += str(int(num) + 1)\n",
    "    return output"
   ]
  },
  {
   "cell_type": "markdown",
   "id": "2f2bc9a6",
   "metadata": {
    "slideshow": {
     "slide_type": "slide"
    }
   },
   "source": [
    "### Indentation\n",
    "\n",
    "Use spaces to indicate indentation levels, with each level defined as 4 spaces. "
   ]
  },
  {
   "cell_type": "markdown",
   "id": "e84fa157",
   "metadata": {
    "slideshow": {
     "slide_type": "fragment"
    }
   },
   "source": [
    "**Good Code Style**"
   ]
  },
  {
   "cell_type": "code",
   "execution_count": null,
   "id": "29b71a73",
   "metadata": {
    "slideshow": {
     "slide_type": "fragment"
    }
   },
   "outputs": [],
   "source": [
    "if True:\n",
    "    print('Words.')"
   ]
  },
  {
   "cell_type": "markdown",
   "id": "276e7042",
   "metadata": {
    "slideshow": {
     "slide_type": "fragment"
    }
   },
   "source": [
    "**Code Style to Avoid**"
   ]
  },
  {
   "cell_type": "code",
   "execution_count": null,
   "id": "07264877",
   "metadata": {
    "scrolled": true,
    "slideshow": {
     "slide_type": "fragment"
    }
   },
   "outputs": [],
   "source": [
    "# only has 3 spaces\n",
    "if True:\n",
    "  print('Words.')"
   ]
  },
  {
   "cell_type": "markdown",
   "id": "088fceed",
   "metadata": {
    "slideshow": {
     "slide_type": "slide"
    }
   },
   "source": [
    "### Spacing\n",
    "\n",
    "- Put one (and only one) space between each element\n",
    "- Index and assignment don't have a space between opening & closing '()' or '[]'"
   ]
  },
  {
   "cell_type": "markdown",
   "id": "47db2d5d",
   "metadata": {
    "slideshow": {
     "slide_type": "fragment"
    }
   },
   "source": [
    "**Good Code Style**"
   ]
  },
  {
   "cell_type": "code",
   "execution_count": null,
   "id": "81ade7d3",
   "metadata": {
    "slideshow": {
     "slide_type": "fragment"
    }
   },
   "outputs": [],
   "source": [
    "my_var = 1 + 2 == 3\n",
    "my_list = [1, 2, 3, 4]\n",
    "el = my_list[1]"
   ]
  },
  {
   "cell_type": "markdown",
   "id": "5344e2cd",
   "metadata": {
    "slideshow": {
     "slide_type": "fragment"
    }
   },
   "source": [
    "**Code Style to Avoid**"
   ]
  },
  {
   "cell_type": "code",
   "execution_count": null,
   "id": "3e62a5d1",
   "metadata": {
    "slideshow": {
     "slide_type": "fragment"
    }
   },
   "outputs": [],
   "source": [
    "my_var=1+2==3\n",
    "my_list  =  [ 1,2,3,4 ]\n",
    "el = my_list [1]"
   ]
  },
  {
   "cell_type": "markdown",
   "id": "9c0e8f6e",
   "metadata": {
    "slideshow": {
     "slide_type": "slide"
    }
   },
   "source": [
    "### Line Length\n",
    "\n",
    "- PEP8 recommends that each line be at most 79 characters long"
   ]
  },
  {
   "cell_type": "markdown",
   "id": "8a6bdc6c",
   "metadata": {
    "collapsed": true,
    "slideshow": {
     "slide_type": "slide"
    }
   },
   "source": [
    "### One Statement Per Line\n",
    "\n",
    "- While you *can* condense multiple statements into one line, you usually shouldn't."
   ]
  },
  {
   "cell_type": "markdown",
   "id": "7eda102d",
   "metadata": {
    "slideshow": {
     "slide_type": "fragment"
    }
   },
   "source": [
    "**Good Code Style**"
   ]
  },
  {
   "cell_type": "code",
   "execution_count": null,
   "id": "cdec4dd8",
   "metadata": {
    "slideshow": {
     "slide_type": "fragment"
    }
   },
   "outputs": [],
   "source": [
    "for i in [1, 2, 3]:\n",
    "    print(i**2 + i%2)"
   ]
  },
  {
   "cell_type": "markdown",
   "id": "56cc28f6",
   "metadata": {
    "slideshow": {
     "slide_type": "fragment"
    }
   },
   "source": [
    "**Code Style to Avoid**"
   ]
  },
  {
   "cell_type": "code",
   "execution_count": null,
   "id": "7271cb47",
   "metadata": {
    "slideshow": {
     "slide_type": "fragment"
    }
   },
   "outputs": [],
   "source": [
    "for i in [1, 2, 3]: print(i**2 + i%2)"
   ]
  },
  {
   "cell_type": "markdown",
   "id": "74d2b37f",
   "metadata": {
    "slideshow": {
     "slide_type": "slide"
    }
   },
   "source": [
    "### Imports\n",
    "\n",
    "- Import one module per line\n",
    "- Avoid `*` imports\n",
    "- Use the import order: standard library; 3rd party packages; local / custom code"
   ]
  },
  {
   "cell_type": "markdown",
   "id": "0d5c3ed3",
   "metadata": {
    "slideshow": {
     "slide_type": "fragment"
    }
   },
   "source": [
    "**Good Code Style**"
   ]
  },
  {
   "cell_type": "code",
   "execution_count": null,
   "id": "213777d1",
   "metadata": {
    "slideshow": {
     "slide_type": "fragment"
    }
   },
   "outputs": [],
   "source": [
    "import os\n",
    "import sys\n",
    "\n",
    "import numpy as np"
   ]
  },
  {
   "cell_type": "markdown",
   "id": "2a14cb13",
   "metadata": {
    "slideshow": {
     "slide_type": "fragment"
    }
   },
   "source": [
    "**Code Style to Avoid**"
   ]
  },
  {
   "cell_type": "code",
   "execution_count": null,
   "id": "8c55621c",
   "metadata": {
    "slideshow": {
     "slide_type": "fragment"
    }
   },
   "outputs": [],
   "source": [
    "from numpy import *\n",
    "\n",
    "import os, sys"
   ]
  },
  {
   "cell_type": "markdown",
   "id": "6d702a65",
   "metadata": {
    "slideshow": {
     "slide_type": "slide"
    }
   },
   "source": [
    "## Naming"
   ]
  },
  {
   "cell_type": "markdown",
   "id": "98d43b24",
   "metadata": {
    "slideshow": {
     "slide_type": "fragment"
    }
   },
   "source": [
    "### Valid Names\n",
    "\n",
    "- Use descriptive names for all modules, variables, functions and classes, that are longer than 1 character"
   ]
  },
  {
   "cell_type": "markdown",
   "id": "cef5491c",
   "metadata": {
    "slideshow": {
     "slide_type": "fragment"
    }
   },
   "source": [
    "**Good Code Style**"
   ]
  },
  {
   "cell_type": "code",
   "execution_count": null,
   "id": "4344801e",
   "metadata": {
    "slideshow": {
     "slide_type": "fragment"
    }
   },
   "outputs": [],
   "source": [
    "n_filters = 12\n",
    "n_freqs = 24"
   ]
  },
  {
   "cell_type": "markdown",
   "id": "035cafef",
   "metadata": {
    "slideshow": {
     "slide_type": "fragment"
    }
   },
   "source": [
    "**Code Style to Avoid**"
   ]
  },
  {
   "cell_type": "code",
   "execution_count": null,
   "id": "a6532b37",
   "metadata": {
    "slideshow": {
     "slide_type": "fragment"
    }
   },
   "outputs": [],
   "source": [
    "a = 12\n",
    "b = 24"
   ]
  },
  {
   "cell_type": "markdown",
   "id": "502106f5",
   "metadata": {
    "slideshow": {
     "slide_type": "slide"
    }
   },
   "source": [
    "### Naming Style\n",
    "\n",
    "- CapWords (leading capitals, no separation) for Classes\n",
    "- snake_case (all lowercase, underscore separator) for variables, functions, and modules"
   ]
  },
  {
   "cell_type": "markdown",
   "id": "2f6b723e",
   "metadata": {
    "slideshow": {
     "slide_type": "fragment"
    }
   },
   "source": [
    "**Good Code Style**"
   ]
  },
  {
   "cell_type": "code",
   "execution_count": null,
   "id": "8080f77b",
   "metadata": {
    "slideshow": {
     "slide_type": "fragment"
    }
   },
   "outputs": [],
   "source": [
    "def my_func():\n",
    "    pass\n",
    "\n",
    "\n",
    "class MyClass():\n",
    "    def __init__():\n",
    "        pass"
   ]
  },
  {
   "cell_type": "markdown",
   "id": "71f157a0",
   "metadata": {
    "slideshow": {
     "slide_type": "fragment"
    }
   },
   "source": [
    "**Code Style to Avoid**"
   ]
  },
  {
   "cell_type": "code",
   "execution_count": null,
   "id": "e26fcf8c",
   "metadata": {
    "slideshow": {
     "slide_type": "fragment"
    }
   },
   "outputs": [],
   "source": [
    "def MyFunc():\n",
    "    pass\n",
    "    \n",
    "class my_class():\n",
    "    def __init__():\n",
    "        pass"
   ]
  },
  {
   "cell_type": "markdown",
   "id": "6915f3b8",
   "metadata": {
    "slideshow": {
     "slide_type": "slide"
    }
   },
   "source": [
    "## String Quotes"
   ]
  },
  {
   "cell_type": "markdown",
   "id": "99f5a804",
   "metadata": {
    "slideshow": {
     "slide_type": "fragment"
    }
   },
   "source": [
    "In Python, single-quoted strings and double-quoted strings are the same. \n",
    "\n",
    "This PEP does not make a recommendation for this. **Pick a rule and stick to it.** \n",
    "\n",
    "When a string contains single or double quote characters: use the other one to avoid backslashes in the string. It improves readability.\n",
    "\n"
   ]
  },
  {
   "cell_type": "markdown",
   "id": "d300ad9e",
   "metadata": {
    "slideshow": {
     "slide_type": "fragment"
    }
   },
   "source": [
    "**Good Code Style**"
   ]
  },
  {
   "cell_type": "code",
   "execution_count": null,
   "id": "c9880cbf",
   "metadata": {
    "slideshow": {
     "slide_type": "fragment"
    }
   },
   "outputs": [],
   "source": [
    "my_string = \"Prof's Project\""
   ]
  },
  {
   "cell_type": "markdown",
   "id": "e7f14384",
   "metadata": {
    "slideshow": {
     "slide_type": "fragment"
    }
   },
   "source": [
    "**Code Style to Avoid**"
   ]
  },
  {
   "cell_type": "code",
   "execution_count": null,
   "id": "570bec6d",
   "metadata": {
    "slideshow": {
     "slide_type": "fragment"
    }
   },
   "outputs": [],
   "source": [
    "my_string = 'Prof\\'s Project'"
   ]
  }
 ],
 "metadata": {
  "kernelspec": {
   "display_name": "Python 3 (ipykernel)",
   "language": "python",
   "name": "python3"
  },
  "language_info": {
   "codemirror_mode": {
    "name": "ipython",
    "version": 3
   },
   "file_extension": ".py",
   "mimetype": "text/x-python",
   "name": "python",
   "nbconvert_exporter": "python",
   "pygments_lexer": "ipython3",
   "version": "3.9.7"
  }
 },
 "nbformat": 4,
 "nbformat_minor": 5
}
