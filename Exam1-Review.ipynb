{
 "cells": [
  {
   "cell_type": "markdown",
   "metadata": {
    "slideshow": {
     "slide_type": "slide"
    }
   },
   "source": [
    "## Course Announcements\n",
    "\n",
    "- **Coding Lab** due tonight (11:59 PM)\n",
    "- **Exam I** Friday\n",
    "    - Fetch, complete and submit on Datahub\n",
    "    - *No office hours this Friday*\n",
    "- **A3** not due until Mon 5/4"
   ]
  },
  {
   "cell_type": "markdown",
   "metadata": {
    "slideshow": {
     "slide_type": "slide"
    }
   },
   "source": [
    "# Exam 1 Topics\n",
    "\n",
    "- Variables & Operators (6 points)\n",
    "- Indexing (3 points)\n",
    "- Control Flow - Conditionals & Loops (11 points)"
   ]
  },
  {
   "cell_type": "markdown",
   "metadata": {
    "slideshow": {
     "slide_type": "notes"
    }
   },
   "source": [
    "## Midterm Expectations\n",
    "\n",
    "You will be expected to: \n",
    "\n",
    "1. Recognize, understand and _respond_ to Python syntax:\n",
    "    - statements & comments, whitespace, code blocks & indentation levels\n",
    "2. Recognize, understand and be able to _explain_ code constructions:\n",
    "    - variables, operators, data types, conditionals, loops\n",
    "3. Know and be able to explain (roughly define) concepts we have talked about:\n",
    "    - encodings\n",
    "4. Be able to apply what you've learned:\n",
    "    - Given a task:\n",
    "        - what kind of code constructions are needed to answer it?\n",
    "        - what kind of concepts does it relate to?\n",
    "5. With respect to everything above, be able to read and respond to short code snippets and write out code."
   ]
  },
  {
   "cell_type": "markdown",
   "metadata": {
    "slideshow": {
     "slide_type": "slide"
    }
   },
   "source": [
    "### Reminder: \n",
    "\n",
    "There are two extra notebooks that you can use for review:\n",
    "\n",
    "1. [A1-Syntax](https://cogs18.github.io/materials/A1-Syntax/)\n",
    "2. [A2-Examples](https://cogs18.github.io/materials/A2-Examples/)\n",
    "\n",
    "There are also a few Exam #1 Practice Problems [here](https://cogs18.github.io/materials/Exam1-Practice).\n",
    "\n",
    "And, there is a practice Exam on datahub."
   ]
  },
  {
   "cell_type": "markdown",
   "metadata": {
    "slideshow": {
     "slide_type": "slide"
    }
   },
   "source": [
    "## Topics & Example Questions\n",
    "\n",
    "- Variables & Data Types\n",
    "- Operators\n",
    "- Conditionals\n",
    "- Loops\n"
   ]
  },
  {
   "cell_type": "markdown",
   "metadata": {
    "slideshow": {
     "slide_type": "slide"
    }
   },
   "source": [
    "### Variables & DataTypes\n",
    "\n",
    "Types:\n",
    "- strings, integers, floats, Booleans, None\n",
    "- Collections\n",
    "    - Lists\n",
    "    - Tuples\n",
    "    - Dictionaries\n",
    "\n",
    "Concepts:\n",
    "- Mutable vs. Immutable\n",
    "- Indexing"
   ]
  },
  {
   "cell_type": "markdown",
   "metadata": {
    "slideshow": {
     "slide_type": "slide"
    }
   },
   "source": [
    "#### Data Types Question #1\n",
    "\n",
    "What is the difference between a tuple and a list?"
   ]
  },
  {
   "cell_type": "markdown",
   "metadata": {
    "slideshow": {
     "slide_type": "fragment"
    }
   },
   "source": [
    "#### Data Types Question #2\n",
    "\n",
    "Given the following list: \n",
    "\n",
    "```python\n",
    "ice_cream = ['vanilla', 'chocolate', 'strawberry', 'cherry', 'salted caramel']\n",
    "\n",
    "```\n",
    "\n",
    "Edit the code at right with how would you return the specified values on left:\n",
    "\n",
    "```python\n",
    "['vanilla', 'chocolate', 'strawberry'] : ice_cream[      ]\n",
    "```"
   ]
  },
  {
   "cell_type": "markdown",
   "metadata": {
    "slideshow": {
     "slide_type": "fragment"
    }
   },
   "source": [
    "#### Data Types Question #3\n",
    "\n",
    "Write a line of code that would change the third element of a list `my_list` to store the value `12`."
   ]
  },
  {
   "cell_type": "markdown",
   "metadata": {
    "slideshow": {
     "slide_type": "slide"
    }
   },
   "source": [
    "### Operators\n",
    "\n",
    "- assignment : `=`\n",
    "- math: `+`, `-`, `/`, `*`, `**`, `//`\n",
    "- comparison : `==`, `!=`, `<`, `>`, `<=`, `>=`\n",
    "- logic: `and`, `or`, `not`\n",
    "- identity: `is`, `is not`\n",
    "- membership : `in`, `not in`"
   ]
  },
  {
   "cell_type": "markdown",
   "metadata": {
    "slideshow": {
     "slide_type": "slide"
    }
   },
   "source": [
    "#### Operators Question #1\n",
    "\n",
    "What is the difference between `=` and `==`?"
   ]
  },
  {
   "cell_type": "markdown",
   "metadata": {
    "slideshow": {
     "slide_type": "fragment"
    }
   },
   "source": [
    "#### Operators Question #2\n",
    "\n",
    "Create a variable `oper_var` that uses both the not and or operators (each at least once) such that `oper_var` stores (returns) the value `True`."
   ]
  },
  {
   "cell_type": "markdown",
   "metadata": {
    "slideshow": {
     "slide_type": "fragment"
    }
   },
   "source": [
    "#### Operators Question #3\n",
    "\n",
    "Using at least 4 different math operators, create a variable `math_var` that stores (returns) the value '18' (or 18.0)"
   ]
  },
  {
   "cell_type": "markdown",
   "metadata": {
    "slideshow": {
     "slide_type": "fragment"
    }
   },
   "source": [
    "#### Operators Question #4\n",
    "\n",
    "Create a variable `string_concat` that demonstrates how you can concatenate two different strings together with a space between the two different strings. "
   ]
  },
  {
   "cell_type": "markdown",
   "metadata": {
    "slideshow": {
     "slide_type": "slide"
    }
   },
   "source": [
    "### Conditionals\n",
    "\n",
    "- `if`, `elif`, & `else`"
   ]
  },
  {
   "cell_type": "markdown",
   "metadata": {
    "slideshow": {
     "slide_type": "slide"
    }
   },
   "source": [
    "#### Conditionals Question #1\n",
    "\n",
    "Circle necessary or optional, as applicable: In Python, a conditional has a necessary / optional `if` statement, one or more necessary / optional `elif` statement(s) and a necessary / optional `else` statement. "
   ]
  },
  {
   "cell_type": "markdown",
   "metadata": {
    "slideshow": {
     "slide_type": "fragment"
    }
   },
   "source": [
    "#### Conditionals Question #2\n",
    "\n",
    "Given the following outline of a conditional:\n",
    "\n",
    "```python\n",
    "    if COND_A:\n",
    "        # Code Block A\n",
    "\telif COND_B:\n",
    "\t\t# Code Block B\n",
    "\telse:\n",
    "\t\t# Code Block C\n",
    "```\n",
    "\n",
    "1. If `COND_A` and `COND_B` are both `True`, which code block(s) evaluate?\n",
    "2. If `COND_A` is False and `COND_B` is `True`, which code block(s) evaluate?"
   ]
  },
  {
   "cell_type": "markdown",
   "metadata": {},
   "source": [
    "#### Conditionals Question #2\n",
    "\n",
    "You use have a list that stores 20 different integers. You use a comparison operator to compare the relationship between two of the elements in the list and store that output in a variable. What would the type of that output variable be?"
   ]
  },
  {
   "cell_type": "markdown",
   "metadata": {
    "slideshow": {
     "slide_type": "slide"
    }
   },
   "source": [
    "### Loops\n",
    "\n",
    "- loops: `for` and `while`\n",
    "    - `continue`, `break`, `pass`"
   ]
  },
  {
   "cell_type": "markdown",
   "metadata": {
    "slideshow": {
     "slide_type": "slide"
    }
   },
   "source": [
    "#### Loops Question #1\n",
    "What are the two kinds of loops? ____________ and ____________"
   ]
  },
  {
   "cell_type": "markdown",
   "metadata": {
    "slideshow": {
     "slide_type": "fragment"
    }
   },
   "source": [
    "#### Loops Question #2\n",
    "Use the following:\n",
    "`ind = 1` to write a loop (using real Python code) that would loop and print the value `ind` of ind each time through the loop _and_ update the value of ind by 1. Have this loop stop after 4 iterations. "
   ]
  },
  {
   "cell_type": "markdown",
   "metadata": {
    "slideshow": {
     "slide_type": "fragment"
    }
   },
   "source": [
    "#### Loops Question #3\n",
    "\n",
    "Create a list that stores each letter of your favorite animal as a different element in a list. Store that in the variable `fav_pet`. \n",
    "\n",
    "Initialize an additional variable called `reverse_pet` that will store an empty string to start.\n",
    "\n",
    "Then, using indexing, loop through each letter in that list such that `reverse_pet` stores a list with your favorite pet spelled backward.\n",
    "\n",
    "For example, if your favorite pet were \"cat\", the output stored in `reverse_pet` should be: `['t', 'a', 'c']`\n"
   ]
  }
 ],
 "metadata": {
  "celltoolbar": "Slideshow",
  "kernelspec": {
   "display_name": "Python 3",
   "language": "python",
   "name": "python3"
  },
  "language_info": {
   "codemirror_mode": {
    "name": "ipython",
    "version": 3
   },
   "file_extension": ".py",
   "mimetype": "text/x-python",
   "name": "python",
   "nbconvert_exporter": "python",
   "pygments_lexer": "ipython3",
   "version": "3.7.0"
  },
  "rise": {
   "scroll": true
  }
 },
 "nbformat": 4,
 "nbformat_minor": 2
}
