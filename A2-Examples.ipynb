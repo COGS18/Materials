{
 "cells": [
  {
   "cell_type": "markdown",
   "metadata": {},
   "source": [
    "# Python Examples"
   ]
  },
  {
   "cell_type": "markdown",
   "metadata": {},
   "source": [
    "The following is a set of quick examples of the code constructs that we work through in class. \n",
    "\n",
    "This notebook does not have any explanations - so do check the course Materials for those details. "
   ]
  },
  {
   "cell_type": "markdown",
   "metadata": {},
   "source": [
    "## Defining Variables"
   ]
  },
  {
   "cell_type": "markdown",
   "metadata": {},
   "source": [
    "### Basic Types"
   ]
  },
  {
   "cell_type": "code",
   "execution_count": 1,
   "metadata": {},
   "outputs": [],
   "source": [
    "my_int = 1\n",
    "my_float = 12.2\n",
    "my_boolean = True"
   ]
  },
  {
   "cell_type": "markdown",
   "metadata": {},
   "source": [
    "### Collection Types"
   ]
  },
  {
   "cell_type": "code",
   "execution_count": 2,
   "metadata": {},
   "outputs": [],
   "source": [
    "my_string = 'abc'\n",
    "my_list = [1, 2, 3]\n",
    "my_tuple = (1, 2, 3)\n",
    "my_dictionary = {'name1' : True, 'name2' : 12}"
   ]
  },
  {
   "cell_type": "markdown",
   "metadata": {},
   "source": [
    "## Operators"
   ]
  },
  {
   "cell_type": "markdown",
   "metadata": {},
   "source": [
    "### Mathematical Operators"
   ]
  },
  {
   "cell_type": "code",
   "execution_count": 3,
   "metadata": {},
   "outputs": [
    {
     "name": "stdout",
     "output_type": "stream",
     "text": [
      "Addition: \t 15\n",
      "Subtraction: \t 9\n",
      "Multiplication:  36\n",
      "Division: \t 4.0\n"
     ]
    }
   ],
   "source": [
    "print('Addition: \\t', 12 + 3)\n",
    "print('Subtraction: \\t', 12 - 3)\n",
    "print('Multiplication: ', 12 * 3)\n",
    "print('Division: \\t', 12 / 3)"
   ]
  },
  {
   "cell_type": "code",
   "execution_count": 4,
   "metadata": {},
   "outputs": [
    {
     "name": "stdout",
     "output_type": "stream",
     "text": [
      "Exponentiation:\t 4\n",
      "Remainder: \t 1\n"
     ]
    }
   ],
   "source": [
    "print('Exponentiation:\\t', 2**2)\n",
    "print('Remainder: \\t', 7%2)"
   ]
  },
  {
   "cell_type": "markdown",
   "metadata": {},
   "source": [
    "### Boolean Operators"
   ]
  },
  {
   "cell_type": "code",
   "execution_count": 5,
   "metadata": {},
   "outputs": [
    {
     "data": {
      "text/plain": [
       "True"
      ]
     },
     "execution_count": 5,
     "metadata": {},
     "output_type": "execute_result"
    }
   ],
   "source": [
    "# Boolean `and`\n",
    "True and True"
   ]
  },
  {
   "cell_type": "code",
   "execution_count": 6,
   "metadata": {},
   "outputs": [
    {
     "data": {
      "text/plain": [
       "True"
      ]
     },
     "execution_count": 6,
     "metadata": {},
     "output_type": "execute_result"
    }
   ],
   "source": [
    "# Boolean `or`\n",
    "True or False"
   ]
  },
  {
   "cell_type": "code",
   "execution_count": 7,
   "metadata": {},
   "outputs": [
    {
     "data": {
      "text/plain": [
       "False"
      ]
     },
     "execution_count": 7,
     "metadata": {},
     "output_type": "execute_result"
    }
   ],
   "source": [
    "# Boolean `not`\n",
    "not True"
   ]
  },
  {
   "cell_type": "markdown",
   "metadata": {},
   "source": [
    "### Other Operators"
   ]
  },
  {
   "cell_type": "code",
   "execution_count": 8,
   "metadata": {},
   "outputs": [
    {
     "name": "stdout",
     "output_type": "stream",
     "text": [
      "abc\n"
     ]
    }
   ],
   "source": [
    "# String concatenation\n",
    "print('a' + 'b' + 'c')"
   ]
  },
  {
   "cell_type": "markdown",
   "metadata": {},
   "source": [
    "## Value Comparisons"
   ]
  },
  {
   "cell_type": "code",
   "execution_count": 9,
   "metadata": {},
   "outputs": [
    {
     "name": "stdout",
     "output_type": "stream",
     "text": [
      "Equal:  \t True\n",
      "Unequal:\t True\n"
     ]
    }
   ],
   "source": [
    "# Equality comparisons\n",
    "print('Equal:  \\t', 1 == 1)\n",
    "print('Unequal:\\t', 2 != 1)"
   ]
  },
  {
   "cell_type": "code",
   "execution_count": 10,
   "metadata": {},
   "outputs": [
    {
     "name": "stdout",
     "output_type": "stream",
     "text": [
      "Less Than:     \t\t\t True\n",
      "Greater Than:  \t\t\t False\n",
      "Less Than Or Equal to:     \t True\n",
      "Greater Than Or Equal to:  \t False\n"
     ]
    }
   ],
   "source": [
    "# Magnitude Comparisons\n",
    "print('Less Than:     \\t\\t\\t', 2 < 3)\n",
    "print('Greater Than:  \\t\\t\\t', 4 > 5)\n",
    "print('Less Than Or Equal to:     \\t', 2 <= 2)\n",
    "print('Greater Than Or Equal to:  \\t', 3 >= 5)"
   ]
  },
  {
   "cell_type": "markdown",
   "metadata": {},
   "source": [
    "## Conditionals"
   ]
  },
  {
   "cell_type": "code",
   "execution_count": 11,
   "metadata": {
    "scrolled": true
   },
   "outputs": [
    {
     "name": "stdout",
     "output_type": "stream",
     "text": [
      "elif condition\n"
     ]
    }
   ],
   "source": [
    "first_condition = False\n",
    "other_condition = True\n",
    "\n",
    "if first_condition:\n",
    "    print('if condition')\n",
    "elif other_condition:\n",
    "    print('elif condition')\n",
    "else:\n",
    "    print('else condition')    "
   ]
  },
  {
   "cell_type": "markdown",
   "metadata": {},
   "source": [
    "## Loops"
   ]
  },
  {
   "cell_type": "code",
   "execution_count": 12,
   "metadata": {},
   "outputs": [
    {
     "name": "stdout",
     "output_type": "stream",
     "text": [
      "Looping!\n",
      "Looping!\n",
      "Looping!\n",
      "3\n"
     ]
    }
   ],
   "source": [
    "# While Loop\n",
    "ind = 0\n",
    "while ind < 3:\n",
    "    print('Looping!')\n",
    "    ind = ind + 1\n",
    "\n",
    "# see value of ind after loop terminates\n",
    "print(ind)"
   ]
  },
  {
   "cell_type": "code",
   "execution_count": 13,
   "metadata": {},
   "outputs": [
    {
     "name": "stdout",
     "output_type": "stream",
     "text": [
      "1\n",
      "2\n",
      "3\n"
     ]
    }
   ],
   "source": [
    "# For Loop\n",
    "list_of_items = [1, 2, 3]\n",
    "for item in list_of_items:\n",
    "    print(item)"
   ]
  },
  {
   "cell_type": "code",
   "execution_count": 14,
   "metadata": {
    "scrolled": true
   },
   "outputs": [
    {
     "name": "stdout",
     "output_type": "stream",
     "text": [
      "0\n",
      "1\n",
      "2\n",
      "3\n",
      "4\n"
     ]
    }
   ],
   "source": [
    "# For Loop using Range\n",
    "for iteration in range(5):\n",
    "    print(iteration)"
   ]
  },
  {
   "cell_type": "markdown",
   "metadata": {},
   "source": [
    "**Note:** This is where material on the first midterm ends."
   ]
  },
  {
   "cell_type": "markdown",
   "metadata": {},
   "source": [
    "## Functions"
   ]
  },
  {
   "cell_type": "code",
   "execution_count": 15,
   "metadata": {},
   "outputs": [],
   "source": [
    "# Defining a function\n",
    "def function_name(function_input_1, function_input_2):\n",
    "\n",
    "    output = function_input_1 + function_input_2\n",
    "    \n",
    "    return output"
   ]
  },
  {
   "cell_type": "code",
   "execution_count": 16,
   "metadata": {},
   "outputs": [
    {
     "name": "stdout",
     "output_type": "stream",
     "text": [
      "Answer:\t 3\n"
     ]
    }
   ],
   "source": [
    "# Calling a function\n",
    "answer = function_name(1, 2)\n",
    "\n",
    "print('Answer:\\t', answer)"
   ]
  },
  {
   "cell_type": "code",
   "execution_count": 17,
   "metadata": {},
   "outputs": [],
   "source": [
    "# Define a function with default values\n",
    "def multiply(num1, num2=2):\n",
    "    return num1 * num2"
   ]
  },
  {
   "cell_type": "code",
   "execution_count": 18,
   "metadata": {},
   "outputs": [
    {
     "name": "stdout",
     "output_type": "stream",
     "text": [
      "4\n",
      "6\n"
     ]
    }
   ],
   "source": [
    "# Calling a function that has default values\n",
    "print(multiply(2))\n",
    "print(multiply(2, 3))"
   ]
  },
  {
   "cell_type": "markdown",
   "metadata": {},
   "source": [
    "## Combining Functions with Control Flow"
   ]
  },
  {
   "cell_type": "code",
   "execution_count": 19,
   "metadata": {},
   "outputs": [],
   "source": [
    "# Defining a Function with a Conditional inside it\n",
    "def conditional_function(input_boolean):\n",
    "    \n",
    "    if input_boolean == True:\n",
    "        output = 'Yay!'\n",
    "    else:\n",
    "        output = 'Nay.'\n",
    "    \n",
    "    return output"
   ]
  },
  {
   "cell_type": "code",
   "execution_count": 20,
   "metadata": {},
   "outputs": [
    {
     "name": "stdout",
     "output_type": "stream",
     "text": [
      "Yay!\n"
     ]
    }
   ],
   "source": [
    "# Calling our function\n",
    "returned = conditional_function(True)\n",
    "print(returned)"
   ]
  },
  {
   "cell_type": "code",
   "execution_count": 21,
   "metadata": {},
   "outputs": [],
   "source": [
    "# Defining a Function with a Loop inside it\n",
    "def loop_function(my_list):\n",
    "    \n",
    "    new_list = []\n",
    "    for item in my_list:\n",
    "        temp = item + 1\n",
    "        new_list.append(temp)\n",
    "        \n",
    "    return new_list"
   ]
  },
  {
   "cell_type": "code",
   "execution_count": 22,
   "metadata": {},
   "outputs": [
    {
     "name": "stdout",
     "output_type": "stream",
     "text": [
      "[2, 3, 4]\n"
     ]
    }
   ],
   "source": [
    "# Calling our function\n",
    "out_list = loop_function([1, 2, 3])\n",
    "print(out_list)"
   ]
  },
  {
   "cell_type": "code",
   "execution_count": 23,
   "metadata": {},
   "outputs": [],
   "source": [
    "# Function with everything\n",
    "def busy_function(complex_list):\n",
    "    \"\"\"This function takes a complex list, and returns the numbers of booleans in the list.\"\"\"\n",
    "    \n",
    "    boolean_counter = 0\n",
    "    \n",
    "    for item in complex_list:\n",
    "        if item == True or item == False:\n",
    "            boolean_counter = boolean_counter + 1\n",
    "            \n",
    "    return boolean_counter"
   ]
  },
  {
   "cell_type": "code",
   "execution_count": 24,
   "metadata": {},
   "outputs": [
    {
     "data": {
      "text/plain": [
       "3"
      ]
     },
     "execution_count": 24,
     "metadata": {},
     "output_type": "execute_result"
    }
   ],
   "source": [
    "# Calling our function\n",
    "busy_function([True, 7.2, 'and', 13, False, '', None, 'word', True])"
   ]
  },
  {
   "cell_type": "markdown",
   "metadata": {},
   "source": [
    "## Errors"
   ]
  },
  {
   "cell_type": "code",
   "execution_count": 25,
   "metadata": {},
   "outputs": [
    {
     "ename": "ValueError",
     "evalue": "The value you gave is no good.",
     "output_type": "error",
     "traceback": [
      "\u001b[0;31m---------------------------------------------------------------------------\u001b[0m",
      "\u001b[0;31mValueError\u001b[0m                                Traceback (most recent call last)",
      "\u001b[0;32m<ipython-input-25-fe565c570232>\u001b[0m in \u001b[0;36m<module>\u001b[0;34m\u001b[0m\n\u001b[1;32m      1\u001b[0m \u001b[0;31m# Raise an error\u001b[0m\u001b[0;34m\u001b[0m\u001b[0;34m\u001b[0m\u001b[0;34m\u001b[0m\u001b[0m\n\u001b[0;32m----> 2\u001b[0;31m \u001b[0;32mraise\u001b[0m \u001b[0mValueError\u001b[0m\u001b[0;34m(\u001b[0m\u001b[0;34m'The value you gave is no good.'\u001b[0m\u001b[0;34m)\u001b[0m\u001b[0;34m\u001b[0m\u001b[0;34m\u001b[0m\u001b[0m\n\u001b[0m",
      "\u001b[0;31mValueError\u001b[0m: The value you gave is no good."
     ]
    }
   ],
   "source": [
    "# Raise an error\n",
    "raise ValueError('The value you gave is no good.')"
   ]
  },
  {
   "cell_type": "code",
   "execution_count": 26,
   "metadata": {},
   "outputs": [
    {
     "name": "stdout",
     "output_type": "stream",
     "text": [
      "Hmm. It seems that did not work.\n"
     ]
    }
   ],
   "source": [
    "# Try / Except\n",
    "try:\n",
    "    sum()\n",
    "except TypeError:\n",
    "    print('Hmm. It seems that did not work.')"
   ]
  },
  {
   "cell_type": "markdown",
   "metadata": {},
   "source": [
    "## Classes"
   ]
  },
  {
   "cell_type": "code",
   "execution_count": 27,
   "metadata": {},
   "outputs": [],
   "source": [
    "class Animal():\n",
    "    \n",
    "    # Create a class attribute\n",
    "    domain = 'eukaryota'\n",
    "\n",
    "    # Use init to define instance attributes\n",
    "    def __init__(self, sound):\n",
    "        self.sound = sound\n",
    "\n",
    "    # Define a class method\n",
    "    def speak(self):\n",
    "        print(self.sound)"
   ]
  },
  {
   "cell_type": "code",
   "execution_count": 28,
   "metadata": {},
   "outputs": [
    {
     "name": "stdout",
     "output_type": "stream",
     "text": [
      "woof\n"
     ]
    }
   ],
   "source": [
    "# Create an instance of our class\n",
    "gary = Animal('woof')\n",
    "gary.speak()"
   ]
  },
  {
   "cell_type": "markdown",
   "metadata": {},
   "source": [
    "### Class Inheritance"
   ]
  },
  {
   "cell_type": "code",
   "execution_count": 29,
   "metadata": {},
   "outputs": [],
   "source": [
    "class Monkey(Animal):\n",
    "    \n",
    "    def __init__(self, sound):\n",
    "        super().__init__(sound)\n",
    "        self.has_hands = True\n",
    "       \n",
    "    def check_hands(self):\n",
    "        if self.has_hands:\n",
    "            print('This animal has hands!')    "
   ]
  },
  {
   "cell_type": "code",
   "execution_count": 30,
   "metadata": {},
   "outputs": [
    {
     "name": "stdout",
     "output_type": "stream",
     "text": [
      "Monkey noise.\n",
      "This animal has hands!\n"
     ]
    }
   ],
   "source": [
    "# Create an instance of our derived\n",
    "jeff = Monkey('Monkey noise.')\n",
    "jeff.speak()\n",
    "jeff.check_hands()"
   ]
  }
 ],
 "metadata": {
  "kernelspec": {
   "display_name": "Python 3",
   "language": "python",
   "name": "python3"
  },
  "language_info": {
   "codemirror_mode": {
    "name": "ipython",
    "version": 3
   },
   "file_extension": ".py",
   "mimetype": "text/x-python",
   "name": "python",
   "nbconvert_exporter": "python",
   "pygments_lexer": "ipython3",
   "version": "3.7.9"
  }
 },
 "nbformat": 4,
 "nbformat_minor": 2
}
