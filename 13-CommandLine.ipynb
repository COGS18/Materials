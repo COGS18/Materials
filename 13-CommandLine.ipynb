{
 "cells": [
  {
   "cell_type": "markdown",
   "metadata": {
    "slideshow": {
     "slide_type": "slide"
    }
   },
   "source": [
    "# Command Line\n",
    "\n",
    "- command line & shell commands\n",
    "- file paths (absolute and relative)\n",
    "- scripts and modules"
   ]
  },
  {
   "cell_type": "markdown",
   "metadata": {
    "slideshow": {
     "slide_type": "fragment"
    }
   },
   "source": [
    "Jupyter Notebooks are a helpful tool, but they're _bulky_."
   ]
  },
  {
   "cell_type": "markdown",
   "metadata": {
    "slideshow": {
     "slide_type": "slide"
    }
   },
   "source": [
    "## File Systems"
   ]
  },
  {
   "cell_type": "markdown",
   "metadata": {
    "slideshow": {
     "slide_type": "-"
    }
   },
   "source": [
    "<div class=\"alert alert-success\">\n",
    "Computers use a hierarchical file systems that organizes files & folders.\n",
    "</div>"
   ]
  },
  {
   "cell_type": "markdown",
   "metadata": {
    "slideshow": {
     "slide_type": "fragment"
    }
   },
   "source": [
    "When you click through the folders (directories) on your computer, you're interacting with this hierarchical system."
   ]
  },
  {
   "cell_type": "markdown",
   "metadata": {
    "slideshow": {
     "slide_type": "slide"
    }
   },
   "source": [
    "## Command Line"
   ]
  },
  {
   "cell_type": "markdown",
   "metadata": {
    "slideshow": {
     "slide_type": "-"
    }
   },
   "source": [
    "<div class=\"alert alert-success\">\n",
    "A <b>command line interface</b> is a way to interact with a computer through written commands.\n",
    "</div>"
   ]
  },
  {
   "cell_type": "markdown",
   "metadata": {
    "slideshow": {
     "slide_type": "fragment"
    }
   },
   "source": [
    "The command line allows us to:\n",
    "\n",
    "- create files\n",
    "- edit files\n",
    "- run python scripts\n",
    "- etc.\n",
    "\n",
    "...without clicking on anything."
   ]
  },
  {
   "cell_type": "markdown",
   "metadata": {
    "slideshow": {
     "slide_type": "slide"
    }
   },
   "source": [
    "### The Terminal\n",
    "\n",
    "The **terminal** is where you can type these commands into the command line.\n",
    "\n",
    "Accessing the terminal...\n",
    "\n",
    "- possible on your computer\n",
    "- and on datahub"
   ]
  },
  {
   "cell_type": "markdown",
   "metadata": {
    "slideshow": {
     "slide_type": "slide"
    }
   },
   "source": [
    "### Shell Commands\n",
    "\n",
    "...can be run in the terminal _and_ Jupyter notebooks\n",
    "\n",
    "Do this by starting with `!`"
   ]
  },
  {
   "cell_type": "markdown",
   "metadata": {
    "slideshow": {
     "slide_type": "fragment"
    }
   },
   "source": [
    "#### Check current directory"
   ]
  },
  {
   "cell_type": "code",
   "execution_count": null,
   "metadata": {
    "slideshow": {
     "slide_type": "-"
    }
   },
   "outputs": [],
   "source": [
    "# print working directory\n",
    "!pwd"
   ]
  },
  {
   "cell_type": "markdown",
   "metadata": {
    "slideshow": {
     "slide_type": "slide"
    }
   },
   "source": [
    "## An important aside: File Paths"
   ]
  },
  {
   "cell_type": "markdown",
   "metadata": {
    "slideshow": {
     "slide_type": "-"
    }
   },
   "source": [
    "<div class=\"alert alert-success\">\n",
    "The specific location of a file or folder on your computer. </div>"
   ]
  },
  {
   "cell_type": "markdown",
   "metadata": {
    "slideshow": {
     "slide_type": "fragment"
    }
   },
   "source": [
    "When using a Graphical User Interface (GUI), you click on directories to access subdirectories and finally find the file you're interested in."
   ]
  },
  {
   "cell_type": "markdown",
   "metadata": {
    "slideshow": {
     "slide_type": "fragment"
    }
   },
   "source": [
    "When using the command line, you specify a file's path explicitly with text. "
   ]
  },
  {
   "cell_type": "markdown",
   "metadata": {
    "slideshow": {
     "slide_type": "slide"
    }
   },
   "source": [
    "### Absolute vs. Relative Paths\n",
    "\n",
    "The two ways to specify the path to your file of interest allow for flexibility in programming."
   ]
  },
  {
   "cell_type": "markdown",
   "metadata": {
    "slideshow": {
     "slide_type": "-"
    }
   },
   "source": [
    "#### Absolute Paths"
   ]
  },
  {
   "cell_type": "markdown",
   "metadata": {
    "slideshow": {
     "slide_type": "-"
    }
   },
   "source": [
    "<div class=\"alert alert-success\">\n",
    "<b>Absolute paths</b> specify the <b>full</b> path for a given file system (starting from the root directory). \n",
    "</div>"
   ]
  },
  {
   "cell_type": "markdown",
   "metadata": {
    "slideshow": {
     "slide_type": "fragment"
    }
   },
   "source": [
    "**root** specifies the 'highest' directory in the file structure (the start).\n",
    "\n",
    "An absolute file path starts with a slash `/` specifying the root directory.\n"
   ]
  },
  {
   "cell_type": "code",
   "execution_count": 1,
   "metadata": {
    "slideshow": {
     "slide_type": "-"
    }
   },
   "outputs": [
    {
     "name": "stdout",
     "output_type": "stream",
     "text": [
      "01-Introduction.ipynb 07-Collections.ipynb  A1-CodeStyle.ipynb\r\n",
      "02-Tooling.ipynb      08-Debugging.ipynb    A2-Syntax.ipynb\r\n",
      "03-Variables.ipynb    09-Loops.ipynb        A3-Examples.ipynb\r\n",
      "04-Operators.ipynb    10-Algorithms.ipynb   \u001b[34mCL-Answers\u001b[m\u001b[m\r\n",
      "05-Functions.ipynb    11-Methods.ipynb      \u001b[34mExam-Prep\u001b[m\u001b[m\r\n",
      "06-Conditionals.ipynb 12-Classes.ipynb      \u001b[34mimg\u001b[m\u001b[m\r\n"
     ]
    }
   ],
   "source": [
    "## absolute path\n",
    "## this is specific to my computer\n",
    "## look at the path output above for you computer\n",
    "!ls /Users/shannonellis/Desktop/Teaching/COGS18/LectureNotes-COGS18"
   ]
  },
  {
   "cell_type": "markdown",
   "metadata": {
    "slideshow": {
     "slide_type": "slide"
    }
   },
   "source": [
    "#### Relative Paths"
   ]
  },
  {
   "cell_type": "markdown",
   "metadata": {
    "slideshow": {
     "slide_type": "-"
    }
   },
   "source": [
    "<div class=\"alert alert-success\">\n",
    "<b>Relative paths</b> specify the path to a file from your <b>current working directory</b> (where your computer is working right now). \n",
    "</div>"
   ]
  },
  {
   "cell_type": "code",
   "execution_count": null,
   "metadata": {
    "slideshow": {
     "slide_type": "fragment"
    }
   },
   "outputs": [],
   "source": [
    "# remind us of our current working directory\n",
    "!pwd"
   ]
  },
  {
   "cell_type": "code",
   "execution_count": 3,
   "metadata": {
    "slideshow": {
     "slide_type": "fragment"
    }
   },
   "outputs": [
    {
     "name": "stdout",
     "output_type": "stream",
     "text": [
      "\u001b[34mCAPE\u001b[m\u001b[m       \u001b[34mChegg\u001b[m\u001b[m      \u001b[34mR\u001b[m\u001b[m          \u001b[34mclass_data\u001b[m\u001b[m\r\n"
     ]
    }
   ],
   "source": [
    "# relative path\n",
    "# this is specific to my computer\n",
    "!ls ../../COGS108"
   ]
  },
  {
   "cell_type": "markdown",
   "metadata": {
    "slideshow": {
     "slide_type": "fragment"
    }
   },
   "source": [
    "\n",
    "- `..` specify you want to move one directory up in your hierarchy\n",
    "- `COGS108/` specifies the path to the directory I want to list files in\n",
    "- each directory is separated with a slash (`/`)"
   ]
  },
  {
   "cell_type": "markdown",
   "metadata": {
    "slideshow": {
     "slide_type": "fragment"
    }
   },
   "source": [
    "This **relative** path does _not_ start with a leading slash (b/c it's not an absolute path)."
   ]
  },
  {
   "cell_type": "markdown",
   "metadata": {
    "slideshow": {
     "slide_type": "slide"
    }
   },
   "source": [
    "#### Clicker Question #1\n",
    "\n",
    "Given the following file structure: \n",
    "\n",
    "- `/`\n",
    "    - `scripts/`\n",
    "        - cool_thing.py\n",
    "        - super_cool_thing.py\n",
    "    - `images/`\n",
    "        - image1.png\n",
    "        - image2.png\n",
    "    - `notebooks/`\n",
    "        - 00_intro.ipynb\n",
    "        - 01_variables.ipynb\n",
    "    \n",
    "\n",
    "If your current working directory is `notebooks`, what is the **absolute path** to `cool_thing.py`?\n",
    "\n",
    "- A) `/scripts/cool_thing.py`\n",
    "- B) `scripts/cool_thing.py`\n",
    "- C) `cool_thing.py`\n",
    "- D) `../scripts/cool_thing.py`\n",
    "- E) ¯\\\\\\_(ツ)\\_/¯"
   ]
  },
  {
   "cell_type": "markdown",
   "metadata": {
    "slideshow": {
     "slide_type": "slide"
    }
   },
   "source": [
    "#### Clicker Question #2\n",
    "\n",
    "Given the same file structure: \n",
    "\n",
    "- `/`\n",
    "    - `scripts/`\n",
    "        - cool_thing.py\n",
    "        - super_cool_thing.py\n",
    "    - `images/`\n",
    "        - image1.png\n",
    "        - image2.png\n",
    "    - `notebooks/`\n",
    "        - 00_intro.ipynb\n",
    "        - 01_variables.ipynb\n",
    "    \n",
    "\n",
    "If your current working directory is `notebooks`, what is the **relative path** to `cool_thing.py`?\n",
    "\n",
    "- A) `/notebooks/../scripts/cool_thing.py`\n",
    "- B) `scripts/cool_thing.py`\n",
    "- C) `/scripts/cool_thing.py`\n",
    "- D) `../scripts/cool_thing.py`\n",
    "- E) ¯\\\\\\_(ツ)\\_/¯"
   ]
  },
  {
   "cell_type": "markdown",
   "metadata": {
    "slideshow": {
     "slide_type": "slide"
    }
   },
   "source": [
    "### Shell Commands\n",
    "\n",
    "...can be run in the terminal _and_ Jupyter notebooks"
   ]
  },
  {
   "cell_type": "markdown",
   "metadata": {
    "slideshow": {
     "slide_type": "fragment"
    }
   },
   "source": [
    "#### Check current directory"
   ]
  },
  {
   "cell_type": "code",
   "execution_count": null,
   "metadata": {
    "slideshow": {
     "slide_type": "fragment"
    }
   },
   "outputs": [],
   "source": [
    "# print working directory\n",
    "!pwd"
   ]
  },
  {
   "cell_type": "markdown",
   "metadata": {
    "slideshow": {
     "slide_type": "fragment"
    }
   },
   "source": [
    "#### Change directory"
   ]
  },
  {
   "cell_type": "code",
   "execution_count": null,
   "metadata": {
    "slideshow": {
     "slide_type": "fragment"
    }
   },
   "outputs": [],
   "source": [
    "# change directory \n",
    "!cd ~/ "
   ]
  },
  {
   "cell_type": "markdown",
   "metadata": {
    "slideshow": {
     "slide_type": "-"
    }
   },
   "source": [
    "Here, we saw `~/`. \n",
    "\n",
    "- `~` specifies the user's home directory of your computer\n",
    "- each directory is separated with a slash (`/`)"
   ]
  },
  {
   "cell_type": "markdown",
   "metadata": {
    "slideshow": {
     "slide_type": "slide"
    }
   },
   "source": [
    "#### List files in a directory"
   ]
  },
  {
   "cell_type": "code",
   "execution_count": null,
   "metadata": {
    "scrolled": true,
    "slideshow": {
     "slide_type": "fragment"
    }
   },
   "outputs": [],
   "source": [
    "# list files (list segments)\n",
    "!ls"
   ]
  },
  {
   "cell_type": "markdown",
   "metadata": {
    "slideshow": {
     "slide_type": "slide"
    }
   },
   "source": [
    "### More Shell Commands"
   ]
  },
  {
   "cell_type": "markdown",
   "metadata": {
    "slideshow": {
     "slide_type": "fragment"
    }
   },
   "source": [
    "#### Make a new directory"
   ]
  },
  {
   "cell_type": "code",
   "execution_count": null,
   "metadata": {
    "slideshow": {
     "slide_type": "fragment"
    }
   },
   "outputs": [],
   "source": [
    "# make directory \n",
    "!mkdir dir_name"
   ]
  },
  {
   "cell_type": "markdown",
   "metadata": {
    "slideshow": {
     "slide_type": "fragment"
    }
   },
   "source": [
    "#### Create a file"
   ]
  },
  {
   "cell_type": "code",
   "execution_count": null,
   "metadata": {
    "slideshow": {
     "slide_type": "fragment"
    }
   },
   "outputs": [],
   "source": [
    "# create an empty file\n",
    "!touch new_file.py "
   ]
  },
  {
   "cell_type": "markdown",
   "metadata": {
    "slideshow": {
     "slide_type": "fragment"
    }
   },
   "source": [
    "#### Move a file"
   ]
  },
  {
   "cell_type": "code",
   "execution_count": null,
   "metadata": {
    "slideshow": {
     "slide_type": "fragment"
    }
   },
   "outputs": [],
   "source": [
    "# move file\n",
    "# notice the relative file path\n",
    "!mv new_file.py dir_name/"
   ]
  },
  {
   "cell_type": "markdown",
   "metadata": {
    "slideshow": {
     "slide_type": "slide"
    }
   },
   "source": [
    "### And Some More"
   ]
  },
  {
   "cell_type": "markdown",
   "metadata": {
    "slideshow": {
     "slide_type": "fragment"
    }
   },
   "source": [
    "#### Print out a message"
   ]
  },
  {
   "cell_type": "code",
   "execution_count": null,
   "metadata": {
    "slideshow": {
     "slide_type": "fragment"
    }
   },
   "outputs": [],
   "source": [
    "!echo Hello World!"
   ]
  },
  {
   "cell_type": "markdown",
   "metadata": {
    "slideshow": {
     "slide_type": "fragment"
    }
   },
   "source": [
    "#### Print the contents of a file"
   ]
  },
  {
   "cell_type": "code",
   "execution_count": null,
   "metadata": {
    "slideshow": {
     "slide_type": "fragment"
    }
   },
   "outputs": [],
   "source": [
    "!cat dir_name/new_file.py"
   ]
  },
  {
   "cell_type": "markdown",
   "metadata": {
    "slideshow": {
     "slide_type": "notes"
    }
   },
   "source": [
    "#### Open to see and edit contents of a file"
   ]
  },
  {
   "cell_type": "code",
   "execution_count": null,
   "metadata": {
    "slideshow": {
     "slide_type": "notes"
    }
   },
   "outputs": [],
   "source": [
    "# will not work on datahub\n",
    "!open dir_name/new_file.py"
   ]
  },
  {
   "cell_type": "markdown",
   "metadata": {
    "slideshow": {
     "slide_type": "slide"
    }
   },
   "source": [
    "#### Clicker Question #3\n",
    "\n",
    "Which is the best description of the following command:\n",
    "    \n",
    "`ls -l`\n",
    "\n",
    "- A) `ls -l` is most analogous to a class in Python\n",
    "- B) The whole `ls -l` is like a function call\n",
    "- C) `-l` is analogous to a function call, and `ls` is like a parameter\n",
    "- D) `ls` is analogous to a function, and `-l` is like a parameter\n",
    "- E) There is no clear analogy here to Python"
   ]
  },
  {
   "cell_type": "code",
   "execution_count": null,
   "metadata": {
    "slideshow": {
     "slide_type": "-"
    }
   },
   "outputs": [],
   "source": [
    "## test out here"
   ]
  },
  {
   "cell_type": "markdown",
   "metadata": {
    "slideshow": {
     "slide_type": "slide"
    }
   },
   "source": [
    "#### Clicker Question #4\n",
    "\n",
    "Which creates a file?     \n",
    "   \n",
    "- A) `mkdir`\n",
    "- B) `pwd`\n",
    "- C) `cd`\n",
    "- D) `touch`\n",
    "- E) `cat`"
   ]
  },
  {
   "cell_type": "markdown",
   "metadata": {
    "slideshow": {
     "slide_type": "slide"
    }
   },
   "source": [
    "## Windows Command Prompt\n",
    "\n",
    "Some commands are slightly different if you are using windows command prompt:\n",
    "\n",
    "- `dir` : lists files in current directory\n",
    "- `move` : moves a file\n",
    "- `copy` : copies a file\n",
    "- `rename` : renames a file\n",
    "- `type` : can be used to print out a file\n",
    "    \n",
    "Note that `pwd`, `cd`, `mkdir`, `echo` are all the same in Windows command prompt.\n",
    "\n",
    "If you want to make a new empty file, you can do:\n",
    "\n",
    "`'' > my_file.py`\n",
    "\n",
    "^This construction puts an empty string into a file. If the filename is not found, it will create a new (empty) file."
   ]
  },
  {
   "cell_type": "markdown",
   "metadata": {
    "slideshow": {
     "slide_type": "slide"
    }
   },
   "source": [
    "## Python Files"
   ]
  },
  {
   "cell_type": "markdown",
   "metadata": {
    "slideshow": {
     "slide_type": "fragment"
    }
   },
   "source": [
    "<div class=\"alert alert-success\">\n",
    "Python files are plain-text files, with Python code in them, that can be executed and/or imported from.\n",
    "</div>"
   ]
  },
  {
   "cell_type": "markdown",
   "metadata": {
    "slideshow": {
     "slide_type": "slide"
    }
   },
   "source": [
    "### Script vs. Module File"
   ]
  },
  {
   "cell_type": "markdown",
   "metadata": {
    "slideshow": {
     "slide_type": "fragment"
    }
   },
   "source": [
    "### Scripts"
   ]
  },
  {
   "cell_type": "markdown",
   "metadata": {
    "slideshow": {
     "slide_type": "fragment"
    }
   },
   "source": [
    "<div class=\"alert alert-success\">\n",
    "A <b>script</b> is a Python file that can be run to execute a particular task. \n",
    "</div>"
   ]
  },
  {
   "cell_type": "markdown",
   "metadata": {
    "slideshow": {
     "slide_type": "fragment"
    }
   },
   "source": [
    "### Module Files"
   ]
  },
  {
   "cell_type": "markdown",
   "metadata": {
    "slideshow": {
     "slide_type": "fragment"
    }
   },
   "source": [
    "<div class=\"alert alert-success\">\n",
    "A <b>module</b> file is a file with Python code (typically functions & classes) that we can import and use.\n",
    "</div>"
   ]
  },
  {
   "cell_type": "markdown",
   "metadata": {
    "slideshow": {
     "slide_type": "fragment"
    }
   },
   "source": [
    "Remember: if you're writing code, you cannot just click through to the file you want. You need to specify _using code_ where the file you want is. \n",
    "\n",
    "This is where understanding file paths is critically important."
   ]
  },
  {
   "cell_type": "markdown",
   "metadata": {
    "slideshow": {
     "slide_type": "slide"
    }
   },
   "source": [
    "## Text Editors"
   ]
  },
  {
   "cell_type": "markdown",
   "metadata": {
    "slideshow": {
     "slide_type": "fragment"
    }
   },
   "source": [
    "<div class=\"alert alert-success\">\n",
    "Text-editors are programs made for editing text. Many text-editors are designed for writing code specifically. \n",
    "</div>"
   ]
  },
  {
   "cell_type": "markdown",
   "metadata": {
    "slideshow": {
     "slide_type": "notes"
    }
   },
   "source": [
    "### Terminal Based Text Editors\n",
    "\n",
    "There are text editors designed to be used within a terminal, such as `vim`, `emacs`, or `nano`. "
   ]
  },
  {
   "cell_type": "markdown",
   "metadata": {
    "slideshow": {
     "slide_type": "notes"
    }
   },
   "source": [
    "#### vim\n",
    "\n",
    "`vim` is a terminal based text-editor. Type `vim filename` in command line to open a file in vim. \n",
    "\n",
    "`vim` has different modes:\n",
    "\n",
    "- click `escape` + `i` to enter edit mode (insert mode). \n",
    "    - This will let you write text / code into the file\n",
    "- To escape vim, press `escape` then type `:wq` and enter to save and quit vim\n",
    "    - If you want to exit without saving, you can do `:!q` to force quit without saving"
   ]
  },
  {
   "cell_type": "markdown",
   "metadata": {
    "slideshow": {
     "slide_type": "fragment"
    }
   },
   "source": [
    "### Non-Terminal Text Editors\n",
    "\n",
    "For writing code (outside of notebooks and the terminal), you probably want a code focused stand-alone text editor, like `Sublime`."
   ]
  },
  {
   "cell_type": "markdown",
   "metadata": {
    "slideshow": {
     "slide_type": "slide"
    }
   },
   "source": [
    "## Executing Python Files"
   ]
  },
  {
   "cell_type": "markdown",
   "metadata": {
    "slideshow": {
     "slide_type": "fragment"
    }
   },
   "source": [
    "From the command line, you can execute a Python script using the `python` command:\n",
    "\n",
    "`python dir_name/new_file.py`"
   ]
  },
  {
   "cell_type": "markdown",
   "metadata": {
    "slideshow": {
     "slide_type": "slide"
    }
   },
   "source": [
    "#### Clicker Question #5\n",
    "\n",
    "To create a file and see its contents, which command line commands would you use (and in which order)?    \n",
    "   \n",
    "- A) `mkdir` > `cd`\n",
    "- B) `pwd` > `ls`\n",
    "- C) `cd` > `pwd`\n",
    "- D) `touch` > `cat`\n",
    "- E) `cat` > `touch`"
   ]
  },
  {
   "cell_type": "markdown",
   "metadata": {
    "slideshow": {
     "slide_type": "slide"
    }
   },
   "source": [
    "#### Clicker Question #6\n",
    "\n",
    "Given the file structure from earlier: \n",
    "\n",
    "- `/`\n",
    "    - `scripts/`\n",
    "        - cool_thing.py\n",
    "        - super_cool_thing.py\n",
    "    - `images/`\n",
    "        - image1.png\n",
    "        - image2.png\n",
    "    - `notebooks/`\n",
    "        - 00_intro.ipynb\n",
    "        - 01_variables.ipynb\n",
    "\n",
    "Your currently working within `notebooks` and you want to execute the code in 'cool_thing.py' from the command line. How would you do that?\n",
    "\n",
    "\n",
    "- A) `python cool_thing.py` \n",
    "- B) `python ../notebooks/cool_thing.py` \n",
    "- C) `python ../scripts/cool_thing.py` \n",
    "- D) `python ../cool_thing.py` \n",
    "- E) ¯\\\\\\_(ツ)\\_/¯ "
   ]
  }
 ],
 "metadata": {
  "celltoolbar": "Slideshow",
  "kernelspec": {
   "display_name": "Python 3 (ipykernel)",
   "language": "python",
   "name": "python3"
  },
  "language_info": {
   "codemirror_mode": {
    "name": "ipython",
    "version": 3
   },
   "file_extension": ".py",
   "mimetype": "text/x-python",
   "name": "python",
   "nbconvert_exporter": "python",
   "pygments_lexer": "ipython3",
   "version": "3.9.7"
  },
  "rise": {
   "scroll": true
  }
 },
 "nbformat": 4,
 "nbformat_minor": 2
}
