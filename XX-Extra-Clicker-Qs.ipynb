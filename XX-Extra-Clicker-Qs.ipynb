{
 "cells": [
  {
   "cell_type": "markdown",
   "metadata": {
    "slideshow": {
     "slide_type": "slide"
    }
   },
   "source": [
    "### Clicker Warmpup #1\n",
    "\n",
    "What will be the output of this code?"
   ]
  },
  {
   "cell_type": "code",
   "execution_count": 2,
   "metadata": {
    "slideshow": {
     "slide_type": "fragment"
    }
   },
   "outputs": [
    {
     "name": "stdout",
     "output_type": "stream",
     "text": [
      "2\n"
     ]
    }
   ],
   "source": [
    "lst = [0, 1, 2, 3]\n",
    "\n",
    "my_val = 0\n",
    "\n",
    "for item in lst:\n",
    "    \n",
    "    if item == 2:\n",
    "        print(item)\n",
    "        break\n",
    "    elif item == 4:\n",
    "        my_val = my_val + 1\n",
    "    else:\n",
    "        continue"
   ]
  },
  {
   "cell_type": "markdown",
   "metadata": {
    "slideshow": {
     "slide_type": "fragment"
    }
   },
   "source": [
    "- A) 0, 1, 2\n",
    "- B) 0, 1, 2, 3\n",
    "- C) 2\n",
    "- D) False, False, True\n",
    "- E) False, False, True, True"
   ]
  },
  {
   "cell_type": "markdown",
   "metadata": {
    "slideshow": {
     "slide_type": "slide"
    }
   },
   "source": [
    "### Clicker Warmup #2\n",
    "\n",
    "What is the length of `my_dict`? "
   ]
  },
  {
   "cell_type": "code",
   "execution_count": 4,
   "metadata": {
    "slideshow": {
     "slide_type": "fragment"
    }
   },
   "outputs": [
    {
     "data": {
      "text/plain": [
       "3"
      ]
     },
     "execution_count": 4,
     "metadata": {},
     "output_type": "execute_result"
    }
   ],
   "source": [
    "my_dict = {'member_1' : 'Jane', 'member_2' : 'Allie', 'member_3' : 'Antonio'}\n",
    "len(my_dict)"
   ]
  },
  {
   "cell_type": "markdown",
   "metadata": {
    "slideshow": {
     "slide_type": "fragment"
    }
   },
   "source": [
    "- A) 1\n",
    "- B) 2\n",
    "- C) 3\n",
    "- D) 6"
   ]
  },
  {
   "cell_type": "markdown",
   "metadata": {
    "slideshow": {
     "slide_type": "slide"
    }
   },
   "source": [
    "### Clicker Warmup #3\n",
    "\n",
    "When executed, what would be the output of the following code?"
   ]
  },
  {
   "cell_type": "code",
   "execution_count": 1,
   "metadata": {
    "scrolled": true,
    "slideshow": {
     "slide_type": "fragment"
    }
   },
   "outputs": [
    {
     "ename": "TypeError",
     "evalue": "'tuple' object does not support item assignment",
     "output_type": "error",
     "traceback": [
      "\u001b[0;31m---------------------------------------------------------------------------\u001b[0m",
      "\u001b[0;31mTypeError\u001b[0m                                 Traceback (most recent call last)",
      "\u001b[0;32m<ipython-input-1-2712cf662cb8>\u001b[0m in \u001b[0;36m<module>\u001b[0;34m()\u001b[0m\n\u001b[1;32m      1\u001b[0m \u001b[0mlots_of_items\u001b[0m \u001b[0;34m=\u001b[0m\u001b[0;34m(\u001b[0m\u001b[0;36m1\u001b[0m\u001b[0;34m,\u001b[0m\u001b[0;36m2\u001b[0m\u001b[0;34m,\u001b[0m\u001b[0;36m4\u001b[0m\u001b[0;34m,\u001b[0m\u001b[0;36m5\u001b[0m\u001b[0;34m,\u001b[0m\u001b[0;36m6\u001b[0m\u001b[0;34m,\u001b[0m\u001b[0;36m7\u001b[0m\u001b[0;34m,\u001b[0m\u001b[0;36m9\u001b[0m\u001b[0;34m,\u001b[0m\u001b[0;36m11\u001b[0m\u001b[0;34m)\u001b[0m\u001b[0;34m\u001b[0m\u001b[0;34m\u001b[0m\u001b[0m\n\u001b[0;32m----> 2\u001b[0;31m \u001b[0mlots_of_items\u001b[0m\u001b[0;34m[\u001b[0m\u001b[0;36m5\u001b[0m\u001b[0;34m]\u001b[0m \u001b[0;34m=\u001b[0m \u001b[0;34m'string'\u001b[0m\u001b[0;34m\u001b[0m\u001b[0;34m\u001b[0m\u001b[0m\n\u001b[0m\u001b[1;32m      3\u001b[0m \u001b[0mprint\u001b[0m\u001b[0;34m(\u001b[0m\u001b[0mlots_of_items\u001b[0m\u001b[0;34m[\u001b[0m\u001b[0;36m5\u001b[0m\u001b[0;34m]\u001b[0m\u001b[0;34m)\u001b[0m\u001b[0;34m\u001b[0m\u001b[0;34m\u001b[0m\u001b[0m\n",
      "\u001b[0;31mTypeError\u001b[0m: 'tuple' object does not support item assignment"
     ]
    }
   ],
   "source": [
    "lots_of_items =(1,2,4,5,6,7,9,11)\n",
    "lots_of_items[5] = 'string'\n",
    "print(lots_of_items[5])"
   ]
  },
  {
   "cell_type": "markdown",
   "metadata": {
    "slideshow": {
     "slide_type": "fragment"
    }
   },
   "source": [
    "- A) 5\n",
    "- B) 6\n",
    "- C) 7\n",
    "- D) string\n",
    "- E) TypeError"
   ]
  },
  {
   "cell_type": "markdown",
   "metadata": {
    "slideshow": {
     "slide_type": "slide"
    }
   },
   "source": [
    "### A4: Artificial Agents \n",
    "\n",
    "Creating multiple bots that move: \n",
    "\n",
    "- randomly\n",
    "- with a purpose\n",
    "- teleport"
   ]
  },
  {
   "cell_type": "markdown",
   "metadata": {
    "slideshow": {
     "slide_type": "slide"
    }
   },
   "source": [
    "### Clicker Question \n",
    "\n",
    "How much work have you done on A4?\n",
    "\n",
    "- A) Haven't looked at it at all\n",
    "- B) Had a look, haven't started\n",
    "- C) A little\n",
    "- D) A Fair amount\n",
    "- E) Most or all of it"
   ]
  },
  {
   "cell_type": "markdown",
   "metadata": {
    "slideshow": {
     "slide_type": "slide"
    }
   },
   "source": [
    "### Review Question #1\n",
    "\n",
    "After executing the following code, which of the following statements is NOT true?"
   ]
  },
  {
   "cell_type": "code",
   "execution_count": null,
   "metadata": {
    "slideshow": {
     "slide_type": "fragment"
    }
   },
   "outputs": [],
   "source": [
    "from datetime import date\n",
    "\n",
    "my_date = date(year = 1988, month = 9, day = 29)\n",
    "my_year = my_date.year\n",
    "my_weekday = my_date.weekday()"
   ]
  },
  {
   "cell_type": "markdown",
   "metadata": {
    "slideshow": {
     "slide_type": "fragment"
    }
   },
   "source": [
    "- A) `my_date`, `my_year`, and `my_weekday` are all objects\n",
    "- B) `my_weekday` is a date type object\n",
    "- C) `year` is an attribute stored in date type objects\n",
    "- D) `weekday` is a method available for date type objects\n",
    "- E) `type(my_date)` would return 'datetime.date'"
   ]
  },
  {
   "cell_type": "markdown",
   "metadata": {
    "slideshow": {
     "slide_type": "slide"
    }
   },
   "source": [
    "### Review Question #2\n",
    "\n",
    "After executing the code below, which of the following options would output `True`?\n"
   ]
  },
  {
   "cell_type": "code",
   "execution_count": 18,
   "metadata": {
    "slideshow": {
     "slide_type": "fragment"
    }
   },
   "outputs": [
    {
     "name": "stdout",
     "output_type": "stream",
     "text": [
      "8 9\n"
     ]
    }
   ],
   "source": [
    "def exponentiate(number, exponent = 2):    \n",
    "    return number ** exponent\n",
    "\n",
    "a = exponentiate(exponent = 3, number = 2)\n",
    "b = exponentiate(3)\n",
    "\n",
    "print(a,b)"
   ]
  },
  {
   "cell_type": "markdown",
   "metadata": {
    "slideshow": {
     "slide_type": "fragment"
    }
   },
   "source": [
    "- A) `a == b`\n",
    "- B) `a < b`\n",
    "- C) `a > b`\n",
    "- D) This would produce an error.\n"
   ]
  },
  {
   "cell_type": "code",
   "execution_count": 17,
   "metadata": {
    "slideshow": {
     "slide_type": "fragment"
    }
   },
   "outputs": [
    {
     "name": "stdout",
     "output_type": "stream",
     "text": [
      "False\n",
      "True\n",
      "False\n"
     ]
    }
   ],
   "source": [
    "print( a == b)\n",
    "print( a < b )\n",
    "print(a > b)"
   ]
  },
  {
   "cell_type": "markdown",
   "metadata": {
    "slideshow": {
     "slide_type": "slide"
    }
   },
   "source": [
    "## Clicker Warm Up\n",
    "\n",
    "Define a function `add_then_multiply` that takes three inputs, assumed to be numbers, adds the first two inputs together and then multiplies that sum by the third input. Return the output.\n",
    "\n",
    "- A) I did it!\n",
    "- B) I think I did it!\n",
    "- C) I'm stuck."
   ]
  },
  {
   "cell_type": "code",
   "execution_count": 1,
   "metadata": {},
   "outputs": [],
   "source": [
    "### YOUR CODE HERE"
   ]
  },
  {
   "cell_type": "code",
   "execution_count": null,
   "metadata": {
    "slideshow": {
     "slide_type": "fragment"
    }
   },
   "outputs": [],
   "source": [
    "any elements of the list that are even. Return the value of all the even numbers multiplied together.\n",
    "\n",
    "A) I did it!\n",
    "B) I think I did it!\n",
    "C) I'm stuck.\n",
    "iclicker Frequency code: CA\n",
    "\n",
    "Slide Type\n",
    "## YOUR CODE HERE\n",
    "# def function\n",
    "def conditional_multiply (num_list):\n",
    "    multiply = 1\n",
    "    for each_num in num_list:\n",
    "        if each_num % 2 == 0:\n",
    "            multiply = multiply * each_num\n",
    "    return multiply\n",
    "​\n",
    "conditional_multiply([1,2,4,5,7,9])\n",
    "8\n",
    "# sample answer\n",
    "def add_then_multiply(num1, num2, num3):\n",
    "    return (num1 + num2)*num3\n",
    "\n",
    "add_then_multiply(2, 3, 8)"
   ]
  },
  {
   "cell_type": "markdown",
   "metadata": {},
   "source": [
    "## Clicker Warm Up\n",
    "\n",
    "Create a class called `Basketball` with two instance attributes: `team` and `city`. \n",
    "\n",
    "Within Basketball, include a method (`make_prof_feel_better`) that returns \"The Sixers got robbed!\" if `team` is '76ers' or `city` is 'Philly' and \"Kawhi Leonard\\'s buzzer beater was sick.\" otherwise.\n",
    "\n",
    "- A) I did it!\n",
    "- B) I think I did it!\n",
    "- C) I'm stuck.\n",
    "\n",
    "iclicker Frequency Code: CA"
   ]
  },
  {
   "cell_type": "code",
   "execution_count": null,
   "metadata": {},
   "outputs": [],
   "source": [
    "class Basketball():\n",
    "    \n",
    "    def __init__(self, team = None, city = None):\n",
    "        self.team = team\n",
    "        self.city = city\n",
    "    \n",
    "    def make_prof_feel_better(self):\n",
    "        if self.team == '76ers' or self.city == 'Philly':\n",
    "            return 'The Sixers got robbed!'\n",
    "        else:\n",
    "            return 'Kawhi Leonard\\'s buzzer beater was sick.'"
   ]
  },
  {
   "cell_type": "markdown",
   "metadata": {
    "slideshow": {
     "slide_type": "slide"
    }
   },
   "source": [
    "## Clicker Warm Up\n",
    "\n",
    "Write a test function that checks the following piece of code:\n",
    "\n",
    "- A) I did it!\n",
    "- B) I think I did it!\n",
    "- C) I'm lost."
   ]
  },
  {
   "cell_type": "code",
   "execution_count": 2,
   "metadata": {
    "slideshow": {
     "slide_type": "fragment"
    }
   },
   "outputs": [
    {
     "data": {
      "text/plain": [
       "10"
      ]
     },
     "execution_count": 2,
     "metadata": {},
     "output_type": "execute_result"
    }
   ],
   "source": [
    "def sum_list(input_list):\n",
    "    \"\"\"add all values in a list - return sum\"\"\"\n",
    "    \n",
    "    output = 0\n",
    "    \n",
    "    for val in input_list:\n",
    "        output += val\n",
    "        \n",
    "    return output\n",
    "\n",
    "sum_list([1, 2, 3, 4])"
   ]
  },
  {
   "cell_type": "code",
   "execution_count": 9,
   "metadata": {
    "slideshow": {
     "slide_type": "fragment"
    }
   },
   "outputs": [],
   "source": [
    "Slide Type\n",
    "Clicker Warm Up\n",
    "Edit this code for code style! How many things did you change?\n",
    "\n",
    "A) 0 | B) 1-2 | C) 3-4 | D) 5-6 | E) 7+\n",
    "\n",
    "Slide Type\n",
    "def Calc(s):\n",
    "    tot = 0\n",
    "    not_tot = 0\n",
    "    for val in s:\n",
    "        if val % 2 == 0:\n",
    "            tot += val \n",
    "        else:\n",
    "            not_tot += val\n",
    "    return tot, not_tot\n",
    "Slide Type\n",
    "Calc([2,4,5,6,7])\n",
    "(12, 12)\n",
    "Slide Type\n",
    "# see documentation\n",
    "# Calc?\n",
    "### YOUR TEST\n",
    "def test_sum_list():\n",
    "    \"\"\"test function for sum_list\"\"\"\n",
    "    \n",
    "    # write multiple asserts\n",
    "    assert sum_list([1, 2, 3, 4]) == 10\n",
    "    \n",
    "test_sum_list()"
   ]
  },
  {
   "cell_type": "markdown",
   "metadata": {
    "slideshow": {
     "slide_type": "fragment"
    }
   },
   "source": [
    "## Clicker Warm Up #1\n",
    "\n",
    "**Debugging a function**\n",
    "\n",
    "You want to write a function that returns the keys from a dictionary in a list. You want these keys to be sorted (either numerically or alphabetically), with the option to reverse the order. Your first attempt at writing this function is below...\n",
    "\n",
    "Think through the logic of this code or run the code for the following function in your notebook. Think about how you would go about editing/testing this code so that it will (1) execute and (2) do what you want."
   ]
  },
  {
   "cell_type": "code",
   "execution_count": null,
   "metadata": {
    "slideshow": {
     "slide_type": "fragment"
    }
   },
   "outputs": [],
   "source": [
    "def sort_keys(dictionary, reverse_it = False):\n",
    "    \n",
    "    keys = dictionary.get.keys()\n",
    "    sorted_keys = sorted(keys, reverse = False)\n",
    "\n",
    "    return sorted_keys"
   ]
  },
  {
   "cell_type": "markdown",
   "metadata": {
    "slideshow": {
     "slide_type": "fragment"
    }
   },
   "source": [
    "- A) I have a plan!\n",
    "- B) I think I've got a plan!\n",
    "- C) I'm stuck.\n",
    "\n",
    "iclicker Frequency Code: CA"
   ]
  },
  {
   "cell_type": "markdown",
   "metadata": {
    "slideshow": {
     "slide_type": "slide"
    }
   },
   "source": [
    "## Clicker Warm Up #2\n",
    "\n",
    "Create a class called `Football` with two instance attributes: `team` and `location`. \n",
    "\n",
    "Within `Football`, include a method (`speak_truths`) that returns \"The Patriots lost to the Ravens!\" if `team` is 'Patriots' or `location` is 'New England' and \"Nobody likes the Patriots.\" otherwise.\n",
    "\n",
    "- A) I did it!\n",
    "- B) I think I did it!\n",
    "- C) I'm stuck."
   ]
  },
  {
   "cell_type": "code",
   "execution_count": null,
   "metadata": {
    "slideshow": {
     "slide_type": "-"
    }
   },
   "outputs": [],
   "source": [
    "## YOUR CODE HERE"
   ]
  },
  {
   "cell_type": "code",
   "execution_count": null,
   "metadata": {
    "slideshow": {
     "slide_type": "fragment"
    }
   },
   "outputs": [],
   "source": [
    "class Football():\n",
    "    \n",
    "    def __init__(self, team = None, location = None):\n",
    "        self.team = team\n",
    "        self.location = location\n",
    "    \n",
    "    def speak_truths(self):\n",
    "        if self.team == 'Patriots' or self.location == 'New England':\n",
    "            return 'The Patriots lost to the Ravens!'\n",
    "        else:\n",
    "            return 'Nobody likes the Patriots.'"
   ]
  },
  {
   "cell_type": "code",
   "execution_count": null,
   "metadata": {
    "slideshow": {
     "slide_type": "fragment"
    }
   },
   "outputs": [],
   "source": [
    "Football(team='Patriots').speak_truths()"
   ]
  },
  {
   "cell_type": "code",
   "execution_count": null,
   "metadata": {},
   "outputs": [],
   "source": []
  }
 ],
 "metadata": {
  "kernelspec": {
   "display_name": "Python 3",
   "language": "python",
   "name": "python3"
  },
  "language_info": {
   "codemirror_mode": {
    "name": "ipython",
    "version": 3
   },
   "file_extension": ".py",
   "mimetype": "text/x-python",
   "name": "python",
   "nbconvert_exporter": "python",
   "pygments_lexer": "ipython3",
   "version": "3.7.0"
  }
 },
 "nbformat": 4,
 "nbformat_minor": 2
}
